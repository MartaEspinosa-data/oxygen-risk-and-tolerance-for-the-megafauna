{
 "cells": [
  {
   "cell_type": "code",
   "execution_count": null,
   "metadata": {
    "application/vnd.databricks.v1+cell": {
     "cellMetadata": {
      "byteLimit": 2048000,
      "rowLimit": 10000
     },
     "inputWidgets": {},
     "nuid": "70e94ef8-e91c-4eb5-b0fd-4e1a22848da9",
     "showTitle": false,
     "title": ""
    }
   },
   "outputs": [],
   "source": [
    "from pyspark.sql.functions import col, count, when, mean, expr, array, explode, lit, stddev,sum as _sum, log\n",
    "from pyspark.sql.types import IntegerType, FloatType, DoubleType, StringType\n",
    "from pyspark.sql.functions import to_timestamp, substring, concat_ws, to_date\n",
    "from pyspark.sql.functions import mean, stddev, count\n",
    "import matplotlib.pyplot as plt\n",
    "import seaborn as sns"
   ]
  },
  {
   "cell_type": "code",
   "execution_count": null,
   "metadata": {
    "application/vnd.databricks.v1+cell": {
     "cellMetadata": {
      "byteLimit": 2048000,
      "rowLimit": 10000
     },
     "inputWidgets": {},
     "nuid": "8ffd263f-7c63-4a65-b57f-57ba217aede6",
     "showTitle": false,
     "title": ""
    }
   },
   "outputs": [],
   "source": [
    "clientID = dbutils.secrets.get(scope = \"key-vault-scope\", key = \"ClientID\")\n",
    "secret = dbutils.secrets.get(scope = \"key-vault-scope\", key = \"secret\")\n",
    "tenant = dbutils.secrets.get(scope = \"key-vault-scope\", key = \"tenant\")"
   ]
  },
  {
   "cell_type": "code",
   "execution_count": null,
   "metadata": {
    "application/vnd.databricks.v1+cell": {
     "cellMetadata": {
      "byteLimit": 2048000,
      "rowLimit": 10000
     },
     "inputWidgets": {},
     "nuid": "1599723f-b60c-4bfc-8f20-7bf22b73db71",
     "showTitle": false,
     "title": ""
    }
   },
   "outputs": [],
   "source": [
    "configs = {\"fs.azure.account.auth.type\": \"OAuth\",\n",
    "\"fs.azure.account.oauth.provider.type\": \"org.apache.hadoop.fs.azurebfs.oauth2.ClientCredsTokenProvider\",\n",
    "\"fs.azure.account.oauth2.client.id\": \"ClientID\",\n",
    "\"fs.azure.account.oauth2.client.secret\": 'secret',\n",
    "\"fs.azure.account.oauth2.client.endpoint\": \"https://login.microsoftonline.com/tenant/oauth2/token\"}\n"
   ]
  },
  {
   "cell_type": "code",
   "execution_count": null,
   "metadata": {
    "application/vnd.databricks.v1+cell": {
     "cellMetadata": {
      "byteLimit": 2048000,
      "rowLimit": 10000
     },
     "inputWidgets": {},
     "nuid": "8b082697-5885-45b9-8a02-1e72602f9e58",
     "showTitle": false,
     "title": ""
    }
   },
   "outputs": [
    {
     "name": "stdout",
     "output_type": "stream",
     "text": [
      "Out[3]: True"
     ]
    }
   ],
   "source": [
    "dbutils.fs.mount(\n",
    "source = \"abfss://megafauna-data@martaprojectsa.dfs.core.windows.net\", # contrainer@storageacc\n",
    "mount_point = \"/mnt/megafauna\",\n",
    "extra_configs = configs)"
   ]
  },
  {
   "cell_type": "code",
   "execution_count": null,
   "metadata": {
    "application/vnd.databricks.v1+cell": {
     "cellMetadata": {
      "byteLimit": 2048000,
      "rowLimit": 10000
     },
     "inputWidgets": {},
     "nuid": "8726f0cf-be39-49a8-a883-810b2901f665",
     "showTitle": false,
     "title": ""
    }
   },
   "outputs": [
    {
     "data": {
      "text/html": [
       "<style scoped>\n",
       "  .table-result-container {\n",
       "    max-height: 300px;\n",
       "    overflow: auto;\n",
       "  }\n",
       "  table, th, td {\n",
       "    border: 1px solid black;\n",
       "    border-collapse: collapse;\n",
       "  }\n",
       "  th, td {\n",
       "    padding: 5px;\n",
       "  }\n",
       "  th {\n",
       "    text-align: left;\n",
       "  }\n",
       "</style><div class='table-result-container'><table class='table-result'><thead style='background-color: white'><tr><th>path</th><th>name</th><th>size</th><th>modificationTime</th></tr></thead><tbody><tr><td>dbfs:/mnt/megafauna/raw-data/</td><td>raw-data/</td><td>0</td><td>1719239995000</td></tr><tr><td>dbfs:/mnt/megafauna/transformed-data/</td><td>transformed-data/</td><td>0</td><td>1719240006000</td></tr></tbody></table></div>"
      ]
     },
     "metadata": {
      "application/vnd.databricks.v1+output": {
       "addedWidgets": {},
       "aggData": [],
       "aggError": "",
       "aggOverflow": false,
       "aggSchema": [],
       "aggSeriesLimitReached": false,
       "aggType": "",
       "arguments": {},
       "columnCustomDisplayInfos": {},
       "data": [
        [
         "dbfs:/mnt/megafauna/raw-data/",
         "raw-data/",
         0,
         1719239995000
        ],
        [
         "dbfs:/mnt/megafauna/transformed-data/",
         "transformed-data/",
         0,
         1719240006000
        ]
       ],
       "datasetInfos": [],
       "dbfsResultPath": null,
       "isJsonSchema": true,
       "metadata": {
        "isDbfsCommandResult": false
       },
       "overflow": false,
       "plotOptions": {
        "customPlotOptions": {},
        "displayType": "table",
        "pivotAggregation": null,
        "pivotColumns": null,
        "xColumns": null,
        "yColumns": null
       },
       "removedWidgets": [],
       "schema": [
        {
         "metadata": "{}",
         "name": "path",
         "type": "\"string\""
        },
        {
         "metadata": "{}",
         "name": "name",
         "type": "\"string\""
        },
        {
         "metadata": "{}",
         "name": "size",
         "type": "\"long\""
        },
        {
         "metadata": "{}",
         "name": "modificationTime",
         "type": "\"long\""
        }
       ],
       "type": "table"
      }
     },
     "output_type": "display_data"
    }
   ],
   "source": [
    "%fs\n",
    "ls \"/mnt/megafauna\""
   ]
  },
  {
   "cell_type": "markdown",
   "metadata": {
    "application/vnd.databricks.v1+cell": {
     "cellMetadata": {},
     "inputWidgets": {},
     "nuid": "476606e7-3289-4106-970a-9a8e9cf04738",
     "showTitle": false,
     "title": ""
    }
   },
   "source": [
    "# Step 1: Load the Data"
   ]
  },
  {
   "cell_type": "markdown",
   "metadata": {
    "application/vnd.databricks.v1+cell": {
     "cellMetadata": {},
     "inputWidgets": {},
     "nuid": "2b63e6cd-f130-4c00-99e4-dd186c842911",
     "showTitle": false,
     "title": ""
    }
   },
   "source": [
    "we want to load two dataframes:\n",
    "\n",
    "rovobservationdata\n",
    "speciesdf"
   ]
  },
  {
   "cell_type": "code",
   "execution_count": null,
   "metadata": {
    "application/vnd.databricks.v1+cell": {
     "cellMetadata": {
      "byteLimit": 2048000,
      "rowLimit": 10000
     },
     "inputWidgets": {},
     "nuid": "ac15c111-db29-42c0-b27b-31a82a1807d3",
     "showTitle": false,
     "title": ""
    }
   },
   "outputs": [
    {
     "data": {
      "text/html": [
       "<style scoped>\n",
       "  .table-result-container {\n",
       "    max-height: 300px;\n",
       "    overflow: auto;\n",
       "  }\n",
       "  table, th, td {\n",
       "    border: 1px solid black;\n",
       "    border-collapse: collapse;\n",
       "  }\n",
       "  th, td {\n",
       "    padding: 5px;\n",
       "  }\n",
       "  th {\n",
       "    text-align: left;\n",
       "  }\n",
       "</style><div class='table-result-container'><table class='table-result'><thead style='background-color: white'><tr><th>DateTime</th><th>Easting</th><th>Northing</th><th>Depth</th><th>Temp</th><th>Sal</th><th>Oxy</th><th>Grain</th><th>Bedform</th><th>ac</th><th>ae</th><th>an</th><th>ap</th><th>as</th><th>ba</th><th>bas</th><th>bc</th><th>bgo</th><th>bgu</th><th>bi</th><th>bo</th><th>br</th><th>bs</th><th>ca</th><th>cc</th><th>cd</th><th>cg</th><th>ch</th><th>com</th><th>cp</th><th>cr</th><th>cs</th><th>cu</th><th>de</th><th>dp</th><th>eo</th><th>ep</th><th>eu</th><th>fej</th><th>fl</th><th>fo</th><th>fr</th><th>go</th><th>ha</th><th>hal</th><th>hb</th><th>hl</th><th>ii</th><th>io</th><th>ir</th><th>jde</th><th>jm</th><th>kb</th><th>kw</th><th>lc</th><th>lcom</th><th>li</th><th>ln</th><th>lo</th><th>ls</th><th>lss</th><th>lu</th><th>ly</th><th>lz</th><th>mc</th><th>mr</th><th>ms</th><th>mse</th><th>ol</th><th>ow</th><th>pa</th><th>pc</th><th>pem</th><th>pg</th><th>ph</th><th>pi</th><th>pl</th><th>po</th><th>pp</th><th>ppl</th><th>ps</th><th>pt</th><th>pyr</th><th>ra</th><th>rb</th><th>rh</th><th>ro</th><th>ru</th><th>rw</th><th>sa</th><th>sb</th><th>sc</th><th>scom</th><th>sd</th><th>se</th><th>sec</th><th>sh</th><th>shc</th><th>sl</th><th>sm</th><th>spo</th><th>sq</th><th>ss</th><th>st</th><th>te</th><th>th</th><th>ti</th><th>tr</th><th>unkss</th><th>vm</th><th>vr</th><th>vs</th><th>wfs</th><th>xl</th><th>ye</th><th>za</th><th>bl</th><th>hc</th><th>pe</th><th>py</th></tr></thead><tbody><tr><td>2013-03-05T10:09:14.000+0000</td><td>474309.470706532</td><td>3635620.52327595</td><td>24.653</td><td>12.1313</td><td>33.5366</td><td>4.174</td><td>s2</td><td>lr</td><td>0</td><td>0</td><td>0</td><td>0</td><td>0</td><td>0</td><td>0</td><td>0</td><td>0</td><td>0</td><td>0</td><td>0</td><td>0</td><td>0</td><td>0</td><td>0</td><td>0</td><td>0</td><td>0</td><td>0</td><td>0</td><td>0</td><td>0</td><td>0</td><td>0</td><td>0</td><td>0</td><td>0</td><td>0</td><td>0</td><td>0</td><td>0</td><td>0</td><td>0</td><td>0</td><td>0</td><td>0</td><td>0</td><td>0</td><td>0</td><td>0</td><td>0</td><td>0</td><td>0</td><td>0</td><td>0</td><td>0</td><td>0</td><td>0</td><td>0</td><td>0</td><td>0</td><td>0</td><td>0</td><td>0</td><td>0</td><td>0</td><td>0</td><td>0</td><td>0</td><td>0</td><td>0</td><td>0</td><td>0</td><td>0</td><td>0</td><td>0</td><td>0</td><td>0</td><td>0</td><td>0</td><td>0</td><td>0</td><td>0</td><td>0</td><td>0</td><td>0</td><td>0</td><td>0</td><td>0</td><td>0</td><td>0</td><td>0</td><td>0</td><td>0</td><td>0</td><td>0</td><td>0</td><td>0</td><td>0</td><td>0</td><td>0</td><td>0</td><td>0</td><td>0</td><td>0</td><td>0</td><td>0</td><td>0</td><td>0</td><td>0</td><td>0</td><td>0</td><td>0</td><td>0</td><td>0</td><td>0</td><td>0</td><td>0</td><td>0</td><td>0</td></tr><tr><td>2013-03-05T10:03:14.000+0000</td><td>474336.32882527</td><td>3635361.60918328</td><td>20.962</td><td>12.4446</td><td>33.5256</td><td>4.459</td><td>s2</td><td>lr</td><td>0</td><td>0</td><td>0</td><td>0</td><td>0</td><td>0</td><td>0</td><td>0</td><td>0</td><td>0</td><td>0</td><td>0</td><td>0</td><td>0</td><td>0</td><td>0</td><td>0</td><td>0</td><td>0</td><td>0</td><td>0</td><td>0</td><td>0</td><td>0</td><td>0</td><td>0</td><td>0</td><td>0</td><td>0</td><td>0</td><td>0</td><td>0</td><td>0</td><td>0</td><td>0</td><td>0</td><td>0</td><td>0</td><td>0</td><td>0</td><td>0</td><td>0</td><td>0</td><td>0</td><td>0</td><td>0</td><td>0</td><td>0</td><td>0</td><td>0</td><td>0</td><td>0</td><td>0</td><td>0</td><td>0</td><td>0</td><td>0</td><td>0</td><td>0</td><td>0</td><td>0</td><td>0</td><td>0</td><td>0</td><td>0</td><td>0</td><td>0</td><td>0</td><td>0</td><td>0</td><td>0</td><td>0</td><td>0</td><td>0</td><td>0</td><td>0</td><td>0</td><td>0</td><td>0</td><td>0</td><td>0</td><td>0</td><td>0</td><td>0</td><td>0</td><td>0</td><td>0</td><td>0</td><td>0</td><td>0</td><td>0</td><td>0</td><td>0</td><td>0</td><td>0</td><td>0</td><td>0</td><td>0</td><td>0</td><td>0</td><td>0</td><td>0</td><td>0</td><td>0</td><td>0</td><td>0</td><td>0</td><td>0</td><td>0</td><td>0</td><td>0</td></tr><tr><td>2013-03-05T09:54:29.000+0000</td><td>474543.140760596</td><td>3635491.96680274</td><td>22.882</td><td>12.2266</td><td>33.5263</td><td>4.263</td><td>s2</td><td>hr</td><td>0</td><td>0</td><td>0</td><td>0</td><td>0</td><td>0</td><td>0</td><td>0</td><td>0</td><td>0</td><td>0</td><td>0</td><td>0</td><td>0</td><td>0</td><td>0</td><td>0</td><td>0</td><td>0</td><td>0</td><td>0</td><td>0</td><td>0</td><td>0</td><td>0</td><td>0</td><td>0</td><td>0</td><td>0</td><td>0</td><td>0</td><td>0</td><td>0</td><td>0</td><td>0</td><td>0</td><td>0</td><td>0</td><td>0</td><td>0</td><td>0</td><td>0</td><td>0</td><td>0</td><td>0</td><td>0</td><td>0</td><td>0</td><td>0</td><td>0</td><td>0</td><td>0</td><td>0</td><td>0</td><td>0</td><td>0</td><td>0</td><td>0</td><td>0</td><td>0</td><td>0</td><td>0</td><td>0</td><td>0</td><td>0</td><td>0</td><td>0</td><td>0</td><td>0</td><td>0</td><td>0</td><td>0</td><td>0</td><td>0</td><td>0</td><td>0</td><td>0</td><td>0</td><td>0</td><td>0</td><td>0</td><td>0</td><td>0</td><td>0</td><td>0</td><td>0</td><td>0</td><td>0</td><td>0</td><td>0</td><td>0</td><td>0</td><td>0</td><td>0</td><td>0</td><td>0</td><td>0</td><td>0</td><td>0</td><td>0</td><td>0</td><td>0</td><td>0</td><td>0</td><td>0</td><td>0</td><td>0</td><td>0</td><td>0</td><td>0</td><td>0</td></tr><tr><td>2013-03-05T09:56:33.000+0000</td><td>474482.508857872</td><td>3635516.73382511</td><td>25.611</td><td>12.136</td><td>33.5403</td><td>4.154</td><td>s1</td><td>hr</td><td>0</td><td>0</td><td>0</td><td>0</td><td>0</td><td>0</td><td>0</td><td>0</td><td>0</td><td>0</td><td>0</td><td>0</td><td>0</td><td>0</td><td>0</td><td>0</td><td>0</td><td>0</td><td>0</td><td>0</td><td>0</td><td>0</td><td>0</td><td>0</td><td>0</td><td>0</td><td>0</td><td>0</td><td>0</td><td>0</td><td>0</td><td>0</td><td>0</td><td>0</td><td>0</td><td>0</td><td>0</td><td>0</td><td>0</td><td>0</td><td>0</td><td>0</td><td>0</td><td>0</td><td>0</td><td>0</td><td>0</td><td>0</td><td>0</td><td>0</td><td>0</td><td>0</td><td>0</td><td>0</td><td>0</td><td>0</td><td>0</td><td>0</td><td>0</td><td>0</td><td>0</td><td>0</td><td>0</td><td>0</td><td>0</td><td>0</td><td>0</td><td>0</td><td>0</td><td>0</td><td>0</td><td>0</td><td>0</td><td>0</td><td>0</td><td>0</td><td>0</td><td>0</td><td>0</td><td>0</td><td>0</td><td>0</td><td>0</td><td>0</td><td>0</td><td>0</td><td>0</td><td>0</td><td>0</td><td>0</td><td>0</td><td>0</td><td>0</td><td>0</td><td>0</td><td>0</td><td>0</td><td>0</td><td>0</td><td>0</td><td>0</td><td>0</td><td>0</td><td>0</td><td>0</td><td>0</td><td>0</td><td>0</td><td>0</td><td>0</td><td>0</td></tr><tr><td>2013-03-05T10:14:34.000+0000</td><td>474291.036341439</td><td>3635766.84725211</td><td>28.129</td><td>12.1087</td><td>33.5308</td><td>4.149</td><td>s1</td><td>hr</td><td>0</td><td>0</td><td>0</td><td>0</td><td>0</td><td>0</td><td>0</td><td>0</td><td>0</td><td>0</td><td>0</td><td>0</td><td>0</td><td>0</td><td>0</td><td>0</td><td>0</td><td>0</td><td>0</td><td>0</td><td>0</td><td>0</td><td>0</td><td>0</td><td>0</td><td>0</td><td>0</td><td>0</td><td>0</td><td>0</td><td>0</td><td>0</td><td>0</td><td>0</td><td>0</td><td>0</td><td>0</td><td>0</td><td>0</td><td>0</td><td>0</td><td>0</td><td>0</td><td>0</td><td>0</td><td>0</td><td>0</td><td>0</td><td>0</td><td>0</td><td>0</td><td>0</td><td>0</td><td>0</td><td>0</td><td>0</td><td>0</td><td>0</td><td>0</td><td>0</td><td>0</td><td>0</td><td>0</td><td>0</td><td>0</td><td>0</td><td>0</td><td>0</td><td>0</td><td>0</td><td>0</td><td>0</td><td>0</td><td>0</td><td>0</td><td>0</td><td>0</td><td>0</td><td>0</td><td>0</td><td>0</td><td>0</td><td>0</td><td>0</td><td>0</td><td>0</td><td>0</td><td>0</td><td>0</td><td>0</td><td>0</td><td>0</td><td>0</td><td>0</td><td>0</td><td>0</td><td>0</td><td>0</td><td>0</td><td>0</td><td>0</td><td>0</td><td>0</td><td>0</td><td>0</td><td>0</td><td>0</td><td>0</td><td>0</td><td>0</td><td>0</td></tr></tbody></table></div>"
      ]
     },
     "metadata": {
      "application/vnd.databricks.v1+output": {
       "addedWidgets": {},
       "aggData": [],
       "aggError": "",
       "aggOverflow": false,
       "aggSchema": [],
       "aggSeriesLimitReached": false,
       "aggType": "",
       "arguments": {},
       "columnCustomDisplayInfos": {},
       "data": [
        [
         "2013-03-05T10:09:14.000+0000",
         474309.470706532,
         3635620.52327595,
         24.653,
         12.1313,
         33.5366,
         4.174,
         "s2",
         "lr",
         0,
         0,
         0,
         0,
         0,
         0,
         0,
         0,
         0,
         0,
         0,
         0,
         0,
         0,
         0,
         0,
         0,
         0,
         0,
         0,
         0,
         0,
         0,
         0,
         0,
         0,
         0,
         0,
         0,
         0,
         0,
         0,
         0,
         0,
         0,
         0,
         0,
         0,
         0,
         0,
         0,
         0,
         0,
         0,
         "0",
         0,
         0,
         0,
         0,
         0,
         0,
         0,
         0,
         0,
         0,
         0,
         "0",
         0,
         0,
         0,
         0,
         0,
         0,
         0,
         0,
         0,
         0,
         0,
         0,
         0,
         0,
         0,
         0,
         0,
         0,
         0,
         0,
         0,
         0,
         0,
         0,
         0,
         0,
         0,
         0,
         0,
         0,
         0,
         0,
         0,
         0,
         0,
         0,
         0,
         0,
         0,
         0,
         0,
         0,
         0,
         0,
         0,
         0,
         0,
         0,
         0,
         0,
         0,
         0,
         0,
         0
        ],
        [
         "2013-03-05T10:03:14.000+0000",
         474336.32882527,
         3635361.60918328,
         20.962,
         12.4446,
         33.5256,
         4.459,
         "s2",
         "lr",
         0,
         0,
         0,
         0,
         0,
         0,
         0,
         0,
         0,
         0,
         0,
         0,
         0,
         0,
         0,
         0,
         0,
         0,
         0,
         0,
         0,
         0,
         0,
         0,
         0,
         0,
         0,
         0,
         0,
         0,
         0,
         0,
         0,
         0,
         0,
         0,
         0,
         0,
         0,
         0,
         0,
         0,
         0,
         0,
         "0",
         0,
         0,
         0,
         0,
         0,
         0,
         0,
         0,
         0,
         0,
         0,
         "0",
         0,
         0,
         0,
         0,
         0,
         0,
         0,
         0,
         0,
         0,
         0,
         0,
         0,
         0,
         0,
         0,
         0,
         0,
         0,
         0,
         0,
         0,
         0,
         0,
         0,
         0,
         0,
         0,
         0,
         0,
         0,
         0,
         0,
         0,
         0,
         0,
         0,
         0,
         0,
         0,
         0,
         0,
         0,
         0,
         0,
         0,
         0,
         0,
         0,
         0,
         0,
         0,
         0,
         0
        ],
        [
         "2013-03-05T09:54:29.000+0000",
         474543.140760596,
         3635491.96680274,
         22.882,
         12.2266,
         33.5263,
         4.263,
         "s2",
         "hr",
         0,
         0,
         0,
         0,
         0,
         0,
         0,
         0,
         0,
         0,
         0,
         0,
         0,
         0,
         0,
         0,
         0,
         0,
         0,
         0,
         0,
         0,
         0,
         0,
         0,
         0,
         0,
         0,
         0,
         0,
         0,
         0,
         0,
         0,
         0,
         0,
         0,
         0,
         0,
         0,
         0,
         0,
         0,
         0,
         "0",
         0,
         0,
         0,
         0,
         0,
         0,
         0,
         0,
         0,
         0,
         0,
         "0",
         0,
         0,
         0,
         0,
         0,
         0,
         0,
         0,
         0,
         0,
         0,
         0,
         0,
         0,
         0,
         0,
         0,
         0,
         0,
         0,
         0,
         0,
         0,
         0,
         0,
         0,
         0,
         0,
         0,
         0,
         0,
         0,
         0,
         0,
         0,
         0,
         0,
         0,
         0,
         0,
         0,
         0,
         0,
         0,
         0,
         0,
         0,
         0,
         0,
         0,
         0,
         0,
         0,
         0
        ],
        [
         "2013-03-05T09:56:33.000+0000",
         474482.508857872,
         3635516.73382511,
         25.611,
         12.136,
         33.5403,
         4.154,
         "s1",
         "hr",
         0,
         0,
         0,
         0,
         0,
         0,
         0,
         0,
         0,
         0,
         0,
         0,
         0,
         0,
         0,
         0,
         0,
         0,
         0,
         0,
         0,
         0,
         0,
         0,
         0,
         0,
         0,
         0,
         0,
         0,
         0,
         0,
         0,
         0,
         0,
         0,
         0,
         0,
         0,
         0,
         0,
         0,
         0,
         0,
         "0",
         0,
         0,
         0,
         0,
         0,
         0,
         0,
         0,
         0,
         0,
         0,
         "0",
         0,
         0,
         0,
         0,
         0,
         0,
         0,
         0,
         0,
         0,
         0,
         0,
         0,
         0,
         0,
         0,
         0,
         0,
         0,
         0,
         0,
         0,
         0,
         0,
         0,
         0,
         0,
         0,
         0,
         0,
         0,
         0,
         0,
         0,
         0,
         0,
         0,
         0,
         0,
         0,
         0,
         0,
         0,
         0,
         0,
         0,
         0,
         0,
         0,
         0,
         0,
         0,
         0,
         0
        ],
        [
         "2013-03-05T10:14:34.000+0000",
         474291.036341439,
         3635766.84725211,
         28.129,
         12.1087,
         33.5308,
         4.149,
         "s1",
         "hr",
         0,
         0,
         0,
         0,
         0,
         0,
         0,
         0,
         0,
         0,
         0,
         0,
         0,
         0,
         0,
         0,
         0,
         0,
         0,
         0,
         0,
         0,
         0,
         0,
         0,
         0,
         0,
         0,
         0,
         0,
         0,
         0,
         0,
         0,
         0,
         0,
         0,
         0,
         0,
         0,
         0,
         0,
         0,
         0,
         "0",
         0,
         0,
         0,
         0,
         0,
         0,
         0,
         0,
         0,
         0,
         0,
         "0",
         0,
         0,
         0,
         0,
         0,
         0,
         0,
         0,
         0,
         0,
         0,
         0,
         0,
         0,
         0,
         0,
         0,
         0,
         0,
         0,
         0,
         0,
         0,
         0,
         0,
         0,
         0,
         0,
         0,
         0,
         0,
         0,
         0,
         0,
         0,
         0,
         0,
         0,
         0,
         0,
         0,
         0,
         0,
         0,
         0,
         0,
         0,
         0,
         0,
         0,
         0,
         0,
         0,
         0
        ]
       ],
       "datasetInfos": [],
       "dbfsResultPath": null,
       "isJsonSchema": true,
       "metadata": {},
       "overflow": false,
       "plotOptions": {
        "customPlotOptions": {},
        "displayType": "table",
        "pivotAggregation": null,
        "pivotColumns": null,
        "xColumns": null,
        "yColumns": null
       },
       "removedWidgets": [],
       "schema": [
        {
         "metadata": "{}",
         "name": "DateTime",
         "type": "\"timestamp\""
        },
        {
         "metadata": "{}",
         "name": "Easting",
         "type": "\"double\""
        },
        {
         "metadata": "{}",
         "name": "Northing",
         "type": "\"double\""
        },
        {
         "metadata": "{}",
         "name": "Depth",
         "type": "\"double\""
        },
        {
         "metadata": "{}",
         "name": "Temp",
         "type": "\"double\""
        },
        {
         "metadata": "{}",
         "name": "Sal",
         "type": "\"double\""
        },
        {
         "metadata": "{}",
         "name": "Oxy",
         "type": "\"double\""
        },
        {
         "metadata": "{}",
         "name": "Grain",
         "type": "\"string\""
        },
        {
         "metadata": "{}",
         "name": "Bedform",
         "type": "\"string\""
        },
        {
         "metadata": "{}",
         "name": "ac",
         "type": "\"integer\""
        },
        {
         "metadata": "{}",
         "name": "ae",
         "type": "\"integer\""
        },
        {
         "metadata": "{}",
         "name": "an",
         "type": "\"integer\""
        },
        {
         "metadata": "{}",
         "name": "ap",
         "type": "\"integer\""
        },
        {
         "metadata": "{}",
         "name": "as",
         "type": "\"integer\""
        },
        {
         "metadata": "{}",
         "name": "ba",
         "type": "\"integer\""
        },
        {
         "metadata": "{}",
         "name": "bas",
         "type": "\"integer\""
        },
        {
         "metadata": "{}",
         "name": "bc",
         "type": "\"integer\""
        },
        {
         "metadata": "{}",
         "name": "bgo",
         "type": "\"integer\""
        },
        {
         "metadata": "{}",
         "name": "bgu",
         "type": "\"integer\""
        },
        {
         "metadata": "{}",
         "name": "bi",
         "type": "\"integer\""
        },
        {
         "metadata": "{}",
         "name": "bo",
         "type": "\"integer\""
        },
        {
         "metadata": "{}",
         "name": "br",
         "type": "\"integer\""
        },
        {
         "metadata": "{}",
         "name": "bs",
         "type": "\"integer\""
        },
        {
         "metadata": "{}",
         "name": "ca",
         "type": "\"integer\""
        },
        {
         "metadata": "{}",
         "name": "cc",
         "type": "\"integer\""
        },
        {
         "metadata": "{}",
         "name": "cd",
         "type": "\"integer\""
        },
        {
         "metadata": "{}",
         "name": "cg",
         "type": "\"integer\""
        },
        {
         "metadata": "{}",
         "name": "ch",
         "type": "\"integer\""
        },
        {
         "metadata": "{}",
         "name": "com",
         "type": "\"integer\""
        },
        {
         "metadata": "{}",
         "name": "cp",
         "type": "\"integer\""
        },
        {
         "metadata": "{}",
         "name": "cr",
         "type": "\"integer\""
        },
        {
         "metadata": "{}",
         "name": "cs",
         "type": "\"integer\""
        },
        {
         "metadata": "{}",
         "name": "cu",
         "type": "\"integer\""
        },
        {
         "metadata": "{}",
         "name": "de",
         "type": "\"integer\""
        },
        {
         "metadata": "{}",
         "name": "dp",
         "type": "\"integer\""
        },
        {
         "metadata": "{}",
         "name": "eo",
         "type": "\"integer\""
        },
        {
         "metadata": "{}",
         "name": "ep",
         "type": "\"integer\""
        },
        {
         "metadata": "{}",
         "name": "eu",
         "type": "\"integer\""
        },
        {
         "metadata": "{}",
         "name": "fej",
         "type": "\"integer\""
        },
        {
         "metadata": "{}",
         "name": "fl",
         "type": "\"integer\""
        },
        {
         "metadata": "{}",
         "name": "fo",
         "type": "\"integer\""
        },
        {
         "metadata": "{}",
         "name": "fr",
         "type": "\"integer\""
        },
        {
         "metadata": "{}",
         "name": "go",
         "type": "\"integer\""
        },
        {
         "metadata": "{}",
         "name": "ha",
         "type": "\"integer\""
        },
        {
         "metadata": "{}",
         "name": "hal",
         "type": "\"integer\""
        },
        {
         "metadata": "{}",
         "name": "hb",
         "type": "\"integer\""
        },
        {
         "metadata": "{}",
         "name": "hl",
         "type": "\"integer\""
        },
        {
         "metadata": "{}",
         "name": "ii",
         "type": "\"integer\""
        },
        {
         "metadata": "{}",
         "name": "io",
         "type": "\"integer\""
        },
        {
         "metadata": "{}",
         "name": "ir",
         "type": "\"integer\""
        },
        {
         "metadata": "{}",
         "name": "jde",
         "type": "\"integer\""
        },
        {
         "metadata": "{}",
         "name": "jm",
         "type": "\"integer\""
        },
        {
         "metadata": "{}",
         "name": "kb",
         "type": "\"integer\""
        },
        {
         "metadata": "{}",
         "name": "kw",
         "type": "\"string\""
        },
        {
         "metadata": "{}",
         "name": "lc",
         "type": "\"integer\""
        },
        {
         "metadata": "{}",
         "name": "lcom",
         "type": "\"integer\""
        },
        {
         "metadata": "{}",
         "name": "li",
         "type": "\"integer\""
        },
        {
         "metadata": "{}",
         "name": "ln",
         "type": "\"integer\""
        },
        {
         "metadata": "{}",
         "name": "lo",
         "type": "\"integer\""
        },
        {
         "metadata": "{}",
         "name": "ls",
         "type": "\"integer\""
        },
        {
         "metadata": "{}",
         "name": "lss",
         "type": "\"integer\""
        },
        {
         "metadata": "{}",
         "name": "lu",
         "type": "\"integer\""
        },
        {
         "metadata": "{}",
         "name": "ly",
         "type": "\"integer\""
        },
        {
         "metadata": "{}",
         "name": "lz",
         "type": "\"integer\""
        },
        {
         "metadata": "{}",
         "name": "mc",
         "type": "\"integer\""
        },
        {
         "metadata": "{}",
         "name": "mr",
         "type": "\"string\""
        },
        {
         "metadata": "{}",
         "name": "ms",
         "type": "\"integer\""
        },
        {
         "metadata": "{}",
         "name": "mse",
         "type": "\"integer\""
        },
        {
         "metadata": "{}",
         "name": "ol",
         "type": "\"integer\""
        },
        {
         "metadata": "{}",
         "name": "ow",
         "type": "\"integer\""
        },
        {
         "metadata": "{}",
         "name": "pa",
         "type": "\"integer\""
        },
        {
         "metadata": "{}",
         "name": "pc",
         "type": "\"integer\""
        },
        {
         "metadata": "{}",
         "name": "pem",
         "type": "\"integer\""
        },
        {
         "metadata": "{}",
         "name": "pg",
         "type": "\"integer\""
        },
        {
         "metadata": "{}",
         "name": "ph",
         "type": "\"integer\""
        },
        {
         "metadata": "{}",
         "name": "pi",
         "type": "\"integer\""
        },
        {
         "metadata": "{}",
         "name": "pl",
         "type": "\"integer\""
        },
        {
         "metadata": "{}",
         "name": "po",
         "type": "\"integer\""
        },
        {
         "metadata": "{}",
         "name": "pp",
         "type": "\"integer\""
        },
        {
         "metadata": "{}",
         "name": "ppl",
         "type": "\"integer\""
        },
        {
         "metadata": "{}",
         "name": "ps",
         "type": "\"integer\""
        },
        {
         "metadata": "{}",
         "name": "pt",
         "type": "\"integer\""
        },
        {
         "metadata": "{}",
         "name": "pyr",
         "type": "\"integer\""
        },
        {
         "metadata": "{}",
         "name": "ra",
         "type": "\"integer\""
        },
        {
         "metadata": "{}",
         "name": "rb",
         "type": "\"integer\""
        },
        {
         "metadata": "{}",
         "name": "rh",
         "type": "\"integer\""
        },
        {
         "metadata": "{}",
         "name": "ro",
         "type": "\"integer\""
        },
        {
         "metadata": "{}",
         "name": "ru",
         "type": "\"integer\""
        },
        {
         "metadata": "{}",
         "name": "rw",
         "type": "\"integer\""
        },
        {
         "metadata": "{}",
         "name": "sa",
         "type": "\"integer\""
        },
        {
         "metadata": "{}",
         "name": "sb",
         "type": "\"integer\""
        },
        {
         "metadata": "{}",
         "name": "sc",
         "type": "\"integer\""
        },
        {
         "metadata": "{}",
         "name": "scom",
         "type": "\"integer\""
        },
        {
         "metadata": "{}",
         "name": "sd",
         "type": "\"integer\""
        },
        {
         "metadata": "{}",
         "name": "se",
         "type": "\"integer\""
        },
        {
         "metadata": "{}",
         "name": "sec",
         "type": "\"integer\""
        },
        {
         "metadata": "{}",
         "name": "sh",
         "type": "\"integer\""
        },
        {
         "metadata": "{}",
         "name": "shc",
         "type": "\"integer\""
        },
        {
         "metadata": "{}",
         "name": "sl",
         "type": "\"integer\""
        },
        {
         "metadata": "{}",
         "name": "sm",
         "type": "\"integer\""
        },
        {
         "metadata": "{}",
         "name": "spo",
         "type": "\"integer\""
        },
        {
         "metadata": "{}",
         "name": "sq",
         "type": "\"integer\""
        },
        {
         "metadata": "{}",
         "name": "ss",
         "type": "\"integer\""
        },
        {
         "metadata": "{}",
         "name": "st",
         "type": "\"integer\""
        },
        {
         "metadata": "{}",
         "name": "te",
         "type": "\"integer\""
        },
        {
         "metadata": "{}",
         "name": "th",
         "type": "\"integer\""
        },
        {
         "metadata": "{}",
         "name": "ti",
         "type": "\"integer\""
        },
        {
         "metadata": "{}",
         "name": "tr",
         "type": "\"integer\""
        },
        {
         "metadata": "{}",
         "name": "unkss",
         "type": "\"integer\""
        },
        {
         "metadata": "{}",
         "name": "vm",
         "type": "\"integer\""
        },
        {
         "metadata": "{}",
         "name": "vr",
         "type": "\"integer\""
        },
        {
         "metadata": "{}",
         "name": "vs",
         "type": "\"integer\""
        },
        {
         "metadata": "{}",
         "name": "wfs",
         "type": "\"integer\""
        },
        {
         "metadata": "{}",
         "name": "xl",
         "type": "\"integer\""
        },
        {
         "metadata": "{}",
         "name": "ye",
         "type": "\"integer\""
        },
        {
         "metadata": "{}",
         "name": "za",
         "type": "\"integer\""
        },
        {
         "metadata": "{}",
         "name": "bl",
         "type": "\"integer\""
        },
        {
         "metadata": "{}",
         "name": "hc",
         "type": "\"integer\""
        },
        {
         "metadata": "{}",
         "name": "pe",
         "type": "\"integer\""
        },
        {
         "metadata": "{}",
         "name": "py",
         "type": "\"integer\""
        }
       ],
       "type": "table"
      }
     },
     "output_type": "display_data"
    }
   ],
   "source": [
    "rovobservationdata = (\n",
    "    spark.read.format(\"csv\")\n",
    "    .option(\"delimiter\", \",\")\n",
    "    .option(\"header\", \"true\")\n",
    "    .option(\"inferSchema\", \"true\")\n",
    "    .load(\"/mnt/megafauna/raw-data/ROVObservationData.csv\")\n",
    ")\n",
    "\n",
    "# Display the first 5 rows\n",
    "rovobservationdata.limit(5).display()"
   ]
  },
  {
   "cell_type": "markdown",
   "metadata": {
    "application/vnd.databricks.v1+cell": {
     "cellMetadata": {},
     "inputWidgets": {},
     "nuid": "2570fb1d-50aa-45cd-baa5-0a477cd675b6",
     "showTitle": false,
     "title": ""
    }
   },
   "source": [
    "# Step 2: Explore and Clean the Data"
   ]
  },
  {
   "cell_type": "code",
   "execution_count": null,
   "metadata": {
    "application/vnd.databricks.v1+cell": {
     "cellMetadata": {
      "byteLimit": 2048000,
      "rowLimit": 10000
     },
     "inputWidgets": {},
     "nuid": "d708ad64-f607-438b-a3c2-87eb35d127f4",
     "showTitle": false,
     "title": ""
    }
   },
   "outputs": [],
   "source": [
    "# Check for null values and replace them with 0\n",
    "rovobservationdata = rovobservationdata.fillna(0)"
   ]
  },
  {
   "cell_type": "code",
   "execution_count": null,
   "metadata": {
    "application/vnd.databricks.v1+cell": {
     "cellMetadata": {
      "byteLimit": 2048000,
      "rowLimit": 10000
     },
     "inputWidgets": {},
     "nuid": "213618e4-9181-4ac0-bb6c-132a4bcf4641",
     "showTitle": false,
     "title": ""
    }
   },
   "outputs": [
    {
     "name": "stdout",
     "output_type": "stream",
     "text": [
      "Column 'DateTime' has 0 'unknown' values.\n",
      "Column 'Easting' has 0 'unknown' values.\n",
      "Column 'Northing' has 0 'unknown' values.\n",
      "Column 'Depth' has 0 'unknown' values.\n",
      "Column 'Temp' has 0 'unknown' values.\n",
      "Column 'Sal' has 0 'unknown' values.\n",
      "Column 'Oxy' has 0 'unknown' values.\n",
      "Column 'Grain' has 0 'unknown' values.\n",
      "Column 'Bedform' has 0 'unknown' values.\n",
      "Column 'ac' has 0 'unknown' values.\n",
      "Column 'ae' has 0 'unknown' values.\n",
      "Column 'an' has 0 'unknown' values.\n",
      "Column 'ap' has 0 'unknown' values.\n",
      "Column 'as' has 0 'unknown' values.\n",
      "Column 'ba' has 0 'unknown' values.\n",
      "Column 'bas' has 0 'unknown' values.\n",
      "Column 'bc' has 0 'unknown' values.\n",
      "Column 'bgo' has 0 'unknown' values.\n",
      "Column 'bgu' has 0 'unknown' values.\n",
      "Column 'bi' has 0 'unknown' values.\n",
      "Column 'bo' has 0 'unknown' values.\n",
      "Column 'br' has 0 'unknown' values.\n",
      "Column 'bs' has 0 'unknown' values.\n",
      "Column 'ca' has 0 'unknown' values.\n",
      "Column 'cc' has 0 'unknown' values.\n",
      "Column 'cd' has 0 'unknown' values.\n",
      "Column 'cg' has 0 'unknown' values.\n",
      "Column 'ch' has 0 'unknown' values.\n",
      "Column 'com' has 0 'unknown' values.\n",
      "Column 'cp' has 0 'unknown' values.\n",
      "Column 'cr' has 0 'unknown' values.\n",
      "Column 'cs' has 0 'unknown' values.\n",
      "Column 'cu' has 0 'unknown' values.\n",
      "Column 'de' has 0 'unknown' values.\n",
      "Column 'dp' has 0 'unknown' values.\n",
      "Column 'eo' has 0 'unknown' values.\n",
      "Column 'ep' has 0 'unknown' values.\n",
      "Column 'eu' has 0 'unknown' values.\n",
      "Column 'fej' has 0 'unknown' values.\n",
      "Column 'fl' has 0 'unknown' values.\n",
      "Column 'fo' has 0 'unknown' values.\n",
      "Column 'fr' has 0 'unknown' values.\n",
      "Column 'go' has 0 'unknown' values.\n",
      "Column 'ha' has 0 'unknown' values.\n",
      "Column 'hal' has 0 'unknown' values.\n",
      "Column 'hb' has 0 'unknown' values.\n",
      "Column 'hl' has 0 'unknown' values.\n",
      "Column 'ii' has 0 'unknown' values.\n",
      "Column 'io' has 0 'unknown' values.\n",
      "Column 'ir' has 0 'unknown' values.\n",
      "Column 'jde' has 0 'unknown' values.\n",
      "Column 'jm' has 0 'unknown' values.\n",
      "Column 'kb' has 0 'unknown' values.\n",
      "Column 'kw' has 0 'unknown' values.\n",
      "Column 'lc' has 0 'unknown' values.\n",
      "Column 'lcom' has 0 'unknown' values.\n",
      "Column 'li' has 0 'unknown' values.\n",
      "Column 'ln' has 0 'unknown' values.\n",
      "Column 'lo' has 0 'unknown' values.\n",
      "Column 'ls' has 0 'unknown' values.\n",
      "Column 'lss' has 0 'unknown' values.\n",
      "Column 'lu' has 0 'unknown' values.\n",
      "Column 'ly' has 0 'unknown' values.\n",
      "Column 'lz' has 0 'unknown' values.\n",
      "Column 'mc' has 0 'unknown' values.\n",
      "Column 'mr' has 0 'unknown' values.\n",
      "Column 'ms' has 0 'unknown' values.\n",
      "Column 'mse' has 0 'unknown' values.\n",
      "Column 'ol' has 0 'unknown' values.\n",
      "Column 'ow' has 0 'unknown' values.\n",
      "Column 'pa' has 0 'unknown' values.\n",
      "Column 'pc' has 0 'unknown' values.\n",
      "Column 'pem' has 0 'unknown' values.\n",
      "Column 'pg' has 0 'unknown' values.\n",
      "Column 'ph' has 0 'unknown' values.\n",
      "Column 'pi' has 0 'unknown' values.\n",
      "Column 'pl' has 0 'unknown' values.\n",
      "Column 'po' has 0 'unknown' values.\n",
      "Column 'pp' has 0 'unknown' values.\n",
      "Column 'ppl' has 0 'unknown' values.\n",
      "Column 'ps' has 0 'unknown' values.\n",
      "Column 'pt' has 0 'unknown' values.\n",
      "Column 'pyr' has 0 'unknown' values.\n",
      "Column 'ra' has 0 'unknown' values.\n",
      "Column 'rb' has 0 'unknown' values.\n",
      "Column 'rh' has 0 'unknown' values.\n",
      "Column 'ro' has 0 'unknown' values.\n",
      "Column 'ru' has 0 'unknown' values.\n",
      "Column 'rw' has 0 'unknown' values.\n",
      "Column 'sa' has 0 'unknown' values.\n",
      "Column 'sb' has 0 'unknown' values.\n",
      "Column 'sc' has 0 'unknown' values.\n",
      "Column 'scom' has 0 'unknown' values.\n",
      "Column 'sd' has 0 'unknown' values.\n",
      "Column 'se' has 0 'unknown' values.\n",
      "Column 'sec' has 0 'unknown' values.\n",
      "Column 'sh' has 0 'unknown' values.\n",
      "Column 'shc' has 0 'unknown' values.\n",
      "Column 'sl' has 0 'unknown' values.\n",
      "Column 'sm' has 0 'unknown' values.\n",
      "Column 'spo' has 0 'unknown' values.\n",
      "Column 'sq' has 0 'unknown' values.\n",
      "Column 'ss' has 0 'unknown' values.\n",
      "Column 'st' has 0 'unknown' values.\n",
      "Column 'te' has 0 'unknown' values.\n",
      "Column 'th' has 0 'unknown' values.\n",
      "Column 'ti' has 0 'unknown' values.\n",
      "Column 'tr' has 0 'unknown' values.\n",
      "Column 'unkss' has 0 'unknown' values.\n",
      "Column 'vm' has 0 'unknown' values.\n",
      "Column 'vr' has 0 'unknown' values.\n",
      "Column 'vs' has 0 'unknown' values.\n",
      "Column 'wfs' has 0 'unknown' values.\n",
      "Column 'xl' has 0 'unknown' values.\n",
      "Column 'ye' has 0 'unknown' values.\n",
      "Column 'za' has 0 'unknown' values.\n",
      "Column 'bl' has 0 'unknown' values.\n",
      "Column 'hc' has 0 'unknown' values.\n",
      "Column 'pe' has 0 'unknown' values.\n",
      "Column 'py' has 0 'unknown' values.\n"
     ]
    }
   ],
   "source": [
    "# check if we have any unknown values in the dataset\n",
    "unknown_counts = {}\n",
    "\n",
    "# Iterate over each column and count \"unknown\" values\n",
    "for column in rovobservationdata.columns:\n",
    "    unknown_count = rovobservationdata.filter(col(column) == \"unknown\").count()\n",
    "    unknown_counts[column] = unknown_count\n",
    "\n",
    "# Display the counts of \"unknown\" values per column\n",
    "for column, count in unknown_counts.items():\n",
    "    print(f\"Column '{column}' has {count} 'unknown' values.\")"
   ]
  },
  {
   "cell_type": "code",
   "execution_count": null,
   "metadata": {
    "application/vnd.databricks.v1+cell": {
     "cellMetadata": {
      "byteLimit": 2048000,
      "rowLimit": 10000
     },
     "inputWidgets": {},
     "nuid": "84abdba8-b045-4c03-a733-8e4de7122ca5",
     "showTitle": false,
     "title": ""
    }
   },
   "outputs": [
    {
     "name": "stdout",
     "output_type": "stream",
     "text": [
      "['DateTime', 'Easting', 'Northing', 'Depth', 'Temp', 'Sal', 'Oxy', 'Grain', 'Bedform', 'ac', 'ae', 'an', 'ap', 'as', 'ba', 'bas', 'bc', 'bgo', 'bgu', 'bi', 'bo', 'br', 'bs', 'ca', 'cc', 'cd', 'cg', 'ch', 'com', 'cp', 'cr', 'cs', 'cu', 'de', 'dp', 'eo', 'ep', 'eu', 'fej', 'fl', 'fo', 'fr', 'go', 'ha', 'hal', 'hb', 'hl', 'ii', 'io', 'ir', 'jde', 'jm', 'kb', 'kw', 'lc', 'lcom', 'li', 'ln', 'lo', 'ls', 'lss', 'lu', 'ly', 'lz', 'mc', 'mr', 'ms', 'mse', 'ol', 'ow', 'pa', 'pc', 'pem', 'pg', 'ph', 'pi', 'pl', 'po', 'pp', 'ppl', 'ps', 'pt', 'pyr', 'ra', 'rb', 'rh', 'ro', 'ru', 'rw', 'sa', 'sb', 'sc', 'scom', 'sd', 'se', 'sec', 'sh', 'shc', 'sl', 'sm', 'spo', 'sq', 'ss', 'st', 'te', 'th', 'ti', 'tr', 'unkss', 'vm', 'vr', 'vs', 'wfs', 'xl', 'ye', 'za', 'bl', 'hc', 'pe', 'py']\n"
     ]
    }
   ],
   "source": [
    "column_names = rovobservationdata.columns\n",
    "\n",
    "# Print or display the column names\n",
    "print(column_names)"
   ]
  },
  {
   "cell_type": "markdown",
   "metadata": {
    "application/vnd.databricks.v1+cell": {
     "cellMetadata": {},
     "inputWidgets": {},
     "nuid": "1a16efc5-9238-4ccc-a4ca-a94a8b87352d",
     "showTitle": false,
     "title": ""
    }
   },
   "source": [
    "# a) Analyze species distributions based on depth, temperature, and oxygen.\n",
    "## Explore the data to ensure it is clean and that relevant columns such as Depth, Temp, and Oxy are of the appropriate numeric type (double, float, etc.). If necessary, perform cleaning operations such as handling null or incorrect values."
   ]
  },
  {
   "cell_type": "code",
   "execution_count": null,
   "metadata": {
    "application/vnd.databricks.v1+cell": {
     "cellMetadata": {
      "byteLimit": 2048000,
      "rowLimit": 10000
     },
     "inputWidgets": {},
     "nuid": "ac0da811-6c35-4004-a022-856fd6bad215",
     "showTitle": false,
     "title": ""
    }
   },
   "outputs": [
    {
     "name": "stdout",
     "output_type": "stream",
     "text": [
      "root\n",
      " |-- DateTime: timestamp (nullable = true)\n",
      " |-- Easting: double (nullable = false)\n",
      " |-- Northing: double (nullable = false)\n",
      " |-- Depth: double (nullable = false)\n",
      " |-- Temp: double (nullable = false)\n",
      " |-- Sal: double (nullable = false)\n",
      " |-- Oxy: double (nullable = false)\n",
      " |-- Grain: string (nullable = true)\n",
      " |-- Bedform: string (nullable = true)\n",
      " |-- ac: integer (nullable = true)\n",
      " |-- ae: integer (nullable = true)\n",
      " |-- an: integer (nullable = true)\n",
      " |-- ap: integer (nullable = true)\n",
      " |-- as: integer (nullable = true)\n",
      " |-- ba: integer (nullable = true)\n",
      " |-- bas: integer (nullable = true)\n",
      " |-- bc: integer (nullable = true)\n",
      " |-- bgo: integer (nullable = true)\n",
      " |-- bgu: integer (nullable = true)\n",
      " |-- bi: integer (nullable = true)\n",
      " |-- bo: integer (nullable = true)\n",
      " |-- br: integer (nullable = true)\n",
      " |-- bs: integer (nullable = true)\n",
      " |-- ca: integer (nullable = true)\n",
      " |-- cc: integer (nullable = true)\n",
      " |-- cd: integer (nullable = true)\n",
      " |-- cg: integer (nullable = true)\n",
      " |-- ch: integer (nullable = true)\n",
      " |-- com: integer (nullable = true)\n",
      " |-- cp: integer (nullable = true)\n",
      " |-- cr: integer (nullable = true)\n",
      " |-- cs: integer (nullable = true)\n",
      " |-- cu: integer (nullable = true)\n",
      " |-- de: integer (nullable = true)\n",
      " |-- dp: integer (nullable = true)\n",
      " |-- eo: integer (nullable = true)\n",
      " |-- ep: integer (nullable = true)\n",
      " |-- eu: integer (nullable = true)\n",
      " |-- fej: integer (nullable = true)\n",
      " |-- fl: integer (nullable = true)\n",
      " |-- fo: integer (nullable = true)\n",
      " |-- fr: integer (nullable = true)\n",
      " |-- go: integer (nullable = true)\n",
      " |-- ha: integer (nullable = true)\n",
      " |-- hal: integer (nullable = true)\n",
      " |-- hb: integer (nullable = true)\n",
      " |-- hl: integer (nullable = true)\n",
      " |-- ii: integer (nullable = true)\n",
      " |-- io: integer (nullable = true)\n",
      " |-- ir: integer (nullable = true)\n",
      " |-- jde: integer (nullable = true)\n",
      " |-- jm: integer (nullable = true)\n",
      " |-- kb: integer (nullable = true)\n",
      " |-- kw: string (nullable = true)\n",
      " |-- lc: integer (nullable = true)\n",
      " |-- lcom: integer (nullable = true)\n",
      " |-- li: integer (nullable = true)\n",
      " |-- ln: integer (nullable = true)\n",
      " |-- lo: integer (nullable = true)\n",
      " |-- ls: integer (nullable = true)\n",
      " |-- lss: integer (nullable = true)\n",
      " |-- lu: integer (nullable = true)\n",
      " |-- ly: integer (nullable = true)\n",
      " |-- lz: integer (nullable = true)\n",
      " |-- mc: integer (nullable = true)\n",
      " |-- mr: string (nullable = true)\n",
      " |-- ms: integer (nullable = true)\n",
      " |-- mse: integer (nullable = true)\n",
      " |-- ol: integer (nullable = true)\n",
      " |-- ow: integer (nullable = true)\n",
      " |-- pa: integer (nullable = true)\n",
      " |-- pc: integer (nullable = true)\n",
      " |-- pem: integer (nullable = true)\n",
      " |-- pg: integer (nullable = true)\n",
      " |-- ph: integer (nullable = true)\n",
      " |-- pi: integer (nullable = true)\n",
      " |-- pl: integer (nullable = true)\n",
      " |-- po: integer (nullable = true)\n",
      " |-- pp: integer (nullable = true)\n",
      " |-- ppl: integer (nullable = true)\n",
      " |-- ps: integer (nullable = true)\n",
      " |-- pt: integer (nullable = true)\n",
      " |-- pyr: integer (nullable = true)\n",
      " |-- ra: integer (nullable = true)\n",
      " |-- rb: integer (nullable = true)\n",
      " |-- rh: integer (nullable = true)\n",
      " |-- ro: integer (nullable = true)\n",
      " |-- ru: integer (nullable = true)\n",
      " |-- rw: integer (nullable = true)\n",
      " |-- sa: integer (nullable = true)\n",
      " |-- sb: integer (nullable = true)\n",
      " |-- sc: integer (nullable = true)\n",
      " |-- scom: integer (nullable = true)\n",
      " |-- sd: integer (nullable = true)\n",
      " |-- se: integer (nullable = true)\n",
      " |-- sec: integer (nullable = true)\n",
      " |-- sh: integer (nullable = true)\n",
      " |-- shc: integer (nullable = true)\n",
      " |-- sl: integer (nullable = true)\n",
      " |-- sm: integer (nullable = true)\n",
      " |-- spo: integer (nullable = true)\n",
      " |-- sq: integer (nullable = true)\n",
      " |-- ss: integer (nullable = true)\n",
      " |-- st: integer (nullable = true)\n",
      " |-- te: integer (nullable = true)\n",
      " |-- th: integer (nullable = true)\n",
      " |-- ti: integer (nullable = true)\n",
      " |-- tr: integer (nullable = true)\n",
      " |-- unkss: integer (nullable = true)\n",
      " |-- vm: integer (nullable = true)\n",
      " |-- vr: integer (nullable = true)\n",
      " |-- vs: integer (nullable = true)\n",
      " |-- wfs: integer (nullable = true)\n",
      " |-- xl: integer (nullable = true)\n",
      " |-- ye: integer (nullable = true)\n",
      " |-- za: integer (nullable = true)\n",
      " |-- bl: integer (nullable = true)\n",
      " |-- hc: integer (nullable = true)\n",
      " |-- pe: integer (nullable = true)\n",
      " |-- py: integer (nullable = true)\n",
      "\n"
     ]
    }
   ],
   "source": [
    "# Verify the schema to ensure that the relevant columns are numeric\n",
    "rovobservationdata.printSchema()\n",
    "\n",
    "# If necessary, convert columns to numeric types\n",
    "rovobservationdata = rovobservationdata.withColumn(\"Depth\", col(\"Depth\").cast(\"double\"))\n",
    "rovobservationdata = rovobservationdata.withColumn(\"Temp\", col(\"Temp\").cast(\"double\"))\n",
    "rovobservationdata = rovobservationdata.withColumn(\"Oxy\", col(\"Oxy\").cast(\"double\"))\n",
    "\n",
    "# Discard rows with null values in important columns\n",
    "rovobservationdata = rovobservationdata.dropna(subset=[\"Depth\", \"Temp\", \"Oxy\"])"
   ]
  },
  {
   "cell_type": "markdown",
   "metadata": {
    "application/vnd.databricks.v1+cell": {
     "cellMetadata": {},
     "inputWidgets": {},
     "nuid": "e7197ce4-d890-4f23-b3be-10489b15de7b",
     "showTitle": false,
     "title": ""
    }
   },
   "source": [
    "# Step 3: Distribution Analysis"
   ]
  },
  {
   "cell_type": "code",
   "execution_count": null,
   "metadata": {
    "application/vnd.databricks.v1+cell": {
     "cellMetadata": {
      "byteLimit": 2048000,
      "rowLimit": 10000
     },
     "inputWidgets": {},
     "nuid": "af7f1b74-8948-45f5-a63f-c51be2e26760",
     "showTitle": false,
     "title": ""
    }
   },
   "outputs": [
    {
     "name": "stdout",
     "output_type": "stream",
     "text": [
      "+-------+------------------+------------------+------------------+\n",
      "|summary|             Depth|              Temp|               Oxy|\n",
      "+-------+------------------+------------------+------------------+\n",
      "|  count|              2404|              2404|              2404|\n",
      "|   mean| 51.14148419301156|11.591623086522528| 3.707995008319471|\n",
      "| stddev|23.648458324812804|1.1505305413100422|0.9842199561864603|\n",
      "|    min|             9.454|            9.5947|             1.877|\n",
      "|    max|            146.51|            16.151|             6.198|\n",
      "+-------+------------------+------------------+------------------+\n",
      "\n"
     ]
    }
   ],
   "source": [
    "# Statistical Summary of the Variables of Interest\n",
    "rovobservationdata.select(\"Depth\", \"Temp\", \"Oxy\").describe().show()"
   ]
  },
  {
   "cell_type": "code",
   "execution_count": null,
   "metadata": {
    "application/vnd.databricks.v1+cell": {
     "cellMetadata": {
      "byteLimit": 2048000,
      "rowLimit": 10000
     },
     "inputWidgets": {},
     "nuid": "d388e8fd-40e7-4e8d-bbc8-677469de7227",
     "showTitle": false,
     "title": ""
    }
   },
   "outputs": [
    {
     "data": {
      "image/png": "[encoded data removed]"
     },
     "metadata": {
      "application/vnd.databricks.v1+output": {
       "addedWidgets": {},
       "arguments": {},
       "data": "data:image/png;base64,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\n",
       "datasetInfos": [],
       "metadata": {},
       "removedWidgets": [],
       "type": "image"
      }
     },
     "output_type": "display_data"
    }
   ],
   "source": [
    "sns.scatterplot(x=\"Depth\", y=\"Temp\", data=rovobservationdata.toPandas())\n",
    "plt.title('Temperature vs Depth Scatter Plot')\n",
    "plt.xlabel('Depth')\n",
    "plt.ylabel('Temperature')\n",
    "plt.show()"
   ]
  },
  {
   "cell_type": "markdown",
   "metadata": {
    "application/vnd.databricks.v1+cell": {
     "cellMetadata": {},
     "inputWidgets": {},
     "nuid": "7c6926e8-6349-4eb0-a120-fb5c9e490db0",
     "showTitle": false,
     "title": ""
    }
   },
   "source": [
    "The scatter plot suggests that temperature generally decreases as depth increases, with significant variability in the data. This visualization helps to understand the relationship and distribution between depth and temperature in the dataset"
   ]
  },
  {
   "cell_type": "code",
   "execution_count": null,
   "metadata": {
    "application/vnd.databricks.v1+cell": {
     "cellMetadata": {
      "byteLimit": 2048000,
      "rowLimit": 10000
     },
     "inputWidgets": {},
     "nuid": "00b9791a-4562-4f5d-83a7-4fafa9dfacb7",
     "showTitle": false,
     "title": ""
    }
   },
   "outputs": [
    {
     "data": {
      "image/png": "[encoded data removed]"
     },
     "metadata": {
      "application/vnd.databricks.v1+output": {
       "addedWidgets": {},
       "arguments": {},
       "data": "data:image/png;base64,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\n",
       "datasetInfos": [],
       "metadata": {},
       "removedWidgets": [],
       "type": "image"
      }
     },
     "output_type": "display_data"
    }
   ],
   "source": [
    "# Oxygen Distribution\n",
    "sns.histplot(rovobservationdata.select(\"Oxy\").toPandas(), bins=20, kde=True)\n",
    "plt.title('Oxygen Distribution')\n",
    "plt.xlabel('Oxygen')\n",
    "plt.ylabel('Frequency')\n",
    "plt.show()"
   ]
  },
  {
   "cell_type": "markdown",
   "metadata": {
    "application/vnd.databricks.v1+cell": {
     "cellMetadata": {},
     "inputWidgets": {},
     "nuid": "00e8b1e0-c241-4fcd-b616-11ba0daec9b0",
     "showTitle": false,
     "title": ""
    }
   },
   "source": [
    "2.5 to 4.0 units of oxygen: This is the most common range where the highest frequency of observations of marine fauna occurs."
   ]
  },
  {
   "cell_type": "markdown",
   "metadata": {
    "application/vnd.databricks.v1+cell": {
     "cellMetadata": {},
     "inputWidgets": {},
     "nuid": "0598fa95-3f67-49da-9284-fa78c7da6413",
     "showTitle": false,
     "title": ""
    }
   },
   "source": [
    "# Step 4: Relationship Analysis"
   ]
  },
  {
   "cell_type": "code",
   "execution_count": null,
   "metadata": {
    "application/vnd.databricks.v1+cell": {
     "cellMetadata": {
      "byteLimit": 2048000,
      "rowLimit": 10000
     },
     "inputWidgets": {},
     "nuid": "35a53110-52fb-43b7-87a5-61afa775ea91",
     "showTitle": false,
     "title": ""
    }
   },
   "outputs": [
    {
     "data": {
      "image/png": "[encoded data removed]"
     },
     "metadata": {
      "application/vnd.databricks.v1+output": {
       "addedWidgets": {},
       "arguments": {},
       "data": "data:image/png;base64,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\n",
       "datasetInfos": [],
       "metadata": {},
       "removedWidgets": [],
       "type": "image"
      }
     },
     "output_type": "display_data"
    }
   ],
   "source": [
    "# Correlation matrix of the diffetent variables\n",
    "correlation_matrix = rovobservationdata.select(\"Depth\", \"Temp\", \"Oxy\").toPandas().corr()\n",
    "sns.heatmap(correlation_matrix, annot=True, cmap='coolwarm', linewidths=.5)\n",
    "plt.title('Correlation Matrix')\n",
    "plt.show()"
   ]
  },
  {
   "cell_type": "markdown",
   "metadata": {
    "application/vnd.databricks.v1+cell": {
     "cellMetadata": {},
     "inputWidgets": {},
     "nuid": "6527c8c8-c0a2-40ce-9f00-d2382f5246b2",
     "showTitle": false,
     "title": ""
    }
   },
   "source": [
    "The strongest correlation in the matrix is the positive correlation between the second and third variables (0.9), indicating a significant positive relationship.\n",
    "The moderate negative correlation between the first and second variables (-0.32) suggests an inverse relationship, though not as strong.\n",
    "There is a positive correlation between temperature and oxygen, and an inverse correlation between depth and temperature."
   ]
  },
  {
   "cell_type": "markdown",
   "metadata": {
    "application/vnd.databricks.v1+cell": {
     "cellMetadata": {},
     "inputWidgets": {},
     "nuid": "67071b75-7d15-4b39-8e60-ec296019a90c",
     "showTitle": false,
     "title": ""
    }
   },
   "source": [
    "# Species Mobility Analysis\n",
    "### Objective: Evaluate how species mobility affects their distribution and tolerance to oxygen conditions.\n",
    "### Steps:\n",
    " - Classify species based on their mobility (sessile, mobile, highly mobile) using species data.\n",
    " - Compare oxygen distributions and tolerances among these categories.\n",
    " - Use statistical analyses to evaluate significant differences in distribution and oxygen tolerance."
   ]
  },
  {
   "cell_type": "markdown",
   "metadata": {
    "application/vnd.databricks.v1+cell": {
     "cellMetadata": {
      "byteLimit": 2048000,
      "rowLimit": 10000
     },
     "inputWidgets": {},
     "nuid": "7ff828da-670c-478b-8a6b-1d5d36403780",
     "showTitle": false,
     "title": ""
    }
   },
   "source": [
    "### a) Classify the species based on their mobility. Integrate this classification with the ROV observation data. Calculate the average oxygen levels for each mobility classification. Visualize the distribution of oxygen levels for each mobility classification."
   ]
  },
  {
   "cell_type": "code",
   "execution_count": null,
   "metadata": {
    "application/vnd.databricks.v1+cell": {
     "cellMetadata": {
      "byteLimit": 2048000,
      "rowLimit": 10000
     },
     "inputWidgets": {},
     "nuid": "7ee71d4e-7a5c-43e6-87c0-4d729f25464a",
     "showTitle": false,
     "title": ""
    }
   },
   "outputs": [
    {
     "data": {
      "text/html": [
       "<style scoped>\n",
       "  .table-result-container {\n",
       "    max-height: 300px;\n",
       "    overflow: auto;\n",
       "  }\n",
       "  table, th, td {\n",
       "    border: 1px solid black;\n",
       "    border-collapse: collapse;\n",
       "  }\n",
       "  th, td {\n",
       "    padding: 5px;\n",
       "  }\n",
       "  th {\n",
       "    text-align: left;\n",
       "  }\n",
       "</style><div class='table-result-container'><table class='table-result'><thead style='background-color: white'><tr><th>SpeciesCode</th><th>Mobility</th><th>SpeciesName</th><th>CommonName</th><th>MajorTaxa</th><th>Group</th><th>QuantScale</th></tr></thead><tbody><tr><td>ac</td><td>s</td><td>Acanthoptilum sp.</td><td>Sea Pen</td><td>Cnidaria</td><td>Virgulariid</td><td>individuals</td></tr><tr><td>ae</td><td>m</td><td>Mediaster aequalis</td><td>Vermillion seastar</td><td>Echinodermata</td><td>Asteroid</td><td>individuals</td></tr><tr><td>an</td><td>s</td><td>Parazoanthus lucificum</td><td>Luminescent Parazoanthid</td><td>Cnidaria</td><td>Parazoanthid</td><td>individuals</td></tr><tr><td>ap</td><td>s</td><td>Adelogorgia phyllosclera</td><td>Orange Gorgonian</td><td>Cnidaria</td><td>Gorgoniid</td><td>individuals</td></tr><tr><td>as</td><td>m</td><td>Astropecten sp.</td><td>Sand Star</td><td>Echinodermata</td><td>Asteroid</td><td>individuals</td></tr></tbody></table></div>"
      ]
     },
     "metadata": {
      "application/vnd.databricks.v1+output": {
       "addedWidgets": {},
       "aggData": [],
       "aggError": "",
       "aggOverflow": false,
       "aggSchema": [],
       "aggSeriesLimitReached": false,
       "aggType": "",
       "arguments": {},
       "columnCustomDisplayInfos": {},
       "data": [
        [
         "ac",
         "s",
         "Acanthoptilum sp.",
         "Sea Pen",
         "Cnidaria",
         "Virgulariid",
         "individuals"
        ],
        [
         "ae",
         "m",
         "Mediaster aequalis",
         "Vermillion seastar",
         "Echinodermata",
         "Asteroid",
         "individuals"
        ],
        [
         "an",
         "s",
         "Parazoanthus lucificum",
         "Luminescent Parazoanthid",
         "Cnidaria",
         "Parazoanthid",
         "individuals"
        ],
        [
         "ap",
         "s",
         "Adelogorgia phyllosclera",
         "Orange Gorgonian",
         "Cnidaria",
         "Gorgoniid",
         "individuals"
        ],
        [
         "as",
         "m",
         "Astropecten sp.",
         "Sand Star",
         "Echinodermata",
         "Asteroid",
         "individuals"
        ]
       ],
       "datasetInfos": [],
       "dbfsResultPath": null,
       "isJsonSchema": true,
       "metadata": {},
       "overflow": false,
       "plotOptions": {
        "customPlotOptions": {},
        "displayType": "table",
        "pivotAggregation": null,
        "pivotColumns": null,
        "xColumns": null,
        "yColumns": null
       },
       "removedWidgets": [],
       "schema": [
        {
         "metadata": "{}",
         "name": "SpeciesCode",
         "type": "\"string\""
        },
        {
         "metadata": "{}",
         "name": "Mobility",
         "type": "\"string\""
        },
        {
         "metadata": "{}",
         "name": "SpeciesName",
         "type": "\"string\""
        },
        {
         "metadata": "{}",
         "name": "CommonName",
         "type": "\"string\""
        },
        {
         "metadata": "{}",
         "name": "MajorTaxa",
         "type": "\"string\""
        },
        {
         "metadata": "{}",
         "name": "Group",
         "type": "\"string\""
        },
        {
         "metadata": "{}",
         "name": "QuantScale",
         "type": "\"string\""
        }
       ],
       "type": "table"
      }
     },
     "output_type": "display_data"
    }
   ],
   "source": [
    "species_df = (\n",
    "    spark.read.format(\"csv\")\n",
    "    .option(\"delimiter\", \",\")\n",
    "    .option(\"header\", \"true\")\n",
    "    .option(\"inferSchema\", \"true\")\n",
    "    .load(\"/mnt/megafauna/raw-data/SpeciesMetadata.csv\")\n",
    ")\n",
    "\n",
    "# Display the first 5 rows\n",
    "species_df.limit(5).display()"
   ]
  },
  {
   "cell_type": "code",
   "execution_count": null,
   "metadata": {
    "application/vnd.databricks.v1+cell": {
     "cellMetadata": {
      "byteLimit": 2048000,
      "rowLimit": 10000
     },
     "inputWidgets": {},
     "nuid": "2d88d382-5901-49e8-b2a5-941204848665",
     "showTitle": false,
     "title": ""
    }
   },
   "outputs": [
    {
     "name": "stdout",
     "output_type": "stream",
     "text": [
      "{'sessile': 3.6170446976336503, 'mobile': 3.570479321753514, 'highly_mobile': 3.6500532915360577}\n"
     ]
    }
   ],
   "source": [
    "# Create a dictionary for mobility classifications from species data\n",
    "mobility_dict = {row['SpeciesCode']: row['Mobility'] for row in species_df.collect()}\n",
    "\n",
    "# Add mobility classification to ROV observation data\n",
    "for species_code, mobility in mobility_dict.items():\n",
    "    if species_code in rovobservationdata.columns:\n",
    "        rovobservationdata = rovobservationdata.withColumn(f\"{species_code}_mobility\", when(col(species_code) > 0, mobility).otherwise(None))\n",
    "\n",
    "# Melt the DataFrame\n",
    "mobility_columns = [f\"{species_code}_mobility\" for species_code in mobility_dict.keys() if f\"{species_code}_mobility\" in rovobservationdata.columns]\n",
    "melted_df = rovobservationdata.select(col(\"Oxy\"), explode(array([col(c).alias(\"mobility\") for c in mobility_columns])).alias(\"mobility\"))\n",
    "\n",
    "# Filter and calculate average oxygen levels for each mobility classification\n",
    "sessile_df = melted_df.filter(col(\"mobility\") == 's').filter(col(\"Oxy\").isNotNull() & (col(\"Oxy\") > 0))\n",
    "mobile_df = melted_df.filter(col(\"mobility\") == 'm').filter(col(\"Oxy\").isNotNull() & (col(\"Oxy\") > 0))\n",
    "highly_mobile_df = melted_df.filter(col(\"mobility\") == 'hm').filter(col(\"Oxy\").isNotNull() & (col(\"Oxy\") > 0))\n",
    "\n",
    "# Calculate average oxygen levels\n",
    "avg_oxy_sessile = sessile_df.agg(mean(\"Oxy\")).first()[0]\n",
    "avg_oxy_mobile = mobile_df.agg(mean(\"Oxy\")).first()[0]\n",
    "avg_oxy_highly_mobile = highly_mobile_df.agg(mean(\"Oxy\")).first()[0]\n",
    "\n",
    "average_oxygen_levels = {\n",
    "    \"sessile\": avg_oxy_sessile,\n",
    "    \"mobile\": avg_oxy_mobile,\n",
    "    \"highly_mobile\": avg_oxy_highly_mobile\n",
    "}\n",
    "\n",
    "print(average_oxygen_levels)"
   ]
  },
  {
   "cell_type": "markdown",
   "metadata": {
    "application/vnd.databricks.v1+cell": {
     "cellMetadata": {},
     "inputWidgets": {},
     "nuid": "d8fd8535-8926-46b6-b9ac-e13d68813bdd",
     "showTitle": false,
     "title": ""
    }
   },
   "source": [
    "\n",
    "### b) Compare the distributions and tolerances of oxygen between these categories"
   ]
  },
  {
   "cell_type": "code",
   "execution_count": null,
   "metadata": {
    "application/vnd.databricks.v1+cell": {
     "cellMetadata": {
      "byteLimit": 2048000,
      "rowLimit": 10000
     },
     "inputWidgets": {},
     "nuid": "bb6dd188-603e-4c15-8d7e-dad7da58b489",
     "showTitle": false,
     "title": ""
    }
   },
   "outputs": [
    {
     "data": {
      "image/png": "[encoded data removed]"
     },
     "metadata": {
      "application/vnd.databricks.v1+output": {
       "addedWidgets": {},
       "arguments": {},
       "data": "data:image/png;base64,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\n",
       "datasetInfos": [],
       "metadata": {},
       "removedWidgets": [],
       "type": "image"
      }
     },
     "output_type": "display_data"
    }
   ],
   "source": [
    "# Collect oxygen levels for each mobility classification\n",
    "sessile_oxygen_levels = [row['Oxy'] for row in sessile_df.collect()]\n",
    "mobile_oxygen_levels = [row['Oxy'] for row in mobile_df.collect()]\n",
    "highly_mobile_oxygen_levels = [row['Oxy'] for row in highly_mobile_df.collect()]\n",
    "\n",
    "# Create a boxplot for the distribution of oxygen levels\n",
    "data = [sessile_oxygen_levels, mobile_oxygen_levels, highly_mobile_oxygen_levels]\n",
    "labels = ['Sessile', 'Mobile', 'Highly Mobile']\n",
    "\n",
    "plt.figure(figsize=(10, 6))\n",
    "plt.boxplot(data, labels=labels)\n",
    "plt.xlabel('Mobility Classification')\n",
    "plt.ylabel('Oxygen Levels')\n",
    "plt.title('Distribution of Oxygen Levels by Species Mobility')\n",
    "plt.show()"
   ]
  },
  {
   "cell_type": "markdown",
   "metadata": {
    "application/vnd.databricks.v1+cell": {
     "cellMetadata": {},
     "inputWidgets": {},
     "nuid": "0d9fb570-0d4a-46ae-a0d7-3ddeb85f203b",
     "showTitle": false,
     "title": ""
    }
   },
   "source": [
    "The median oxygen levels are relatively similar across all three mobility categories. The IQRs are also similar, suggesting that the range of typical oxygen levels is fairly consistent across mobility categories. The presence of outliers in the mobile and highly mobile categories indicates that some species in these categories can tolerate higher oxygen levels than most. The similarity in median oxygen levels suggests that oxygen tolerance might not be significantly influenced by species mobility. However, the outliers in mobile and highly mobile species indicate that these species might occasionally be found in environments with higher oxygen levels, possibly due to their ability to move and seek more optimal conditions."
   ]
  },
  {
   "cell_type": "markdown",
   "metadata": {
    "application/vnd.databricks.v1+cell": {
     "cellMetadata": {},
     "inputWidgets": {},
     "nuid": "ad1d8365-fd50-4d90-8aeb-613802cf89a0",
     "showTitle": false,
     "title": ""
    }
   },
   "source": [
    "### c) Use statistical analyses to evaluate significant differences in distribution and oxygen tolerance."
   ]
  },
  {
   "cell_type": "code",
   "execution_count": null,
   "metadata": {
    "application/vnd.databricks.v1+cell": {
     "cellMetadata": {
      "byteLimit": 2048000,
      "rowLimit": 10000
     },
     "inputWidgets": {},
     "nuid": "1044b4fd-2aba-40d3-a482-5258f5448d05",
     "showTitle": false,
     "title": ""
    }
   },
   "outputs": [
    {
     "name": "stdout",
     "output_type": "stream",
     "text": [
      "+------------------+------------------+-----+\n",
      "|              mean|            stddev|count|\n",
      "+------------------+------------------+-----+\n",
      "|3.6170446976336503|0.9619668460083771| 2282|\n",
      "+------------------+------------------+-----+\n",
      "\n",
      "+-----------------+------------------+-----+\n",
      "|             mean|            stddev|count|\n",
      "+-----------------+------------------+-----+\n",
      "|3.570479321753514|0.8608083920971481| 2418|\n",
      "+-----------------+------------------+-----+\n",
      "\n",
      "+------------------+------------------+-----+\n",
      "|              mean|            stddev|count|\n",
      "+------------------+------------------+-----+\n",
      "|3.6500532915360577|0.9082754305562265|  638|\n",
      "+------------------+------------------+-----+\n",
      "\n"
     ]
    }
   ],
   "source": [
    "# Calculate descriptive statistics\n",
    "sessile_stats = sessile_df.agg(mean(\"Oxy\").alias(\"mean\"), stddev(\"Oxy\").alias(\"stddev\"), count(\"Oxy\").alias(\"count\"))\n",
    "mobile_stats = mobile_df.agg(mean(\"Oxy\").alias(\"mean\"), stddev(\"Oxy\").alias(\"stddev\"), count(\"Oxy\").alias(\"count\"))\n",
    "highly_mobile_stats = highly_mobile_df.agg(mean(\"Oxy\").alias(\"mean\"), stddev(\"Oxy\").alias(\"stddev\"), count(\"Oxy\").alias(\"count\"))\n",
    "\n",
    "sessile_stats.show()\n",
    "mobile_stats.show()\n",
    "highly_mobile_stats.show()\n"
   ]
  },
  {
   "cell_type": "markdown",
   "metadata": {
    "application/vnd.databricks.v1+cell": {
     "cellMetadata": {},
     "inputWidgets": {},
     "nuid": "f318d600-2c62-4a69-9f60-380ac7d1a98b",
     "showTitle": false,
     "title": ""
    }
   },
   "source": [
    "**Interpretation: Comparison of Means:**\n",
    "\n",
    "The mean oxygen levels are quite similar among the three categories, with mobile species showing a slightly lower mean and sessile and highly mobile species having slightly higher and closer means to each other. This suggests that differences in species mobility do not have a significant impact on the average oxygen levels they encounter. \n",
    "\n",
    "Variability (Standard Deviation):\n",
    "\n",
    "The standard deviation is highest for sessile species (0.962) and lowest for mobile species (0.861), with highly mobile species in the middle (0.908). This indicates that oxygen levels are more consistent (less variable) for mobile species compared to sessile and highly mobile species. Number of Observations:\n",
    "\n",
    "There are more observations for mobile (2418) and sessile (2282) species compared to highly mobile species (638). This could suggest greater representativeness of mobile and sessile species in the collected data or greater difficulty in observing and recording highly mobile species. \n",
    "\n",
    "**Conclusion**: The results indicate that, although there are small differences in average oxygen levels and the variability of these levels among different mobility categories, overall, species with different types of mobility show relatively similar oxygen levels. Mobile species tend to have more consistent oxygen levels, while sessile and highly mobile species exhibit greater variability in oxygen levels."
   ]
  },
  {
   "cell_type": "markdown",
   "metadata": {
    "application/vnd.databricks.v1+cell": {
     "cellMetadata": {},
     "inputWidgets": {},
     "nuid": "adb8d92c-4668-4744-abd6-e5c5a324c654",
     "showTitle": false,
     "title": ""
    }
   },
   "source": [
    "# Habitat Evaluation\n",
    "Objective: Examine how different habitat types affect species distribution and their exposure to oxygen.\n",
    "Steps:\n",
    "- Classify observations by habitat type using the available information.\n",
    "- Analyze species abundance in different habitats and its relationship with oxygen conditions.\n"
   ]
  },
  {
   "cell_type": "markdown",
   "metadata": {
    "application/vnd.databricks.v1+cell": {
     "cellMetadata": {},
     "inputWidgets": {},
     "nuid": "2ff64431-55be-4514-86ce-f1869b962c78",
     "showTitle": false,
     "title": ""
    }
   },
   "source": [
    "### a) Classify observations by habitat type"
   ]
  },
  {
   "cell_type": "code",
   "execution_count": null,
   "metadata": {
    "application/vnd.databricks.v1+cell": {
     "cellMetadata": {
      "byteLimit": 2048000,
      "rowLimit": 10000
     },
     "inputWidgets": {},
     "nuid": "e3d14492-fbcb-4c2f-8043-9bae662adf35",
     "showTitle": false,
     "title": ""
    }
   },
   "outputs": [],
   "source": [
    "def classify_habitat(grain, bedform):\n",
    "    if grain == 's2' and bedform in ['lr', 'hr']:\n",
    "        return 'Sandy'\n",
    "    elif grain == 's1' and bedform in ['hr']:\n",
    "        return 'Rocky'\n",
    "    elif grain == 'm' and bedform in ['f', 'sv']:\n",
    "        return 'Mudflat'\n",
    "    elif grain == 's2' and bedform in ['f', 'c']:\n",
    "        return 'Soft Sandy'\n",
    "    elif grain == 'm' and bedform in ['b']:\n",
    "        return 'Mud Bank'\n",
    "    else:\n",
    "        return 'Other'"
   ]
  },
  {
   "cell_type": "code",
   "execution_count": null,
   "metadata": {
    "application/vnd.databricks.v1+cell": {
     "cellMetadata": {
      "byteLimit": 2048000,
      "rowLimit": 10000
     },
     "inputWidgets": {},
     "nuid": "bd2d28bc-7f90-4c21-baa1-b4b3800a9965",
     "showTitle": false,
     "title": ""
    }
   },
   "outputs": [
    {
     "data": {
      "text/html": [
       "<style scoped>\n",
       "  .table-result-container {\n",
       "    max-height: 300px;\n",
       "    overflow: auto;\n",
       "  }\n",
       "  table, th, td {\n",
       "    border: 1px solid black;\n",
       "    border-collapse: collapse;\n",
       "  }\n",
       "  th, td {\n",
       "    padding: 5px;\n",
       "  }\n",
       "  th {\n",
       "    text-align: left;\n",
       "  }\n",
       "</style><div class='table-result-container'><table class='table-result'><thead style='background-color: white'><tr><th>DateTime</th><th>Easting</th><th>Northing</th><th>Depth</th><th>Temp</th><th>Sal</th><th>Oxy</th><th>Grain</th><th>Bedform</th><th>ac</th><th>ae</th><th>an</th><th>ap</th><th>as</th><th>ba</th><th>bas</th><th>bc</th><th>bgo</th><th>bgu</th><th>bi</th><th>bo</th><th>br</th><th>bs</th><th>ca</th><th>cc</th><th>cd</th><th>cg</th><th>ch</th><th>com</th><th>cp</th><th>cr</th><th>cs</th><th>cu</th><th>de</th><th>dp</th><th>eo</th><th>ep</th><th>eu</th><th>fej</th><th>fl</th><th>fo</th><th>fr</th><th>go</th><th>ha</th><th>hal</th><th>hb</th><th>hl</th><th>ii</th><th>io</th><th>ir</th><th>jde</th><th>jm</th><th>kb</th><th>kw</th><th>lc</th><th>lcom</th><th>li</th><th>ln</th><th>lo</th><th>ls</th><th>lss</th><th>lu</th><th>ly</th><th>lz</th><th>mc</th><th>mr</th><th>ms</th><th>mse</th><th>ol</th><th>ow</th><th>pa</th><th>pc</th><th>pem</th><th>pg</th><th>ph</th><th>pi</th><th>pl</th><th>po</th><th>pp</th><th>ppl</th><th>ps</th><th>pt</th><th>pyr</th><th>ra</th><th>rb</th><th>rh</th><th>ro</th><th>ru</th><th>rw</th><th>sa</th><th>sb</th><th>sc</th><th>scom</th><th>sd</th><th>se</th><th>sec</th><th>sh</th><th>shc</th><th>sl</th><th>sm</th><th>spo</th><th>sq</th><th>ss</th><th>st</th><th>te</th><th>th</th><th>ti</th><th>tr</th><th>unkss</th><th>vm</th><th>vr</th><th>vs</th><th>wfs</th><th>xl</th><th>ye</th><th>za</th><th>bl</th><th>hc</th><th>pe</th><th>py</th><th>ac_mobility</th><th>ae_mobility</th><th>an_mobility</th><th>ap_mobility</th><th>as_mobility</th><th>ba_mobility</th><th>bas_mobility</th><th>bc_mobility</th><th>bgo_mobility</th><th>bgu_mobility</th><th>bi_mobility</th><th>bl_mobility</th><th>bo_mobility</th><th>br_mobility</th><th>bs_mobility</th><th>ca_mobility</th><th>cc_mobility</th><th>cd_mobility</th><th>cg_mobility</th><th>ch_mobility</th><th>com_mobility</th><th>cp_mobility</th><th>cr_mobility</th><th>cs_mobility</th><th>cu_mobility</th><th>de_mobility</th><th>dp_mobility</th><th>eo_mobility</th><th>ep_mobility</th><th>eu_mobility</th><th>fej_mobility</th><th>fl_mobility</th><th>fo_mobility</th><th>fr_mobility</th><th>go_mobility</th><th>ha_mobility</th><th>hal_mobility</th><th>hb_mobility</th><th>hc_mobility</th><th>hl_mobility</th><th>ii_mobility</th><th>io_mobility</th><th>ir_mobility</th><th>jde_mobility</th><th>jm_mobility</th><th>kb_mobility</th><th>kw_mobility</th><th>lc_mobility</th><th>lcom_mobility</th><th>li_mobility</th><th>ln_mobility</th><th>lo_mobility</th><th>ls_mobility</th><th>lss_mobility</th><th>lu_mobility</th><th>ly_mobility</th><th>lz_mobility</th><th>mc_mobility</th><th>mr_mobility</th><th>ms_mobility</th><th>mse_mobility</th><th>ol_mobility</th><th>ow_mobility</th><th>pa_mobility</th><th>pc_mobility</th><th>pe_mobility</th><th>pem_mobility</th><th>pg_mobility</th><th>ph_mobility</th><th>pi_mobility</th><th>pl_mobility</th><th>po_mobility</th><th>pp_mobility</th><th>ppl_mobility</th><th>ps_mobility</th><th>pt_mobility</th><th>py_mobility</th><th>pyr_mobility</th><th>ra_mobility</th><th>rb_mobility</th><th>rh_mobility</th><th>ro_mobility</th><th>ru_mobility</th><th>rw_mobility</th><th>sa_mobility</th><th>sb_mobility</th><th>sc_mobility</th><th>scom_mobility</th><th>sd_mobility</th><th>se_mobility</th><th>sec_mobility</th><th>sh_mobility</th><th>shc_mobility</th><th>sl_mobility</th><th>sm_mobility</th><th>spo_mobility</th><th>sq_mobility</th><th>ss_mobility</th><th>st_mobility</th><th>te_mobility</th><th>th_mobility</th><th>ti_mobility</th><th>tr_mobility</th><th>unkss_mobility</th><th>vm_mobility</th><th>vr_mobility</th><th>vs_mobility</th><th>wfs_mobility</th><th>xl_mobility</th><th>ye_mobility</th><th>za_mobility</th><th>Habitat</th></tr></thead><tbody><tr><td>2013-03-05T10:09:14.000+0000</td><td>474309.470706532</td><td>3635620.52327595</td><td>24.653</td><td>12.1313</td><td>33.5366</td><td>4.174</td><td>s2</td><td>lr</td><td>0</td><td>0</td><td>0</td><td>0</td><td>0</td><td>0</td><td>0</td><td>0</td><td>0</td><td>0</td><td>0</td><td>0</td><td>0</td><td>0</td><td>0</td><td>0</td><td>0</td><td>0</td><td>0</td><td>0</td><td>0</td><td>0</td><td>0</td><td>0</td><td>0</td><td>0</td><td>0</td><td>0</td><td>0</td><td>0</td><td>0</td><td>0</td><td>0</td><td>0</td><td>0</td><td>0</td><td>0</td><td>0</td><td>0</td><td>0</td><td>0</td><td>0</td><td>0</td><td>0</td><td>0</td><td>0</td><td>0</td><td>0</td><td>0</td><td>0</td><td>0</td><td>0</td><td>0</td><td>0</td><td>0</td><td>0</td><td>0</td><td>0</td><td>0</td><td>0</td><td>0</td><td>0</td><td>0</td><td>0</td><td>0</td><td>0</td><td>0</td><td>0</td><td>0</td><td>0</td><td>0</td><td>0</td><td>0</td><td>0</td><td>0</td><td>0</td><td>0</td><td>0</td><td>0</td><td>0</td><td>0</td><td>0</td><td>0</td><td>0</td><td>0</td><td>0</td><td>0</td><td>0</td><td>0</td><td>0</td><td>0</td><td>0</td><td>0</td><td>0</td><td>0</td><td>0</td><td>0</td><td>0</td><td>0</td><td>0</td><td>0</td><td>0</td><td>0</td><td>0</td><td>0</td><td>0</td><td>0</td><td>0</td><td>0</td><td>0</td><td>0</td><td>null</td><td>null</td><td>null</td><td>null</td><td>null</td><td>null</td><td>null</td><td>null</td><td>null</td><td>null</td><td>null</td><td>null</td><td>null</td><td>null</td><td>null</td><td>null</td><td>null</td><td>null</td><td>null</td><td>null</td><td>null</td><td>null</td><td>null</td><td>null</td><td>null</td><td>null</td><td>null</td><td>null</td><td>null</td><td>null</td><td>null</td><td>null</td><td>null</td><td>null</td><td>null</td><td>null</td><td>null</td><td>null</td><td>null</td><td>null</td><td>null</td><td>null</td><td>null</td><td>null</td><td>null</td><td>null</td><td>null</td><td>null</td><td>null</td><td>null</td><td>null</td><td>null</td><td>null</td><td>null</td><td>null</td><td>null</td><td>null</td><td>null</td><td>null</td><td>null</td><td>null</td><td>null</td><td>null</td><td>null</td><td>null</td><td>null</td><td>null</td><td>null</td><td>null</td><td>null</td><td>null</td><td>null</td><td>null</td><td>null</td><td>null</td><td>null</td><td>null</td><td>null</td><td>null</td><td>null</td><td>null</td><td>null</td><td>null</td><td>null</td><td>null</td><td>null</td><td>null</td><td>null</td><td>null</td><td>null</td><td>null</td><td>null</td><td>null</td><td>null</td><td>null</td><td>null</td><td>null</td><td>null</td><td>null</td><td>null</td><td>null</td><td>null</td><td>null</td><td>null</td><td>null</td><td>null</td><td>null</td><td>null</td><td>null</td><td>null</td><td>null</td><td>Sandy</td></tr><tr><td>2013-03-05T10:03:14.000+0000</td><td>474336.32882527</td><td>3635361.60918328</td><td>20.962</td><td>12.4446</td><td>33.5256</td><td>4.459</td><td>s2</td><td>lr</td><td>0</td><td>0</td><td>0</td><td>0</td><td>0</td><td>0</td><td>0</td><td>0</td><td>0</td><td>0</td><td>0</td><td>0</td><td>0</td><td>0</td><td>0</td><td>0</td><td>0</td><td>0</td><td>0</td><td>0</td><td>0</td><td>0</td><td>0</td><td>0</td><td>0</td><td>0</td><td>0</td><td>0</td><td>0</td><td>0</td><td>0</td><td>0</td><td>0</td><td>0</td><td>0</td><td>0</td><td>0</td><td>0</td><td>0</td><td>0</td><td>0</td><td>0</td><td>0</td><td>0</td><td>0</td><td>0</td><td>0</td><td>0</td><td>0</td><td>0</td><td>0</td><td>0</td><td>0</td><td>0</td><td>0</td><td>0</td><td>0</td><td>0</td><td>0</td><td>0</td><td>0</td><td>0</td><td>0</td><td>0</td><td>0</td><td>0</td><td>0</td><td>0</td><td>0</td><td>0</td><td>0</td><td>0</td><td>0</td><td>0</td><td>0</td><td>0</td><td>0</td><td>0</td><td>0</td><td>0</td><td>0</td><td>0</td><td>0</td><td>0</td><td>0</td><td>0</td><td>0</td><td>0</td><td>0</td><td>0</td><td>0</td><td>0</td><td>0</td><td>0</td><td>0</td><td>0</td><td>0</td><td>0</td><td>0</td><td>0</td><td>0</td><td>0</td><td>0</td><td>0</td><td>0</td><td>0</td><td>0</td><td>0</td><td>0</td><td>0</td><td>0</td><td>null</td><td>null</td><td>null</td><td>null</td><td>null</td><td>null</td><td>null</td><td>null</td><td>null</td><td>null</td><td>null</td><td>null</td><td>null</td><td>null</td><td>null</td><td>null</td><td>null</td><td>null</td><td>null</td><td>null</td><td>null</td><td>null</td><td>null</td><td>null</td><td>null</td><td>null</td><td>null</td><td>null</td><td>null</td><td>null</td><td>null</td><td>null</td><td>null</td><td>null</td><td>null</td><td>null</td><td>null</td><td>null</td><td>null</td><td>null</td><td>null</td><td>null</td><td>null</td><td>null</td><td>null</td><td>null</td><td>null</td><td>null</td><td>null</td><td>null</td><td>null</td><td>null</td><td>null</td><td>null</td><td>null</td><td>null</td><td>null</td><td>null</td><td>null</td><td>null</td><td>null</td><td>null</td><td>null</td><td>null</td><td>null</td><td>null</td><td>null</td><td>null</td><td>null</td><td>null</td><td>null</td><td>null</td><td>null</td><td>null</td><td>null</td><td>null</td><td>null</td><td>null</td><td>null</td><td>null</td><td>null</td><td>null</td><td>null</td><td>null</td><td>null</td><td>null</td><td>null</td><td>null</td><td>null</td><td>null</td><td>null</td><td>null</td><td>null</td><td>null</td><td>null</td><td>null</td><td>null</td><td>null</td><td>null</td><td>null</td><td>null</td><td>null</td><td>null</td><td>null</td><td>null</td><td>null</td><td>null</td><td>null</td><td>null</td><td>null</td><td>null</td><td>Sandy</td></tr><tr><td>2013-03-05T09:54:29.000+0000</td><td>474543.140760596</td><td>3635491.96680274</td><td>22.882</td><td>12.2266</td><td>33.5263</td><td>4.263</td><td>s2</td><td>hr</td><td>0</td><td>0</td><td>0</td><td>0</td><td>0</td><td>0</td><td>0</td><td>0</td><td>0</td><td>0</td><td>0</td><td>0</td><td>0</td><td>0</td><td>0</td><td>0</td><td>0</td><td>0</td><td>0</td><td>0</td><td>0</td><td>0</td><td>0</td><td>0</td><td>0</td><td>0</td><td>0</td><td>0</td><td>0</td><td>0</td><td>0</td><td>0</td><td>0</td><td>0</td><td>0</td><td>0</td><td>0</td><td>0</td><td>0</td><td>0</td><td>0</td><td>0</td><td>0</td><td>0</td><td>0</td><td>0</td><td>0</td><td>0</td><td>0</td><td>0</td><td>0</td><td>0</td><td>0</td><td>0</td><td>0</td><td>0</td><td>0</td><td>0</td><td>0</td><td>0</td><td>0</td><td>0</td><td>0</td><td>0</td><td>0</td><td>0</td><td>0</td><td>0</td><td>0</td><td>0</td><td>0</td><td>0</td><td>0</td><td>0</td><td>0</td><td>0</td><td>0</td><td>0</td><td>0</td><td>0</td><td>0</td><td>0</td><td>0</td><td>0</td><td>0</td><td>0</td><td>0</td><td>0</td><td>0</td><td>0</td><td>0</td><td>0</td><td>0</td><td>0</td><td>0</td><td>0</td><td>0</td><td>0</td><td>0</td><td>0</td><td>0</td><td>0</td><td>0</td><td>0</td><td>0</td><td>0</td><td>0</td><td>0</td><td>0</td><td>0</td><td>0</td><td>null</td><td>null</td><td>null</td><td>null</td><td>null</td><td>null</td><td>null</td><td>null</td><td>null</td><td>null</td><td>null</td><td>null</td><td>null</td><td>null</td><td>null</td><td>null</td><td>null</td><td>null</td><td>null</td><td>null</td><td>null</td><td>null</td><td>null</td><td>null</td><td>null</td><td>null</td><td>null</td><td>null</td><td>null</td><td>null</td><td>null</td><td>null</td><td>null</td><td>null</td><td>null</td><td>null</td><td>null</td><td>null</td><td>null</td><td>null</td><td>null</td><td>null</td><td>null</td><td>null</td><td>null</td><td>null</td><td>null</td><td>null</td><td>null</td><td>null</td><td>null</td><td>null</td><td>null</td><td>null</td><td>null</td><td>null</td><td>null</td><td>null</td><td>null</td><td>null</td><td>null</td><td>null</td><td>null</td><td>null</td><td>null</td><td>null</td><td>null</td><td>null</td><td>null</td><td>null</td><td>null</td><td>null</td><td>null</td><td>null</td><td>null</td><td>null</td><td>null</td><td>null</td><td>null</td><td>null</td><td>null</td><td>null</td><td>null</td><td>null</td><td>null</td><td>null</td><td>null</td><td>null</td><td>null</td><td>null</td><td>null</td><td>null</td><td>null</td><td>null</td><td>null</td><td>null</td><td>null</td><td>null</td><td>null</td><td>null</td><td>null</td><td>null</td><td>null</td><td>null</td><td>null</td><td>null</td><td>null</td><td>null</td><td>null</td><td>null</td><td>null</td><td>Sandy</td></tr><tr><td>2013-03-05T09:56:33.000+0000</td><td>474482.508857872</td><td>3635516.73382511</td><td>25.611</td><td>12.136</td><td>33.5403</td><td>4.154</td><td>s1</td><td>hr</td><td>0</td><td>0</td><td>0</td><td>0</td><td>0</td><td>0</td><td>0</td><td>0</td><td>0</td><td>0</td><td>0</td><td>0</td><td>0</td><td>0</td><td>0</td><td>0</td><td>0</td><td>0</td><td>0</td><td>0</td><td>0</td><td>0</td><td>0</td><td>0</td><td>0</td><td>0</td><td>0</td><td>0</td><td>0</td><td>0</td><td>0</td><td>0</td><td>0</td><td>0</td><td>0</td><td>0</td><td>0</td><td>0</td><td>0</td><td>0</td><td>0</td><td>0</td><td>0</td><td>0</td><td>0</td><td>0</td><td>0</td><td>0</td><td>0</td><td>0</td><td>0</td><td>0</td><td>0</td><td>0</td><td>0</td><td>0</td><td>0</td><td>0</td><td>0</td><td>0</td><td>0</td><td>0</td><td>0</td><td>0</td><td>0</td><td>0</td><td>0</td><td>0</td><td>0</td><td>0</td><td>0</td><td>0</td><td>0</td><td>0</td><td>0</td><td>0</td><td>0</td><td>0</td><td>0</td><td>0</td><td>0</td><td>0</td><td>0</td><td>0</td><td>0</td><td>0</td><td>0</td><td>0</td><td>0</td><td>0</td><td>0</td><td>0</td><td>0</td><td>0</td><td>0</td><td>0</td><td>0</td><td>0</td><td>0</td><td>0</td><td>0</td><td>0</td><td>0</td><td>0</td><td>0</td><td>0</td><td>0</td><td>0</td><td>0</td><td>0</td><td>0</td><td>null</td><td>null</td><td>null</td><td>null</td><td>null</td><td>null</td><td>null</td><td>null</td><td>null</td><td>null</td><td>null</td><td>null</td><td>null</td><td>null</td><td>null</td><td>null</td><td>null</td><td>null</td><td>null</td><td>null</td><td>null</td><td>null</td><td>null</td><td>null</td><td>null</td><td>null</td><td>null</td><td>null</td><td>null</td><td>null</td><td>null</td><td>null</td><td>null</td><td>null</td><td>null</td><td>null</td><td>null</td><td>null</td><td>null</td><td>null</td><td>null</td><td>null</td><td>null</td><td>null</td><td>null</td><td>null</td><td>null</td><td>null</td><td>null</td><td>null</td><td>null</td><td>null</td><td>null</td><td>null</td><td>null</td><td>null</td><td>null</td><td>null</td><td>null</td><td>null</td><td>null</td><td>null</td><td>null</td><td>null</td><td>null</td><td>null</td><td>null</td><td>null</td><td>null</td><td>null</td><td>null</td><td>null</td><td>null</td><td>null</td><td>null</td><td>null</td><td>null</td><td>null</td><td>null</td><td>null</td><td>null</td><td>null</td><td>null</td><td>null</td><td>null</td><td>null</td><td>null</td><td>null</td><td>null</td><td>null</td><td>null</td><td>null</td><td>null</td><td>null</td><td>null</td><td>null</td><td>null</td><td>null</td><td>null</td><td>null</td><td>null</td><td>null</td><td>null</td><td>null</td><td>null</td><td>null</td><td>null</td><td>null</td><td>null</td><td>null</td><td>null</td><td>Rocky</td></tr><tr><td>2013-03-05T10:14:34.000+0000</td><td>474291.036341439</td><td>3635766.84725211</td><td>28.129</td><td>12.1087</td><td>33.5308</td><td>4.149</td><td>s1</td><td>hr</td><td>0</td><td>0</td><td>0</td><td>0</td><td>0</td><td>0</td><td>0</td><td>0</td><td>0</td><td>0</td><td>0</td><td>0</td><td>0</td><td>0</td><td>0</td><td>0</td><td>0</td><td>0</td><td>0</td><td>0</td><td>0</td><td>0</td><td>0</td><td>0</td><td>0</td><td>0</td><td>0</td><td>0</td><td>0</td><td>0</td><td>0</td><td>0</td><td>0</td><td>0</td><td>0</td><td>0</td><td>0</td><td>0</td><td>0</td><td>0</td><td>0</td><td>0</td><td>0</td><td>0</td><td>0</td><td>0</td><td>0</td><td>0</td><td>0</td><td>0</td><td>0</td><td>0</td><td>0</td><td>0</td><td>0</td><td>0</td><td>0</td><td>0</td><td>0</td><td>0</td><td>0</td><td>0</td><td>0</td><td>0</td><td>0</td><td>0</td><td>0</td><td>0</td><td>0</td><td>0</td><td>0</td><td>0</td><td>0</td><td>0</td><td>0</td><td>0</td><td>0</td><td>0</td><td>0</td><td>0</td><td>0</td><td>0</td><td>0</td><td>0</td><td>0</td><td>0</td><td>0</td><td>0</td><td>0</td><td>0</td><td>0</td><td>0</td><td>0</td><td>0</td><td>0</td><td>0</td><td>0</td><td>0</td><td>0</td><td>0</td><td>0</td><td>0</td><td>0</td><td>0</td><td>0</td><td>0</td><td>0</td><td>0</td><td>0</td><td>0</td><td>0</td><td>null</td><td>null</td><td>null</td><td>null</td><td>null</td><td>null</td><td>null</td><td>null</td><td>null</td><td>null</td><td>null</td><td>null</td><td>null</td><td>null</td><td>null</td><td>null</td><td>null</td><td>null</td><td>null</td><td>null</td><td>null</td><td>null</td><td>null</td><td>null</td><td>null</td><td>null</td><td>null</td><td>null</td><td>null</td><td>null</td><td>null</td><td>null</td><td>null</td><td>null</td><td>null</td><td>null</td><td>null</td><td>null</td><td>null</td><td>null</td><td>null</td><td>null</td><td>null</td><td>null</td><td>null</td><td>null</td><td>null</td><td>null</td><td>null</td><td>null</td><td>null</td><td>null</td><td>null</td><td>null</td><td>null</td><td>null</td><td>null</td><td>null</td><td>null</td><td>null</td><td>null</td><td>null</td><td>null</td><td>null</td><td>null</td><td>null</td><td>null</td><td>null</td><td>null</td><td>null</td><td>null</td><td>null</td><td>null</td><td>null</td><td>null</td><td>null</td><td>null</td><td>null</td><td>null</td><td>null</td><td>null</td><td>null</td><td>null</td><td>null</td><td>null</td><td>null</td><td>null</td><td>null</td><td>null</td><td>null</td><td>null</td><td>null</td><td>null</td><td>null</td><td>null</td><td>null</td><td>null</td><td>null</td><td>null</td><td>null</td><td>null</td><td>null</td><td>null</td><td>null</td><td>null</td><td>null</td><td>null</td><td>null</td><td>null</td><td>null</td><td>null</td><td>Rocky</td></tr></tbody></table></div>"
      ]
     },
     "metadata": {
      "application/vnd.databricks.v1+output": {
       "addedWidgets": {},
       "aggData": [],
       "aggError": "",
       "aggOverflow": false,
       "aggSchema": [],
       "aggSeriesLimitReached": false,
       "aggType": "",
       "arguments": {},
       "columnCustomDisplayInfos": {},
       "data": [
        [
         "2013-03-05T10:09:14.000+0000",
         474309.470706532,
         3635620.52327595,
         24.653,
         12.1313,
         33.5366,
         4.174,
         "s2",
         "lr",
         0,
         0,
         0,
         0,
         0,
         0,
         0,
         0,
         0,
         0,
         0,
         0,
         0,
         0,
         0,
         0,
         0,
         0,
         0,
         0,
         0,
         0,
         0,
         0,
         0,
         0,
         0,
         0,
         0,
         0,
         0,
         0,
         0,
         0,
         0,
         0,
         0,
         0,
         0,
         0,
         0,
         0,
         0,
         0,
         "0",
         0,
         0,
         0,
         0,
         0,
         0,
         0,
         0,
         0,
         0,
         0,
         "0",
         0,
         0,
         0,
         0,
         0,
         0,
         0,
         0,
         0,
         0,
         0,
         0,
         0,
         0,
         0,
         0,
         0,
         0,
         0,
         0,
         0,
         0,
         0,
         0,
         0,
         0,
         0,
         0,
         0,
         0,
         0,
         0,
         0,
         0,
         0,
         0,
         0,
         0,
         0,
         0,
         0,
         0,
         0,
         0,
         0,
         0,
         0,
         0,
         0,
         0,
         0,
         0,
         0,
         0,
         null,
         null,
         null,
         null,
         null,
         null,
         null,
         null,
         null,
         null,
         null,
         null,
         null,
         null,
         null,
         null,
         null,
         null,
         null,
         null,
         null,
         null,
         null,
         null,
         null,
         null,
         null,
         null,
         null,
         null,
         null,
         null,
         null,
         null,
         null,
         null,
         null,
         null,
         null,
         null,
         null,
         null,
         null,
         null,
         null,
         null,
         null,
         null,
         null,
         null,
         null,
         null,
         null,
         null,
         null,
         null,
         null,
         null,
         null,
         null,
         null,
         null,
         null,
         null,
         null,
         null,
         null,
         null,
         null,
         null,
         null,
         null,
         null,
         null,
         null,
         null,
         null,
         null,
         null,
         null,
         null,
         null,
         null,
         null,
         null,
         null,
         null,
         null,
         null,
         null,
         null,
         null,
         null,
         null,
         null,
         null,
         null,
         null,
         null,
         null,
         null,
         null,
         null,
         null,
         null,
         null,
         null,
         null,
         null,
         null,
         null,
         "Sandy"
        ],
        [
         "2013-03-05T10:03:14.000+0000",
         474336.32882527,
         3635361.60918328,
         20.962,
         12.4446,
         33.5256,
         4.459,
         "s2",
         "lr",
         0,
         0,
         0,
         0,
         0,
         0,
         0,
         0,
         0,
         0,
         0,
         0,
         0,
         0,
         0,
         0,
         0,
         0,
         0,
         0,
         0,
         0,
         0,
         0,
         0,
         0,
         0,
         0,
         0,
         0,
         0,
         0,
         0,
         0,
         0,
         0,
         0,
         0,
         0,
         0,
         0,
         0,
         0,
         0,
         "0",
         0,
         0,
         0,
         0,
         0,
         0,
         0,
         0,
         0,
         0,
         0,
         "0",
         0,
         0,
         0,
         0,
         0,
         0,
         0,
         0,
         0,
         0,
         0,
         0,
         0,
         0,
         0,
         0,
         0,
         0,
         0,
         0,
         0,
         0,
         0,
         0,
         0,
         0,
         0,
         0,
         0,
         0,
         0,
         0,
         0,
         0,
         0,
         0,
         0,
         0,
         0,
         0,
         0,
         0,
         0,
         0,
         0,
         0,
         0,
         0,
         0,
         0,
         0,
         0,
         0,
         0,
         null,
         null,
         null,
         null,
         null,
         null,
         null,
         null,
         null,
         null,
         null,
         null,
         null,
         null,
         null,
         null,
         null,
         null,
         null,
         null,
         null,
         null,
         null,
         null,
         null,
         null,
         null,
         null,
         null,
         null,
         null,
         null,
         null,
         null,
         null,
         null,
         null,
         null,
         null,
         null,
         null,
         null,
         null,
         null,
         null,
         null,
         null,
         null,
         null,
         null,
         null,
         null,
         null,
         null,
         null,
         null,
         null,
         null,
         null,
         null,
         null,
         null,
         null,
         null,
         null,
         null,
         null,
         null,
         null,
         null,
         null,
         null,
         null,
         null,
         null,
         null,
         null,
         null,
         null,
         null,
         null,
         null,
         null,
         null,
         null,
         null,
         null,
         null,
         null,
         null,
         null,
         null,
         null,
         null,
         null,
         null,
         null,
         null,
         null,
         null,
         null,
         null,
         null,
         null,
         null,
         null,
         null,
         null,
         null,
         null,
         null,
         "Sandy"
        ],
        [
         "2013-03-05T09:54:29.000+0000",
         474543.140760596,
         3635491.96680274,
         22.882,
         12.2266,
         33.5263,
         4.263,
         "s2",
         "hr",
         0,
         0,
         0,
         0,
         0,
         0,
         0,
         0,
         0,
         0,
         0,
         0,
         0,
         0,
         0,
         0,
         0,
         0,
         0,
         0,
         0,
         0,
         0,
         0,
         0,
         0,
         0,
         0,
         0,
         0,
         0,
         0,
         0,
         0,
         0,
         0,
         0,
         0,
         0,
         0,
         0,
         0,
         0,
         0,
         "0",
         0,
         0,
         0,
         0,
         0,
         0,
         0,
         0,
         0,
         0,
         0,
         "0",
         0,
         0,
         0,
         0,
         0,
         0,
         0,
         0,
         0,
         0,
         0,
         0,
         0,
         0,
         0,
         0,
         0,
         0,
         0,
         0,
         0,
         0,
         0,
         0,
         0,
         0,
         0,
         0,
         0,
         0,
         0,
         0,
         0,
         0,
         0,
         0,
         0,
         0,
         0,
         0,
         0,
         0,
         0,
         0,
         0,
         0,
         0,
         0,
         0,
         0,
         0,
         0,
         0,
         0,
         null,
         null,
         null,
         null,
         null,
         null,
         null,
         null,
         null,
         null,
         null,
         null,
         null,
         null,
         null,
         null,
         null,
         null,
         null,
         null,
         null,
         null,
         null,
         null,
         null,
         null,
         null,
         null,
         null,
         null,
         null,
         null,
         null,
         null,
         null,
         null,
         null,
         null,
         null,
         null,
         null,
         null,
         null,
         null,
         null,
         null,
         null,
         null,
         null,
         null,
         null,
         null,
         null,
         null,
         null,
         null,
         null,
         null,
         null,
         null,
         null,
         null,
         null,
         null,
         null,
         null,
         null,
         null,
         null,
         null,
         null,
         null,
         null,
         null,
         null,
         null,
         null,
         null,
         null,
         null,
         null,
         null,
         null,
         null,
         null,
         null,
         null,
         null,
         null,
         null,
         null,
         null,
         null,
         null,
         null,
         null,
         null,
         null,
         null,
         null,
         null,
         null,
         null,
         null,
         null,
         null,
         null,
         null,
         null,
         null,
         null,
         "Sandy"
        ],
        [
         "2013-03-05T09:56:33.000+0000",
         474482.508857872,
         3635516.73382511,
         25.611,
         12.136,
         33.5403,
         4.154,
         "s1",
         "hr",
         0,
         0,
         0,
         0,
         0,
         0,
         0,
         0,
         0,
         0,
         0,
         0,
         0,
         0,
         0,
         0,
         0,
         0,
         0,
         0,
         0,
         0,
         0,
         0,
         0,
         0,
         0,
         0,
         0,
         0,
         0,
         0,
         0,
         0,
         0,
         0,
         0,
         0,
         0,
         0,
         0,
         0,
         0,
         0,
         "0",
         0,
         0,
         0,
         0,
         0,
         0,
         0,
         0,
         0,
         0,
         0,
         "0",
         0,
         0,
         0,
         0,
         0,
         0,
         0,
         0,
         0,
         0,
         0,
         0,
         0,
         0,
         0,
         0,
         0,
         0,
         0,
         0,
         0,
         0,
         0,
         0,
         0,
         0,
         0,
         0,
         0,
         0,
         0,
         0,
         0,
         0,
         0,
         0,
         0,
         0,
         0,
         0,
         0,
         0,
         0,
         0,
         0,
         0,
         0,
         0,
         0,
         0,
         0,
         0,
         0,
         0,
         null,
         null,
         null,
         null,
         null,
         null,
         null,
         null,
         null,
         null,
         null,
         null,
         null,
         null,
         null,
         null,
         null,
         null,
         null,
         null,
         null,
         null,
         null,
         null,
         null,
         null,
         null,
         null,
         null,
         null,
         null,
         null,
         null,
         null,
         null,
         null,
         null,
         null,
         null,
         null,
         null,
         null,
         null,
         null,
         null,
         null,
         null,
         null,
         null,
         null,
         null,
         null,
         null,
         null,
         null,
         null,
         null,
         null,
         null,
         null,
         null,
         null,
         null,
         null,
         null,
         null,
         null,
         null,
         null,
         null,
         null,
         null,
         null,
         null,
         null,
         null,
         null,
         null,
         null,
         null,
         null,
         null,
         null,
         null,
         null,
         null,
         null,
         null,
         null,
         null,
         null,
         null,
         null,
         null,
         null,
         null,
         null,
         null,
         null,
         null,
         null,
         null,
         null,
         null,
         null,
         null,
         null,
         null,
         null,
         null,
         null,
         "Rocky"
        ],
        [
         "2013-03-05T10:14:34.000+0000",
         474291.036341439,
         3635766.84725211,
         28.129,
         12.1087,
         33.5308,
         4.149,
         "s1",
         "hr",
         0,
         0,
         0,
         0,
         0,
         0,
         0,
         0,
         0,
         0,
         0,
         0,
         0,
         0,
         0,
         0,
         0,
         0,
         0,
         0,
         0,
         0,
         0,
         0,
         0,
         0,
         0,
         0,
         0,
         0,
         0,
         0,
         0,
         0,
         0,
         0,
         0,
         0,
         0,
         0,
         0,
         0,
         0,
         0,
         "0",
         0,
         0,
         0,
         0,
         0,
         0,
         0,
         0,
         0,
         0,
         0,
         "0",
         0,
         0,
         0,
         0,
         0,
         0,
         0,
         0,
         0,
         0,
         0,
         0,
         0,
         0,
         0,
         0,
         0,
         0,
         0,
         0,
         0,
         0,
         0,
         0,
         0,
         0,
         0,
         0,
         0,
         0,
         0,
         0,
         0,
         0,
         0,
         0,
         0,
         0,
         0,
         0,
         0,
         0,
         0,
         0,
         0,
         0,
         0,
         0,
         0,
         0,
         0,
         0,
         0,
         0,
         null,
         null,
         null,
         null,
         null,
         null,
         null,
         null,
         null,
         null,
         null,
         null,
         null,
         null,
         null,
         null,
         null,
         null,
         null,
         null,
         null,
         null,
         null,
         null,
         null,
         null,
         null,
         null,
         null,
         null,
         null,
         null,
         null,
         null,
         null,
         null,
         null,
         null,
         null,
         null,
         null,
         null,
         null,
         null,
         null,
         null,
         null,
         null,
         null,
         null,
         null,
         null,
         null,
         null,
         null,
         null,
         null,
         null,
         null,
         null,
         null,
         null,
         null,
         null,
         null,
         null,
         null,
         null,
         null,
         null,
         null,
         null,
         null,
         null,
         null,
         null,
         null,
         null,
         null,
         null,
         null,
         null,
         null,
         null,
         null,
         null,
         null,
         null,
         null,
         null,
         null,
         null,
         null,
         null,
         null,
         null,
         null,
         null,
         null,
         null,
         null,
         null,
         null,
         null,
         null,
         null,
         null,
         null,
         null,
         null,
         null,
         "Rocky"
        ]
       ],
       "datasetInfos": [],
       "dbfsResultPath": null,
       "isJsonSchema": true,
       "metadata": {},
       "overflow": false,
       "plotOptions": {
        "customPlotOptions": {},
        "displayType": "table",
        "pivotAggregation": null,
        "pivotColumns": null,
        "xColumns": null,
        "yColumns": null
       },
       "removedWidgets": [],
       "schema": [
        {
         "metadata": "{}",
         "name": "DateTime",
         "type": "\"timestamp\""
        },
        {
         "metadata": "{}",
         "name": "Easting",
         "type": "\"double\""
        },
        {
         "metadata": "{}",
         "name": "Northing",
         "type": "\"double\""
        },
        {
         "metadata": "{}",
         "name": "Depth",
         "type": "\"double\""
        },
        {
         "metadata": "{}",
         "name": "Temp",
         "type": "\"double\""
        },
        {
         "metadata": "{}",
         "name": "Sal",
         "type": "\"double\""
        },
        {
         "metadata": "{}",
         "name": "Oxy",
         "type": "\"double\""
        },
        {
         "metadata": "{}",
         "name": "Grain",
         "type": "\"string\""
        },
        {
         "metadata": "{}",
         "name": "Bedform",
         "type": "\"string\""
        },
        {
         "metadata": "{}",
         "name": "ac",
         "type": "\"integer\""
        },
        {
         "metadata": "{}",
         "name": "ae",
         "type": "\"integer\""
        },
        {
         "metadata": "{}",
         "name": "an",
         "type": "\"integer\""
        },
        {
         "metadata": "{}",
         "name": "ap",
         "type": "\"integer\""
        },
        {
         "metadata": "{}",
         "name": "as",
         "type": "\"integer\""
        },
        {
         "metadata": "{}",
         "name": "ba",
         "type": "\"integer\""
        },
        {
         "metadata": "{}",
         "name": "bas",
         "type": "\"integer\""
        },
        {
         "metadata": "{}",
         "name": "bc",
         "type": "\"integer\""
        },
        {
         "metadata": "{}",
         "name": "bgo",
         "type": "\"integer\""
        },
        {
         "metadata": "{}",
         "name": "bgu",
         "type": "\"integer\""
        },
        {
         "metadata": "{}",
         "name": "bi",
         "type": "\"integer\""
        },
        {
         "metadata": "{}",
         "name": "bo",
         "type": "\"integer\""
        },
        {
         "metadata": "{}",
         "name": "br",
         "type": "\"integer\""
        },
        {
         "metadata": "{}",
         "name": "bs",
         "type": "\"integer\""
        },
        {
         "metadata": "{}",
         "name": "ca",
         "type": "\"integer\""
        },
        {
         "metadata": "{}",
         "name": "cc",
         "type": "\"integer\""
        },
        {
         "metadata": "{}",
         "name": "cd",
         "type": "\"integer\""
        },
        {
         "metadata": "{}",
         "name": "cg",
         "type": "\"integer\""
        },
        {
         "metadata": "{}",
         "name": "ch",
         "type": "\"integer\""
        },
        {
         "metadata": "{}",
         "name": "com",
         "type": "\"integer\""
        },
        {
         "metadata": "{}",
         "name": "cp",
         "type": "\"integer\""
        },
        {
         "metadata": "{}",
         "name": "cr",
         "type": "\"integer\""
        },
        {
         "metadata": "{}",
         "name": "cs",
         "type": "\"integer\""
        },
        {
         "metadata": "{}",
         "name": "cu",
         "type": "\"integer\""
        },
        {
         "metadata": "{}",
         "name": "de",
         "type": "\"integer\""
        },
        {
         "metadata": "{}",
         "name": "dp",
         "type": "\"integer\""
        },
        {
         "metadata": "{}",
         "name": "eo",
         "type": "\"integer\""
        },
        {
         "metadata": "{}",
         "name": "ep",
         "type": "\"integer\""
        },
        {
         "metadata": "{}",
         "name": "eu",
         "type": "\"integer\""
        },
        {
         "metadata": "{}",
         "name": "fej",
         "type": "\"integer\""
        },
        {
         "metadata": "{}",
         "name": "fl",
         "type": "\"integer\""
        },
        {
         "metadata": "{}",
         "name": "fo",
         "type": "\"integer\""
        },
        {
         "metadata": "{}",
         "name": "fr",
         "type": "\"integer\""
        },
        {
         "metadata": "{}",
         "name": "go",
         "type": "\"integer\""
        },
        {
         "metadata": "{}",
         "name": "ha",
         "type": "\"integer\""
        },
        {
         "metadata": "{}",
         "name": "hal",
         "type": "\"integer\""
        },
        {
         "metadata": "{}",
         "name": "hb",
         "type": "\"integer\""
        },
        {
         "metadata": "{}",
         "name": "hl",
         "type": "\"integer\""
        },
        {
         "metadata": "{}",
         "name": "ii",
         "type": "\"integer\""
        },
        {
         "metadata": "{}",
         "name": "io",
         "type": "\"integer\""
        },
        {
         "metadata": "{}",
         "name": "ir",
         "type": "\"integer\""
        },
        {
         "metadata": "{}",
         "name": "jde",
         "type": "\"integer\""
        },
        {
         "metadata": "{}",
         "name": "jm",
         "type": "\"integer\""
        },
        {
         "metadata": "{}",
         "name": "kb",
         "type": "\"integer\""
        },
        {
         "metadata": "{}",
         "name": "kw",
         "type": "\"string\""
        },
        {
         "metadata": "{}",
         "name": "lc",
         "type": "\"integer\""
        },
        {
         "metadata": "{}",
         "name": "lcom",
         "type": "\"integer\""
        },
        {
         "metadata": "{}",
         "name": "li",
         "type": "\"integer\""
        },
        {
         "metadata": "{}",
         "name": "ln",
         "type": "\"integer\""
        },
        {
         "metadata": "{}",
         "name": "lo",
         "type": "\"integer\""
        },
        {
         "metadata": "{}",
         "name": "ls",
         "type": "\"integer\""
        },
        {
         "metadata": "{}",
         "name": "lss",
         "type": "\"integer\""
        },
        {
         "metadata": "{}",
         "name": "lu",
         "type": "\"integer\""
        },
        {
         "metadata": "{}",
         "name": "ly",
         "type": "\"integer\""
        },
        {
         "metadata": "{}",
         "name": "lz",
         "type": "\"integer\""
        },
        {
         "metadata": "{}",
         "name": "mc",
         "type": "\"integer\""
        },
        {
         "metadata": "{}",
         "name": "mr",
         "type": "\"string\""
        },
        {
         "metadata": "{}",
         "name": "ms",
         "type": "\"integer\""
        },
        {
         "metadata": "{}",
         "name": "mse",
         "type": "\"integer\""
        },
        {
         "metadata": "{}",
         "name": "ol",
         "type": "\"integer\""
        },
        {
         "metadata": "{}",
         "name": "ow",
         "type": "\"integer\""
        },
        {
         "metadata": "{}",
         "name": "pa",
         "type": "\"integer\""
        },
        {
         "metadata": "{}",
         "name": "pc",
         "type": "\"integer\""
        },
        {
         "metadata": "{}",
         "name": "pem",
         "type": "\"integer\""
        },
        {
         "metadata": "{}",
         "name": "pg",
         "type": "\"integer\""
        },
        {
         "metadata": "{}",
         "name": "ph",
         "type": "\"integer\""
        },
        {
         "metadata": "{}",
         "name": "pi",
         "type": "\"integer\""
        },
        {
         "metadata": "{}",
         "name": "pl",
         "type": "\"integer\""
        },
        {
         "metadata": "{}",
         "name": "po",
         "type": "\"integer\""
        },
        {
         "metadata": "{}",
         "name": "pp",
         "type": "\"integer\""
        },
        {
         "metadata": "{}",
         "name": "ppl",
         "type": "\"integer\""
        },
        {
         "metadata": "{}",
         "name": "ps",
         "type": "\"integer\""
        },
        {
         "metadata": "{}",
         "name": "pt",
         "type": "\"integer\""
        },
        {
         "metadata": "{}",
         "name": "pyr",
         "type": "\"integer\""
        },
        {
         "metadata": "{}",
         "name": "ra",
         "type": "\"integer\""
        },
        {
         "metadata": "{}",
         "name": "rb",
         "type": "\"integer\""
        },
        {
         "metadata": "{}",
         "name": "rh",
         "type": "\"integer\""
        },
        {
         "metadata": "{}",
         "name": "ro",
         "type": "\"integer\""
        },
        {
         "metadata": "{}",
         "name": "ru",
         "type": "\"integer\""
        },
        {
         "metadata": "{}",
         "name": "rw",
         "type": "\"integer\""
        },
        {
         "metadata": "{}",
         "name": "sa",
         "type": "\"integer\""
        },
        {
         "metadata": "{}",
         "name": "sb",
         "type": "\"integer\""
        },
        {
         "metadata": "{}",
         "name": "sc",
         "type": "\"integer\""
        },
        {
         "metadata": "{}",
         "name": "scom",
         "type": "\"integer\""
        },
        {
         "metadata": "{}",
         "name": "sd",
         "type": "\"integer\""
        },
        {
         "metadata": "{}",
         "name": "se",
         "type": "\"integer\""
        },
        {
         "metadata": "{}",
         "name": "sec",
         "type": "\"integer\""
        },
        {
         "metadata": "{}",
         "name": "sh",
         "type": "\"integer\""
        },
        {
         "metadata": "{}",
         "name": "shc",
         "type": "\"integer\""
        },
        {
         "metadata": "{}",
         "name": "sl",
         "type": "\"integer\""
        },
        {
         "metadata": "{}",
         "name": "sm",
         "type": "\"integer\""
        },
        {
         "metadata": "{}",
         "name": "spo",
         "type": "\"integer\""
        },
        {
         "metadata": "{}",
         "name": "sq",
         "type": "\"integer\""
        },
        {
         "metadata": "{}",
         "name": "ss",
         "type": "\"integer\""
        },
        {
         "metadata": "{}",
         "name": "st",
         "type": "\"integer\""
        },
        {
         "metadata": "{}",
         "name": "te",
         "type": "\"integer\""
        },
        {
         "metadata": "{}",
         "name": "th",
         "type": "\"integer\""
        },
        {
         "metadata": "{}",
         "name": "ti",
         "type": "\"integer\""
        },
        {
         "metadata": "{}",
         "name": "tr",
         "type": "\"integer\""
        },
        {
         "metadata": "{}",
         "name": "unkss",
         "type": "\"integer\""
        },
        {
         "metadata": "{}",
         "name": "vm",
         "type": "\"integer\""
        },
        {
         "metadata": "{}",
         "name": "vr",
         "type": "\"integer\""
        },
        {
         "metadata": "{}",
         "name": "vs",
         "type": "\"integer\""
        },
        {
         "metadata": "{}",
         "name": "wfs",
         "type": "\"integer\""
        },
        {
         "metadata": "{}",
         "name": "xl",
         "type": "\"integer\""
        },
        {
         "metadata": "{}",
         "name": "ye",
         "type": "\"integer\""
        },
        {
         "metadata": "{}",
         "name": "za",
         "type": "\"integer\""
        },
        {
         "metadata": "{}",
         "name": "bl",
         "type": "\"integer\""
        },
        {
         "metadata": "{}",
         "name": "hc",
         "type": "\"integer\""
        },
        {
         "metadata": "{}",
         "name": "pe",
         "type": "\"integer\""
        },
        {
         "metadata": "{}",
         "name": "py",
         "type": "\"integer\""
        },
        {
         "metadata": "{}",
         "name": "ac_mobility",
         "type": "\"string\""
        },
        {
         "metadata": "{}",
         "name": "ae_mobility",
         "type": "\"string\""
        },
        {
         "metadata": "{}",
         "name": "an_mobility",
         "type": "\"string\""
        },
        {
         "metadata": "{}",
         "name": "ap_mobility",
         "type": "\"string\""
        },
        {
         "metadata": "{}",
         "name": "as_mobility",
         "type": "\"string\""
        },
        {
         "metadata": "{}",
         "name": "ba_mobility",
         "type": "\"string\""
        },
        {
         "metadata": "{}",
         "name": "bas_mobility",
         "type": "\"string\""
        },
        {
         "metadata": "{}",
         "name": "bc_mobility",
         "type": "\"string\""
        },
        {
         "metadata": "{}",
         "name": "bgo_mobility",
         "type": "\"string\""
        },
        {
         "metadata": "{}",
         "name": "bgu_mobility",
         "type": "\"string\""
        },
        {
         "metadata": "{}",
         "name": "bi_mobility",
         "type": "\"string\""
        },
        {
         "metadata": "{}",
         "name": "bl_mobility",
         "type": "\"string\""
        },
        {
         "metadata": "{}",
         "name": "bo_mobility",
         "type": "\"string\""
        },
        {
         "metadata": "{}",
         "name": "br_mobility",
         "type": "\"string\""
        },
        {
         "metadata": "{}",
         "name": "bs_mobility",
         "type": "\"string\""
        },
        {
         "metadata": "{}",
         "name": "ca_mobility",
         "type": "\"string\""
        },
        {
         "metadata": "{}",
         "name": "cc_mobility",
         "type": "\"string\""
        },
        {
         "metadata": "{}",
         "name": "cd_mobility",
         "type": "\"string\""
        },
        {
         "metadata": "{}",
         "name": "cg_mobility",
         "type": "\"string\""
        },
        {
         "metadata": "{}",
         "name": "ch_mobility",
         "type": "\"string\""
        },
        {
         "metadata": "{}",
         "name": "com_mobility",
         "type": "\"string\""
        },
        {
         "metadata": "{}",
         "name": "cp_mobility",
         "type": "\"string\""
        },
        {
         "metadata": "{}",
         "name": "cr_mobility",
         "type": "\"string\""
        },
        {
         "metadata": "{}",
         "name": "cs_mobility",
         "type": "\"string\""
        },
        {
         "metadata": "{}",
         "name": "cu_mobility",
         "type": "\"string\""
        },
        {
         "metadata": "{}",
         "name": "de_mobility",
         "type": "\"string\""
        },
        {
         "metadata": "{}",
         "name": "dp_mobility",
         "type": "\"string\""
        },
        {
         "metadata": "{}",
         "name": "eo_mobility",
         "type": "\"string\""
        },
        {
         "metadata": "{}",
         "name": "ep_mobility",
         "type": "\"string\""
        },
        {
         "metadata": "{}",
         "name": "eu_mobility",
         "type": "\"string\""
        },
        {
         "metadata": "{}",
         "name": "fej_mobility",
         "type": "\"string\""
        },
        {
         "metadata": "{}",
         "name": "fl_mobility",
         "type": "\"string\""
        },
        {
         "metadata": "{}",
         "name": "fo_mobility",
         "type": "\"string\""
        },
        {
         "metadata": "{}",
         "name": "fr_mobility",
         "type": "\"string\""
        },
        {
         "metadata": "{}",
         "name": "go_mobility",
         "type": "\"string\""
        },
        {
         "metadata": "{}",
         "name": "ha_mobility",
         "type": "\"string\""
        },
        {
         "metadata": "{}",
         "name": "hal_mobility",
         "type": "\"string\""
        },
        {
         "metadata": "{}",
         "name": "hb_mobility",
         "type": "\"string\""
        },
        {
         "metadata": "{}",
         "name": "hc_mobility",
         "type": "\"string\""
        },
        {
         "metadata": "{}",
         "name": "hl_mobility",
         "type": "\"string\""
        },
        {
         "metadata": "{}",
         "name": "ii_mobility",
         "type": "\"string\""
        },
        {
         "metadata": "{}",
         "name": "io_mobility",
         "type": "\"string\""
        },
        {
         "metadata": "{}",
         "name": "ir_mobility",
         "type": "\"string\""
        },
        {
         "metadata": "{}",
         "name": "jde_mobility",
         "type": "\"string\""
        },
        {
         "metadata": "{}",
         "name": "jm_mobility",
         "type": "\"string\""
        },
        {
         "metadata": "{}",
         "name": "kb_mobility",
         "type": "\"string\""
        },
        {
         "metadata": "{}",
         "name": "kw_mobility",
         "type": "\"string\""
        },
        {
         "metadata": "{}",
         "name": "lc_mobility",
         "type": "\"string\""
        },
        {
         "metadata": "{}",
         "name": "lcom_mobility",
         "type": "\"string\""
        },
        {
         "metadata": "{}",
         "name": "li_mobility",
         "type": "\"string\""
        },
        {
         "metadata": "{}",
         "name": "ln_mobility",
         "type": "\"string\""
        },
        {
         "metadata": "{}",
         "name": "lo_mobility",
         "type": "\"string\""
        },
        {
         "metadata": "{}",
         "name": "ls_mobility",
         "type": "\"string\""
        },
        {
         "metadata": "{}",
         "name": "lss_mobility",
         "type": "\"string\""
        },
        {
         "metadata": "{}",
         "name": "lu_mobility",
         "type": "\"string\""
        },
        {
         "metadata": "{}",
         "name": "ly_mobility",
         "type": "\"string\""
        },
        {
         "metadata": "{}",
         "name": "lz_mobility",
         "type": "\"string\""
        },
        {
         "metadata": "{}",
         "name": "mc_mobility",
         "type": "\"string\""
        },
        {
         "metadata": "{}",
         "name": "mr_mobility",
         "type": "\"string\""
        },
        {
         "metadata": "{}",
         "name": "ms_mobility",
         "type": "\"string\""
        },
        {
         "metadata": "{}",
         "name": "mse_mobility",
         "type": "\"string\""
        },
        {
         "metadata": "{}",
         "name": "ol_mobility",
         "type": "\"string\""
        },
        {
         "metadata": "{}",
         "name": "ow_mobility",
         "type": "\"string\""
        },
        {
         "metadata": "{}",
         "name": "pa_mobility",
         "type": "\"string\""
        },
        {
         "metadata": "{}",
         "name": "pc_mobility",
         "type": "\"string\""
        },
        {
         "metadata": "{}",
         "name": "pe_mobility",
         "type": "\"string\""
        },
        {
         "metadata": "{}",
         "name": "pem_mobility",
         "type": "\"string\""
        },
        {
         "metadata": "{}",
         "name": "pg_mobility",
         "type": "\"string\""
        },
        {
         "metadata": "{}",
         "name": "ph_mobility",
         "type": "\"string\""
        },
        {
         "metadata": "{}",
         "name": "pi_mobility",
         "type": "\"string\""
        },
        {
         "metadata": "{}",
         "name": "pl_mobility",
         "type": "\"string\""
        },
        {
         "metadata": "{}",
         "name": "po_mobility",
         "type": "\"string\""
        },
        {
         "metadata": "{}",
         "name": "pp_mobility",
         "type": "\"string\""
        },
        {
         "metadata": "{}",
         "name": "ppl_mobility",
         "type": "\"string\""
        },
        {
         "metadata": "{}",
         "name": "ps_mobility",
         "type": "\"string\""
        },
        {
         "metadata": "{}",
         "name": "pt_mobility",
         "type": "\"string\""
        },
        {
         "metadata": "{}",
         "name": "py_mobility",
         "type": "\"string\""
        },
        {
         "metadata": "{}",
         "name": "pyr_mobility",
         "type": "\"string\""
        },
        {
         "metadata": "{}",
         "name": "ra_mobility",
         "type": "\"string\""
        },
        {
         "metadata": "{}",
         "name": "rb_mobility",
         "type": "\"string\""
        },
        {
         "metadata": "{}",
         "name": "rh_mobility",
         "type": "\"string\""
        },
        {
         "metadata": "{}",
         "name": "ro_mobility",
         "type": "\"string\""
        },
        {
         "metadata": "{}",
         "name": "ru_mobility",
         "type": "\"string\""
        },
        {
         "metadata": "{}",
         "name": "rw_mobility",
         "type": "\"string\""
        },
        {
         "metadata": "{}",
         "name": "sa_mobility",
         "type": "\"string\""
        },
        {
         "metadata": "{}",
         "name": "sb_mobility",
         "type": "\"string\""
        },
        {
         "metadata": "{}",
         "name": "sc_mobility",
         "type": "\"string\""
        },
        {
         "metadata": "{}",
         "name": "scom_mobility",
         "type": "\"string\""
        },
        {
         "metadata": "{}",
         "name": "sd_mobility",
         "type": "\"string\""
        },
        {
         "metadata": "{}",
         "name": "se_mobility",
         "type": "\"string\""
        },
        {
         "metadata": "{}",
         "name": "sec_mobility",
         "type": "\"string\""
        },
        {
         "metadata": "{}",
         "name": "sh_mobility",
         "type": "\"string\""
        },
        {
         "metadata": "{}",
         "name": "shc_mobility",
         "type": "\"string\""
        },
        {
         "metadata": "{}",
         "name": "sl_mobility",
         "type": "\"string\""
        },
        {
         "metadata": "{}",
         "name": "sm_mobility",
         "type": "\"string\""
        },
        {
         "metadata": "{}",
         "name": "spo_mobility",
         "type": "\"string\""
        },
        {
         "metadata": "{}",
         "name": "sq_mobility",
         "type": "\"string\""
        },
        {
         "metadata": "{}",
         "name": "ss_mobility",
         "type": "\"string\""
        },
        {
         "metadata": "{}",
         "name": "st_mobility",
         "type": "\"string\""
        },
        {
         "metadata": "{}",
         "name": "te_mobility",
         "type": "\"string\""
        },
        {
         "metadata": "{}",
         "name": "th_mobility",
         "type": "\"string\""
        },
        {
         "metadata": "{}",
         "name": "ti_mobility",
         "type": "\"string\""
        },
        {
         "metadata": "{}",
         "name": "tr_mobility",
         "type": "\"string\""
        },
        {
         "metadata": "{}",
         "name": "unkss_mobility",
         "type": "\"string\""
        },
        {
         "metadata": "{}",
         "name": "vm_mobility",
         "type": "\"string\""
        },
        {
         "metadata": "{}",
         "name": "vr_mobility",
         "type": "\"string\""
        },
        {
         "metadata": "{}",
         "name": "vs_mobility",
         "type": "\"string\""
        },
        {
         "metadata": "{}",
         "name": "wfs_mobility",
         "type": "\"string\""
        },
        {
         "metadata": "{}",
         "name": "xl_mobility",
         "type": "\"string\""
        },
        {
         "metadata": "{}",
         "name": "ye_mobility",
         "type": "\"string\""
        },
        {
         "metadata": "{}",
         "name": "za_mobility",
         "type": "\"string\""
        },
        {
         "metadata": "{}",
         "name": "Habitat",
         "type": "\"string\""
        }
       ],
       "type": "table"
      }
     },
     "output_type": "display_data"
    }
   ],
   "source": [
    "# Define the UDF for habitat classification\n",
    "classify_habitat_udf = udf(classify_habitat, StringType())\n",
    "\n",
    "# Apply the habitat classification\n",
    "rov_df = rovobservationdata.withColumn(\"Habitat\", classify_habitat_udf(col(\"Grain\"), col(\"Bedform\")))\n",
    "\n",
    "# Show the updated DataFrame\n",
    "rov_df.limit(5).display()"
   ]
  },
  {
   "cell_type": "code",
   "execution_count": null,
   "metadata": {
    "application/vnd.databricks.v1+cell": {
     "cellMetadata": {
      "byteLimit": 2048000,
      "rowLimit": 10000
     },
     "inputWidgets": {},
     "nuid": "a10605f5-a4ab-4d53-87f6-fd358dd2b6a7",
     "showTitle": false,
     "title": ""
    }
   },
   "outputs": [
    {
     "name": "stdout",
     "output_type": "stream",
     "text": [
      "Habitat: Rocky, Stats: {'mean_oxygen': 3.7590420560747697, 'stddev_oxygen': 0.8489945078028011, 'count_oxygen': 214}\n",
      "Habitat: Mud Bank, Stats: {'mean_oxygen': 3.2187647058823528, 'stddev_oxygen': 0.3759478902407494, 'count_oxygen': 17}\n",
      "Habitat: Mudflat, Stats: {'mean_oxygen': 3.6452516556291346, 'stddev_oxygen': 0.7755397753201079, 'count_oxygen': 302}\n",
      "Habitat: Sandy, Stats: {'mean_oxygen': 3.902989417989416, 'stddev_oxygen': 0.896776425500935, 'count_oxygen': 189}\n",
      "Habitat: Soft Sandy, Stats: {'mean_oxygen': 3.5815518518518568, 'stddev_oxygen': 1.0117119383173134, 'count_oxygen': 810}\n",
      "Habitat: Other, Stats: {'mean_oxygen': 3.8019243119266006, 'stddev_oxygen': 1.0596622953836996, 'count_oxygen': 872}\n"
     ]
    },
    {
     "data": {
      "image/png": "[encoded data removed]"
     },
     "metadata": {
      "application/vnd.databricks.v1+output": {
       "addedWidgets": {},
       "arguments": {},
       "data": "data:image/png;base64,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\n",
       "datasetInfos": [],
       "metadata": {},
       "removedWidgets": [],
       "type": "image"
      }
     },
     "output_type": "display_data"
    }
   ],
   "source": [
    "# Filter observations by habitat type\n",
    "habitats = rov_df.select(\"Habitat\").distinct().rdd.flatMap(lambda x: x).collect()\n",
    "\n",
    "# Create a dictionary to store statistics by habitat\n",
    "habitat_stats = {}\n",
    "\n",
    "for habitat in habitats:\n",
    "    habitat_df = rov_df.filter(col(\"Habitat\") == habitat)\n",
    "    \n",
    "    # Calculate descriptive statistics for oxygen\n",
    "    stats = habitat_df.agg(\n",
    "        mean(\"Oxy\").alias(\"mean_oxygen\"),\n",
    "        stddev(\"Oxy\").alias(\"stddev_oxygen\"),\n",
    "        count(\"Oxy\").alias(\"count_oxygen\")\n",
    "    ).collect()[0]\n",
    "    \n",
    "    habitat_stats[habitat] = {\n",
    "        \"mean_oxygen\": stats[\"mean_oxygen\"],\n",
    "        \"stddev_oxygen\": stats[\"stddev_oxygen\"],\n",
    "        \"count_oxygen\": stats[\"count_oxygen\"]\n",
    "    }\n",
    "\n",
    "# Display the statistics by habitat\n",
    "for habitat, stats in habitat_stats.items():\n",
    "    print(f\"Habitat: {habitat}, Stats: {stats}\")\n",
    "\n",
    "# Collect data for visualization\n",
    "oxygen_levels_by_habitat = {habitat: rov_df.filter(col(\"Habitat\") == habitat).select(\"Oxy\").rdd.flatMap(lambda x: x).collect() for habitat in habitats}\n",
    "\n",
    "# Create a boxplot for the distribution of oxygen levels by habitat type\n",
    "\n",
    "data = [oxygen_levels for oxygen_levels in oxygen_levels_by_habitat.values()]\n",
    "labels = [habitat for habitat in oxygen_levels_by_habitat.keys()]\n",
    "\n",
    "plt.figure(figsize=(12, 8))\n",
    "plt.boxplot(data, labels=labels)\n",
    "plt.xlabel('Habitat Type')\n",
    "plt.ylabel('Oxygen Levels')\n",
    "plt.title('Distribution of Oxygen Levels by Habitat Type')\n",
    "plt.xticks(rotation=45)\n",
    "plt.show()"
   ]
  },
  {
   "cell_type": "markdown",
   "metadata": {
    "application/vnd.databricks.v1+cell": {
     "cellMetadata": {},
     "inputWidgets": {},
     "nuid": "cc6b9996-d156-4fe9-8522-e4eeb22dfbf5",
     "showTitle": false,
     "title": ""
    }
   },
   "source": [
    "The Mud Bank habitat type has the least oxygen, as indicated by the lowest median line in the box plot.\n"
   ]
  },
  {
   "cell_type": "markdown",
   "metadata": {
    "application/vnd.databricks.v1+cell": {
     "cellMetadata": {},
     "inputWidgets": {},
     "nuid": "593f2cf5-7268-4c53-9cf6-d88b83b345af",
     "showTitle": false,
     "title": ""
    }
   },
   "source": [
    "### b) Analyze species abundance in different habitats and its relationship with oxygen conditions."
   ]
  },
  {
   "cell_type": "code",
   "execution_count": null,
   "metadata": {
    "application/vnd.databricks.v1+cell": {
     "cellMetadata": {
      "byteLimit": 2048000,
      "rowLimit": 10000
     },
     "inputWidgets": {},
     "nuid": "66ba2c72-4444-4088-bbd4-5b5be6cdf409",
     "showTitle": false,
     "title": ""
    }
   },
   "outputs": [
    {
     "data": {
      "text/html": [
       "<style scoped>\n",
       "  .table-result-container {\n",
       "    max-height: 300px;\n",
       "    overflow: auto;\n",
       "  }\n",
       "  table, th, td {\n",
       "    border: 1px solid black;\n",
       "    border-collapse: collapse;\n",
       "  }\n",
       "  th, td {\n",
       "    padding: 5px;\n",
       "  }\n",
       "  th {\n",
       "    text-align: left;\n",
       "  }\n",
       "</style><div class='table-result-container'><table class='table-result'><thead style='background-color: white'><tr><th>Habitat</th><th>ac</th><th>ae</th><th>an</th><th>ap</th><th>as</th><th>ba</th><th>bas</th><th>bc</th><th>bgo</th><th>bgu</th><th>bi</th><th>bo</th><th>br</th><th>bs</th><th>ca</th><th>cc</th><th>cd</th><th>cg</th><th>ch</th><th>com</th><th>cp</th><th>cr</th><th>cs</th><th>cu</th><th>de</th><th>dp</th><th>eo</th><th>ep</th><th>eu</th><th>fej</th><th>fl</th><th>fo</th><th>fr</th><th>go</th><th>ha</th><th>hal</th><th>hb</th><th>hl</th><th>ii</th><th>io</th><th>ir</th><th>jde</th><th>jm</th><th>kb</th><th>kw</th><th>lc</th><th>lcom</th><th>li</th><th>ln</th><th>lo</th><th>ls</th><th>lss</th><th>lu</th><th>ly</th><th>lz</th><th>mc</th><th>mr</th><th>ms</th><th>mse</th><th>ol</th><th>ow</th><th>pa</th><th>pc</th><th>pem</th><th>pg</th><th>ph</th><th>pi</th><th>pl</th><th>po</th><th>pp</th><th>ppl</th><th>ps</th><th>pt</th><th>pyr</th><th>ra</th><th>rb</th><th>rh</th><th>ro</th><th>ru</th><th>rw</th><th>sa</th><th>sb</th><th>sc</th><th>scom</th><th>sd</th><th>se</th><th>sec</th><th>sh</th><th>shc</th><th>sl</th><th>sm</th><th>spo</th><th>sq</th><th>ss</th><th>st</th><th>te</th><th>th</th><th>ti</th><th>tr</th><th>unkss</th><th>vm</th><th>vr</th><th>vs</th><th>wfs</th><th>xl</th><th>ye</th><th>za</th><th>bl</th><th>hc</th><th>pe</th><th>py</th><th>ac_mobility</th><th>ae_mobility</th><th>an_mobility</th><th>ap_mobility</th><th>as_mobility</th><th>ba_mobility</th><th>bas_mobility</th><th>bc_mobility</th><th>bgo_mobility</th><th>bgu_mobility</th><th>bi_mobility</th><th>bl_mobility</th><th>bo_mobility</th><th>br_mobility</th><th>bs_mobility</th><th>ca_mobility</th><th>cc_mobility</th><th>cd_mobility</th><th>cg_mobility</th><th>ch_mobility</th><th>com_mobility</th><th>cp_mobility</th><th>cr_mobility</th><th>cs_mobility</th><th>cu_mobility</th><th>de_mobility</th><th>dp_mobility</th><th>eo_mobility</th><th>ep_mobility</th><th>eu_mobility</th><th>fej_mobility</th><th>fl_mobility</th><th>fo_mobility</th><th>fr_mobility</th><th>go_mobility</th><th>ha_mobility</th><th>hal_mobility</th><th>hb_mobility</th><th>hc_mobility</th><th>hl_mobility</th><th>ii_mobility</th><th>io_mobility</th><th>ir_mobility</th><th>jde_mobility</th><th>jm_mobility</th><th>kb_mobility</th><th>kw_mobility</th><th>lc_mobility</th><th>lcom_mobility</th><th>li_mobility</th><th>ln_mobility</th><th>lo_mobility</th><th>ls_mobility</th><th>lss_mobility</th><th>lu_mobility</th><th>ly_mobility</th><th>lz_mobility</th><th>mc_mobility</th><th>mr_mobility</th><th>ms_mobility</th><th>mse_mobility</th><th>ol_mobility</th><th>ow_mobility</th><th>pa_mobility</th><th>pc_mobility</th><th>pe_mobility</th><th>pem_mobility</th><th>pg_mobility</th><th>ph_mobility</th><th>pi_mobility</th><th>pl_mobility</th><th>po_mobility</th><th>pp_mobility</th><th>ppl_mobility</th><th>ps_mobility</th><th>pt_mobility</th><th>py_mobility</th><th>pyr_mobility</th><th>ra_mobility</th><th>rb_mobility</th><th>rh_mobility</th><th>ro_mobility</th><th>ru_mobility</th><th>rw_mobility</th><th>sa_mobility</th><th>sb_mobility</th><th>sc_mobility</th><th>scom_mobility</th><th>sd_mobility</th><th>se_mobility</th><th>sec_mobility</th><th>sh_mobility</th><th>shc_mobility</th><th>sl_mobility</th><th>sm_mobility</th><th>spo_mobility</th><th>sq_mobility</th><th>ss_mobility</th><th>st_mobility</th><th>te_mobility</th><th>th_mobility</th><th>ti_mobility</th><th>tr_mobility</th><th>unkss_mobility</th><th>vm_mobility</th><th>vr_mobility</th><th>vs_mobility</th><th>wfs_mobility</th><th>xl_mobility</th><th>ye_mobility</th><th>za_mobility</th><th>mean_oxygen</th><th>stddev_oxygen</th></tr></thead><tbody><tr><td>Rocky</td><td>0</td><td>0</td><td>0</td><td>0</td><td>87</td><td>1</td><td>0</td><td>0</td><td>0</td><td>0</td><td>0</td><td>0</td><td>0</td><td>0</td><td>0</td><td>0</td><td>0</td><td>0</td><td>1</td><td>0</td><td>0</td><td>0</td><td>0</td><td>0</td><td>82</td><td>115</td><td>0</td><td>0</td><td>0</td><td>0</td><td>0</td><td>0</td><td>0</td><td>0</td><td>0</td><td>0</td><td>0</td><td>0</td><td>46</td><td>72</td><td>0</td><td>0</td><td>0</td><td>0</td><td>1.0</td><td>0</td><td>0</td><td>2</td><td>0</td><td>0</td><td>2</td><td>0</td><td>23</td><td>24</td><td>6</td><td>0</td><td>5.0</td><td>0</td><td>20</td><td>0</td><td>0</td><td>1</td><td>2</td><td>0</td><td>7</td><td>0</td><td>0</td><td>5</td><td>0</td><td>1</td><td>0</td><td>0</td><td>3</td><td>1</td><td>4</td><td>0</td><td>0</td><td>0</td><td>0</td><td>0</td><td>0</td><td>0</td><td>0</td><td>0</td><td>2</td><td>0</td><td>0</td><td>0</td><td>0</td><td>0</td><td>0</td><td>0</td><td>0</td><td>0</td><td>32</td><td>0</td><td>6</td><td>0</td><td>0</td><td>0</td><td>2</td><td>0</td><td>0</td><td>0</td><td>0</td><td>7</td><td>0</td><td>0</td><td>0</td><td>0</td><td>0</td><td>null</td><td>null</td><td>null</td><td>null</td><td>null</td><td>null</td><td>null</td><td>null</td><td>null</td><td>null</td><td>null</td><td>null</td><td>null</td><td>null</td><td>null</td><td>null</td><td>null</td><td>null</td><td>null</td><td>null</td><td>null</td><td>null</td><td>null</td><td>null</td><td>null</td><td>null</td><td>null</td><td>null</td><td>null</td><td>null</td><td>null</td><td>null</td><td>null</td><td>null</td><td>null</td><td>null</td><td>null</td><td>null</td><td>null</td><td>null</td><td>null</td><td>null</td><td>null</td><td>null</td><td>null</td><td>null</td><td>null</td><td>null</td><td>null</td><td>null</td><td>null</td><td>null</td><td>null</td><td>null</td><td>null</td><td>null</td><td>null</td><td>null</td><td>null</td><td>null</td><td>null</td><td>null</td><td>null</td><td>null</td><td>null</td><td>null</td><td>null</td><td>null</td><td>null</td><td>null</td><td>null</td><td>null</td><td>null</td><td>null</td><td>null</td><td>null</td><td>null</td><td>null</td><td>null</td><td>null</td><td>null</td><td>null</td><td>null</td><td>null</td><td>null</td><td>null</td><td>null</td><td>null</td><td>null</td><td>null</td><td>null</td><td>null</td><td>null</td><td>null</td><td>null</td><td>null</td><td>null</td><td>null</td><td>null</td><td>null</td><td>null</td><td>null</td><td>null</td><td>null</td><td>null</td><td>null</td><td>null</td><td>null</td><td>null</td><td>null</td><td>null</td><td>3.7590420560747697</td><td>0.8489945078028011</td></tr><tr><td>Mud Bank</td><td>0</td><td>0</td><td>7</td><td>140</td><td>0</td><td>0</td><td>1</td><td>0</td><td>0</td><td>0</td><td>0</td><td>0</td><td>0</td><td>2</td><td>0</td><td>0</td><td>7</td><td>0</td><td>0</td><td>0</td><td>0</td><td>0</td><td>0</td><td>22</td><td>0</td><td>0</td><td>0</td><td>0</td><td>3</td><td>0</td><td>1</td><td>0</td><td>0</td><td>0</td><td>0</td><td>0</td><td>17</td><td>0</td><td>0</td><td>0</td><td>8</td><td>0</td><td>0</td><td>0</td><td>0.0</td><td>0</td><td>0</td><td>0</td><td>0</td><td>4</td><td>0</td><td>0</td><td>0</td><td>2</td><td>0</td><td>0</td><td>0.0</td><td>0</td><td>0</td><td>0</td><td>0</td><td>0</td><td>2</td><td>0</td><td>0</td><td>0</td><td>2</td><td>0</td><td>0</td><td>0</td><td>0</td><td>0</td><td>0</td><td>0</td><td>0</td><td>0</td><td>0</td><td>2</td><td>0</td><td>0</td><td>0</td><td>11</td><td>2</td><td>0</td><td>0</td><td>0</td><td>0</td><td>0</td><td>1</td><td>0</td><td>0</td><td>0</td><td>0</td><td>0</td><td>0</td><td>2</td><td>11</td><td>0</td><td>1</td><td>0</td><td>0</td><td>5</td><td>0</td><td>0</td><td>0</td><td>0</td><td>0</td><td>0</td><td>0</td><td>0</td><td>0</td><td>null</td><td>null</td><td>null</td><td>null</td><td>null</td><td>null</td><td>null</td><td>null</td><td>null</td><td>null</td><td>null</td><td>null</td><td>null</td><td>null</td><td>null</td><td>null</td><td>null</td><td>null</td><td>null</td><td>null</td><td>null</td><td>null</td><td>null</td><td>null</td><td>null</td><td>null</td><td>null</td><td>null</td><td>null</td><td>null</td><td>null</td><td>null</td><td>null</td><td>null</td><td>null</td><td>null</td><td>null</td><td>null</td><td>null</td><td>null</td><td>null</td><td>null</td><td>null</td><td>null</td><td>null</td><td>null</td><td>null</td><td>null</td><td>null</td><td>null</td><td>null</td><td>null</td><td>null</td><td>null</td><td>null</td><td>null</td><td>null</td><td>null</td><td>null</td><td>null</td><td>null</td><td>null</td><td>null</td><td>null</td><td>null</td><td>null</td><td>null</td><td>null</td><td>null</td><td>null</td><td>null</td><td>null</td><td>null</td><td>null</td><td>null</td><td>null</td><td>null</td><td>null</td><td>null</td><td>null</td><td>null</td><td>null</td><td>null</td><td>null</td><td>null</td><td>null</td><td>null</td><td>null</td><td>null</td><td>null</td><td>null</td><td>null</td><td>null</td><td>null</td><td>null</td><td>null</td><td>null</td><td>null</td><td>null</td><td>null</td><td>null</td><td>null</td><td>null</td><td>null</td><td>null</td><td>null</td><td>null</td><td>null</td><td>null</td><td>null</td><td>null</td><td>3.2187647058823528</td><td>0.3759478902407494</td></tr><tr><td>Mudflat</td><td>12</td><td>2</td><td>21</td><td>194</td><td>2</td><td>1</td><td>0</td><td>0</td><td>1</td><td>0</td><td>14</td><td>0</td><td>0</td><td>3</td><td>0</td><td>0</td><td>16</td><td>0</td><td>17</td><td>9</td><td>0</td><td>0</td><td>4</td><td>42</td><td>0</td><td>3</td><td>46</td><td>0</td><td>10</td><td>0</td><td>3</td><td>0</td><td>0</td><td>0</td><td>0</td><td>0</td><td>31</td><td>0</td><td>136</td><td>383</td><td>0</td><td>0</td><td>0</td><td>0</td><td>4.0</td><td>0</td><td>0</td><td>0</td><td>0</td><td>5</td><td>0</td><td>0</td><td>14</td><td>334</td><td>37</td><td>0</td><td>7.0</td><td>0</td><td>0</td><td>0</td><td>0</td><td>0</td><td>51</td><td>4</td><td>0</td><td>2</td><td>0</td><td>4</td><td>0</td><td>7</td><td>0</td><td>1</td><td>2</td><td>0</td><td>0</td><td>0</td><td>0</td><td>1</td><td>1</td><td>0</td><td>0</td><td>1</td><td>5</td><td>6</td><td>0</td><td>0</td><td>0</td><td>0</td><td>0</td><td>0</td><td>0</td><td>0</td><td>0</td><td>0</td><td>25</td><td>0</td><td>108</td><td>0</td><td>0</td><td>1</td><td>15</td><td>3</td><td>0</td><td>0</td><td>0</td><td>0</td><td>0</td><td>0</td><td>0</td><td>0</td><td>1</td><td>null</td><td>null</td><td>null</td><td>null</td><td>null</td><td>null</td><td>null</td><td>null</td><td>null</td><td>null</td><td>null</td><td>null</td><td>null</td><td>null</td><td>null</td><td>null</td><td>null</td><td>null</td><td>null</td><td>null</td><td>null</td><td>null</td><td>null</td><td>null</td><td>null</td><td>null</td><td>null</td><td>null</td><td>null</td><td>null</td><td>null</td><td>null</td><td>null</td><td>null</td><td>null</td><td>null</td><td>null</td><td>null</td><td>null</td><td>null</td><td>null</td><td>null</td><td>null</td><td>null</td><td>null</td><td>null</td><td>null</td><td>null</td><td>null</td><td>null</td><td>null</td><td>null</td><td>null</td><td>null</td><td>null</td><td>null</td><td>null</td><td>null</td><td>null</td><td>null</td><td>null</td><td>null</td><td>null</td><td>null</td><td>null</td><td>null</td><td>null</td><td>null</td><td>null</td><td>null</td><td>null</td><td>null</td><td>null</td><td>null</td><td>null</td><td>null</td><td>null</td><td>null</td><td>null</td><td>null</td><td>null</td><td>null</td><td>null</td><td>null</td><td>null</td><td>null</td><td>null</td><td>null</td><td>null</td><td>null</td><td>null</td><td>null</td><td>null</td><td>null</td><td>null</td><td>null</td><td>null</td><td>null</td><td>null</td><td>null</td><td>null</td><td>null</td><td>null</td><td>null</td><td>null</td><td>null</td><td>null</td><td>null</td><td>null</td><td>null</td><td>null</td><td>3.6452516556291346</td><td>0.7755397753201079</td></tr><tr><td>Sandy</td><td>17</td><td>0</td><td>0</td><td>4</td><td>21</td><td>0</td><td>0</td><td>0</td><td>0</td><td>0</td><td>2</td><td>0</td><td>0</td><td>0</td><td>0</td><td>0</td><td>0</td><td>0</td><td>4</td><td>1</td><td>0</td><td>0</td><td>0</td><td>0</td><td>7</td><td>30</td><td>45</td><td>0</td><td>0</td><td>0</td><td>0</td><td>0</td><td>0</td><td>0</td><td>0</td><td>0</td><td>2</td><td>0</td><td>25</td><td>124</td><td>0</td><td>0</td><td>0</td><td>0</td><td>2.0</td><td>0</td><td>0</td><td>0</td><td>0</td><td>0</td><td>0</td><td>0</td><td>43</td><td>60</td><td>13</td><td>0</td><td>1.0</td><td>0</td><td>11</td><td>0</td><td>0</td><td>0</td><td>0</td><td>0</td><td>0</td><td>0</td><td>0</td><td>0</td><td>7</td><td>0</td><td>0</td><td>0</td><td>1</td><td>0</td><td>0</td><td>0</td><td>0</td><td>0</td><td>0</td><td>0</td><td>0</td><td>0</td><td>0</td><td>0</td><td>0</td><td>0</td><td>0</td><td>0</td><td>0</td><td>0</td><td>0</td><td>0</td><td>1</td><td>0</td><td>9</td><td>0</td><td>22</td><td>0</td><td>0</td><td>0</td><td>6</td><td>0</td><td>0</td><td>0</td><td>0</td><td>7</td><td>0</td><td>0</td><td>0</td><td>0</td><td>0</td><td>null</td><td>null</td><td>null</td><td>null</td><td>null</td><td>null</td><td>null</td><td>null</td><td>null</td><td>null</td><td>null</td><td>null</td><td>null</td><td>null</td><td>null</td><td>null</td><td>null</td><td>null</td><td>null</td><td>null</td><td>null</td><td>null</td><td>null</td><td>null</td><td>null</td><td>null</td><td>null</td><td>null</td><td>null</td><td>null</td><td>null</td><td>null</td><td>null</td><td>null</td><td>null</td><td>null</td><td>null</td><td>null</td><td>null</td><td>null</td><td>null</td><td>null</td><td>null</td><td>null</td><td>null</td><td>null</td><td>null</td><td>null</td><td>null</td><td>null</td><td>null</td><td>null</td><td>null</td><td>null</td><td>null</td><td>null</td><td>null</td><td>null</td><td>null</td><td>null</td><td>null</td><td>null</td><td>null</td><td>null</td><td>null</td><td>null</td><td>null</td><td>null</td><td>null</td><td>null</td><td>null</td><td>null</td><td>null</td><td>null</td><td>null</td><td>null</td><td>null</td><td>null</td><td>null</td><td>null</td><td>null</td><td>null</td><td>null</td><td>null</td><td>null</td><td>null</td><td>null</td><td>null</td><td>null</td><td>null</td><td>null</td><td>null</td><td>null</td><td>null</td><td>null</td><td>null</td><td>null</td><td>null</td><td>null</td><td>null</td><td>null</td><td>null</td><td>null</td><td>null</td><td>null</td><td>null</td><td>null</td><td>null</td><td>null</td><td>null</td><td>null</td><td>3.902989417989416</td><td>0.896776425500935</td></tr><tr><td>Soft Sandy</td><td>52</td><td>0</td><td>0</td><td>28</td><td>138</td><td>1</td><td>0</td><td>0</td><td>1</td><td>1</td><td>15</td><td>0</td><td>0</td><td>0</td><td>0</td><td>0</td><td>0</td><td>5</td><td>24</td><td>3</td><td>2</td><td>0</td><td>12</td><td>2</td><td>9</td><td>236</td><td>295</td><td>0</td><td>1</td><td>0</td><td>0</td><td>0</td><td>0</td><td>1</td><td>3</td><td>0</td><td>3</td><td>0</td><td>381</td><td>1181</td><td>0</td><td>2</td><td>0</td><td>0</td><td>81.0</td><td>0</td><td>4</td><td>0</td><td>0</td><td>2</td><td>12</td><td>0</td><td>44</td><td>493</td><td>231</td><td>0</td><td>38.0</td><td>2</td><td>52</td><td>0</td><td>0</td><td>1</td><td>60</td><td>0</td><td>0</td><td>4</td><td>1</td><td>2</td><td>3</td><td>8</td><td>0</td><td>2</td><td>5</td><td>0</td><td>0</td><td>0</td><td>0</td><td>1</td><td>1</td><td>0</td><td>10</td><td>0</td><td>4</td><td>0</td><td>2</td><td>2</td><td>1</td><td>0</td><td>1</td><td>1</td><td>0</td><td>0</td><td>0</td><td>1</td><td>86</td><td>1</td><td>171</td><td>0</td><td>0</td><td>6</td><td>45</td><td>2</td><td>0</td><td>1</td><td>1</td><td>36</td><td>0</td><td>0</td><td>0</td><td>1</td><td>0</td><td>null</td><td>null</td><td>null</td><td>null</td><td>null</td><td>null</td><td>null</td><td>null</td><td>null</td><td>null</td><td>null</td><td>null</td><td>null</td><td>null</td><td>null</td><td>null</td><td>null</td><td>null</td><td>null</td><td>null</td><td>null</td><td>null</td><td>null</td><td>null</td><td>null</td><td>null</td><td>null</td><td>null</td><td>null</td><td>null</td><td>null</td><td>null</td><td>null</td><td>null</td><td>null</td><td>null</td><td>null</td><td>null</td><td>null</td><td>null</td><td>null</td><td>null</td><td>null</td><td>null</td><td>null</td><td>null</td><td>null</td><td>null</td><td>null</td><td>null</td><td>null</td><td>null</td><td>null</td><td>null</td><td>null</td><td>null</td><td>null</td><td>null</td><td>null</td><td>null</td><td>null</td><td>null</td><td>null</td><td>null</td><td>null</td><td>null</td><td>null</td><td>null</td><td>null</td><td>null</td><td>null</td><td>null</td><td>null</td><td>null</td><td>null</td><td>null</td><td>null</td><td>null</td><td>null</td><td>null</td><td>null</td><td>null</td><td>null</td><td>null</td><td>null</td><td>null</td><td>null</td><td>null</td><td>null</td><td>null</td><td>null</td><td>null</td><td>null</td><td>null</td><td>null</td><td>null</td><td>null</td><td>null</td><td>null</td><td>null</td><td>null</td><td>null</td><td>null</td><td>null</td><td>null</td><td>null</td><td>null</td><td>null</td><td>null</td><td>null</td><td>null</td><td>3.5815518518518568</td><td>1.0117119383173134</td></tr><tr><td>Other</td><td>92</td><td>2</td><td>198</td><td>2410</td><td>135</td><td>55</td><td>0</td><td>7</td><td>73</td><td>0</td><td>1</td><td>28</td><td>3</td><td>34</td><td>12</td><td>30</td><td>12</td><td>251</td><td>19</td><td>2</td><td>87</td><td>8</td><td>4</td><td>351</td><td>101</td><td>303</td><td>14</td><td>1</td><td>225</td><td>3</td><td>21</td><td>1</td><td>294</td><td>1</td><td>1</td><td>11</td><td>322</td><td>2</td><td>36</td><td>186</td><td>187</td><td>9</td><td>4</td><td>1</td><td>7.0</td><td>5</td><td>2</td><td>5</td><td>5</td><td>624</td><td>4</td><td>2</td><td>12</td><td>176</td><td>86</td><td>2</td><td>18.0</td><td>0</td><td>24</td><td>2</td><td>4</td><td>0</td><td>66</td><td>0</td><td>3</td><td>1</td><td>12</td><td>12</td><td>11</td><td>12</td><td>124</td><td>9</td><td>2</td><td>3</td><td>3</td><td>1</td><td>11</td><td>12</td><td>0</td><td>6</td><td>9</td><td>64</td><td>1</td><td>1</td><td>2</td><td>23</td><td>0</td><td>13</td><td>1</td><td>0</td><td>2</td><td>142</td><td>0</td><td>3</td><td>59</td><td>116</td><td>102</td><td>1</td><td>1</td><td>40</td><td>8</td><td>52</td><td>7</td><td>166</td><td>0</td><td>17</td><td>1</td><td>3</td><td>2</td><td>0</td><td>0</td><td>null</td><td>null</td><td>null</td><td>null</td><td>null</td><td>null</td><td>null</td><td>null</td><td>null</td><td>null</td><td>null</td><td>null</td><td>null</td><td>null</td><td>null</td><td>null</td><td>null</td><td>null</td><td>null</td><td>null</td><td>null</td><td>null</td><td>null</td><td>null</td><td>null</td><td>null</td><td>null</td><td>null</td><td>null</td><td>null</td><td>null</td><td>null</td><td>null</td><td>null</td><td>null</td><td>null</td><td>null</td><td>null</td><td>null</td><td>null</td><td>null</td><td>null</td><td>null</td><td>null</td><td>null</td><td>null</td><td>null</td><td>null</td><td>null</td><td>null</td><td>null</td><td>null</td><td>null</td><td>null</td><td>null</td><td>null</td><td>null</td><td>null</td><td>null</td><td>null</td><td>null</td><td>null</td><td>null</td><td>null</td><td>null</td><td>null</td><td>null</td><td>null</td><td>null</td><td>null</td><td>null</td><td>null</td><td>null</td><td>null</td><td>null</td><td>null</td><td>null</td><td>null</td><td>null</td><td>null</td><td>null</td><td>null</td><td>null</td><td>null</td><td>null</td><td>null</td><td>null</td><td>null</td><td>null</td><td>null</td><td>null</td><td>null</td><td>null</td><td>null</td><td>null</td><td>null</td><td>null</td><td>null</td><td>null</td><td>null</td><td>null</td><td>null</td><td>null</td><td>null</td><td>null</td><td>null</td><td>null</td><td>null</td><td>null</td><td>null</td><td>null</td><td>3.8019243119266006</td><td>1.0596622953836996</td></tr></tbody></table></div>"
      ]
     },
     "metadata": {
      "application/vnd.databricks.v1+output": {
       "addedWidgets": {},
       "aggData": [],
       "aggError": "",
       "aggOverflow": false,
       "aggSchema": [],
       "aggSeriesLimitReached": false,
       "aggType": "",
       "arguments": {},
       "columnCustomDisplayInfos": {},
       "data": [
        [
         "Rocky",
         0,
         0,
         0,
         0,
         87,
         1,
         0,
         0,
         0,
         0,
         0,
         0,
         0,
         0,
         0,
         0,
         0,
         0,
         1,
         0,
         0,
         0,
         0,
         0,
         82,
         115,
         0,
         0,
         0,
         0,
         0,
         0,
         0,
         0,
         0,
         0,
         0,
         0,
         46,
         72,
         0,
         0,
         0,
         0,
         1,
         0,
         0,
         2,
         0,
         0,
         2,
         0,
         23,
         24,
         6,
         0,
         5,
         0,
         20,
         0,
         0,
         1,
         2,
         0,
         7,
         0,
         0,
         5,
         0,
         1,
         0,
         0,
         3,
         1,
         4,
         0,
         0,
         0,
         0,
         0,
         0,
         0,
         0,
         0,
         2,
         0,
         0,
         0,
         0,
         0,
         0,
         0,
         0,
         0,
         32,
         0,
         6,
         0,
         0,
         0,
         2,
         0,
         0,
         0,
         0,
         7,
         0,
         0,
         0,
         0,
         0,
         null,
         null,
         null,
         null,
         null,
         null,
         null,
         null,
         null,
         null,
         null,
         null,
         null,
         null,
         null,
         null,
         null,
         null,
         null,
         null,
         null,
         null,
         null,
         null,
         null,
         null,
         null,
         null,
         null,
         null,
         null,
         null,
         null,
         null,
         null,
         null,
         null,
         null,
         null,
         null,
         null,
         null,
         null,
         null,
         null,
         null,
         null,
         null,
         null,
         null,
         null,
         null,
         null,
         null,
         null,
         null,
         null,
         null,
         null,
         null,
         null,
         null,
         null,
         null,
         null,
         null,
         null,
         null,
         null,
         null,
         null,
         null,
         null,
         null,
         null,
         null,
         null,
         null,
         null,
         null,
         null,
         null,
         null,
         null,
         null,
         null,
         null,
         null,
         null,
         null,
         null,
         null,
         null,
         null,
         null,
         null,
         null,
         null,
         null,
         null,
         null,
         null,
         null,
         null,
         null,
         null,
         null,
         null,
         null,
         null,
         null,
         3.7590420560747697,
         0.8489945078028011
        ],
        [
         "Mud Bank",
         0,
         0,
         7,
         140,
         0,
         0,
         1,
         0,
         0,
         0,
         0,
         0,
         0,
         2,
         0,
         0,
         7,
         0,
         0,
         0,
         0,
         0,
         0,
         22,
         0,
         0,
         0,
         0,
         3,
         0,
         1,
         0,
         0,
         0,
         0,
         0,
         17,
         0,
         0,
         0,
         8,
         0,
         0,
         0,
         0,
         0,
         0,
         0,
         0,
         4,
         0,
         0,
         0,
         2,
         0,
         0,
         0,
         0,
         0,
         0,
         0,
         0,
         2,
         0,
         0,
         0,
         2,
         0,
         0,
         0,
         0,
         0,
         0,
         0,
         0,
         0,
         0,
         2,
         0,
         0,
         0,
         11,
         2,
         0,
         0,
         0,
         0,
         0,
         1,
         0,
         0,
         0,
         0,
         0,
         0,
         2,
         11,
         0,
         1,
         0,
         0,
         5,
         0,
         0,
         0,
         0,
         0,
         0,
         0,
         0,
         0,
         null,
         null,
         null,
         null,
         null,
         null,
         null,
         null,
         null,
         null,
         null,
         null,
         null,
         null,
         null,
         null,
         null,
         null,
         null,
         null,
         null,
         null,
         null,
         null,
         null,
         null,
         null,
         null,
         null,
         null,
         null,
         null,
         null,
         null,
         null,
         null,
         null,
         null,
         null,
         null,
         null,
         null,
         null,
         null,
         null,
         null,
         null,
         null,
         null,
         null,
         null,
         null,
         null,
         null,
         null,
         null,
         null,
         null,
         null,
         null,
         null,
         null,
         null,
         null,
         null,
         null,
         null,
         null,
         null,
         null,
         null,
         null,
         null,
         null,
         null,
         null,
         null,
         null,
         null,
         null,
         null,
         null,
         null,
         null,
         null,
         null,
         null,
         null,
         null,
         null,
         null,
         null,
         null,
         null,
         null,
         null,
         null,
         null,
         null,
         null,
         null,
         null,
         null,
         null,
         null,
         null,
         null,
         null,
         null,
         null,
         null,
         3.2187647058823528,
         0.3759478902407494
        ],
        [
         "Mudflat",
         12,
         2,
         21,
         194,
         2,
         1,
         0,
         0,
         1,
         0,
         14,
         0,
         0,
         3,
         0,
         0,
         16,
         0,
         17,
         9,
         0,
         0,
         4,
         42,
         0,
         3,
         46,
         0,
         10,
         0,
         3,
         0,
         0,
         0,
         0,
         0,
         31,
         0,
         136,
         383,
         0,
         0,
         0,
         0,
         4,
         0,
         0,
         0,
         0,
         5,
         0,
         0,
         14,
         334,
         37,
         0,
         7,
         0,
         0,
         0,
         0,
         0,
         51,
         4,
         0,
         2,
         0,
         4,
         0,
         7,
         0,
         1,
         2,
         0,
         0,
         0,
         0,
         1,
         1,
         0,
         0,
         1,
         5,
         6,
         0,
         0,
         0,
         0,
         0,
         0,
         0,
         0,
         0,
         0,
         25,
         0,
         108,
         0,
         0,
         1,
         15,
         3,
         0,
         0,
         0,
         0,
         0,
         0,
         0,
         0,
         1,
         null,
         null,
         null,
         null,
         null,
         null,
         null,
         null,
         null,
         null,
         null,
         null,
         null,
         null,
         null,
         null,
         null,
         null,
         null,
         null,
         null,
         null,
         null,
         null,
         null,
         null,
         null,
         null,
         null,
         null,
         null,
         null,
         null,
         null,
         null,
         null,
         null,
         null,
         null,
         null,
         null,
         null,
         null,
         null,
         null,
         null,
         null,
         null,
         null,
         null,
         null,
         null,
         null,
         null,
         null,
         null,
         null,
         null,
         null,
         null,
         null,
         null,
         null,
         null,
         null,
         null,
         null,
         null,
         null,
         null,
         null,
         null,
         null,
         null,
         null,
         null,
         null,
         null,
         null,
         null,
         null,
         null,
         null,
         null,
         null,
         null,
         null,
         null,
         null,
         null,
         null,
         null,
         null,
         null,
         null,
         null,
         null,
         null,
         null,
         null,
         null,
         null,
         null,
         null,
         null,
         null,
         null,
         null,
         null,
         null,
         null,
         3.6452516556291346,
         0.7755397753201079
        ],
        [
         "Sandy",
         17,
         0,
         0,
         4,
         21,
         0,
         0,
         0,
         0,
         0,
         2,
         0,
         0,
         0,
         0,
         0,
         0,
         0,
         4,
         1,
         0,
         0,
         0,
         0,
         7,
         30,
         45,
         0,
         0,
         0,
         0,
         0,
         0,
         0,
         0,
         0,
         2,
         0,
         25,
         124,
         0,
         0,
         0,
         0,
         2,
         0,
         0,
         0,
         0,
         0,
         0,
         0,
         43,
         60,
         13,
         0,
         1,
         0,
         11,
         0,
         0,
         0,
         0,
         0,
         0,
         0,
         0,
         0,
         7,
         0,
         0,
         0,
         1,
         0,
         0,
         0,
         0,
         0,
         0,
         0,
         0,
         0,
         0,
         0,
         0,
         0,
         0,
         0,
         0,
         0,
         0,
         0,
         1,
         0,
         9,
         0,
         22,
         0,
         0,
         0,
         6,
         0,
         0,
         0,
         0,
         7,
         0,
         0,
         0,
         0,
         0,
         null,
         null,
         null,
         null,
         null,
         null,
         null,
         null,
         null,
         null,
         null,
         null,
         null,
         null,
         null,
         null,
         null,
         null,
         null,
         null,
         null,
         null,
         null,
         null,
         null,
         null,
         null,
         null,
         null,
         null,
         null,
         null,
         null,
         null,
         null,
         null,
         null,
         null,
         null,
         null,
         null,
         null,
         null,
         null,
         null,
         null,
         null,
         null,
         null,
         null,
         null,
         null,
         null,
         null,
         null,
         null,
         null,
         null,
         null,
         null,
         null,
         null,
         null,
         null,
         null,
         null,
         null,
         null,
         null,
         null,
         null,
         null,
         null,
         null,
         null,
         null,
         null,
         null,
         null,
         null,
         null,
         null,
         null,
         null,
         null,
         null,
         null,
         null,
         null,
         null,
         null,
         null,
         null,
         null,
         null,
         null,
         null,
         null,
         null,
         null,
         null,
         null,
         null,
         null,
         null,
         null,
         null,
         null,
         null,
         null,
         null,
         3.902989417989416,
         0.896776425500935
        ],
        [
         "Soft Sandy",
         52,
         0,
         0,
         28,
         138,
         1,
         0,
         0,
         1,
         1,
         15,
         0,
         0,
         0,
         0,
         0,
         0,
         5,
         24,
         3,
         2,
         0,
         12,
         2,
         9,
         236,
         295,
         0,
         1,
         0,
         0,
         0,
         0,
         1,
         3,
         0,
         3,
         0,
         381,
         1181,
         0,
         2,
         0,
         0,
         81,
         0,
         4,
         0,
         0,
         2,
         12,
         0,
         44,
         493,
         231,
         0,
         38,
         2,
         52,
         0,
         0,
         1,
         60,
         0,
         0,
         4,
         1,
         2,
         3,
         8,
         0,
         2,
         5,
         0,
         0,
         0,
         0,
         1,
         1,
         0,
         10,
         0,
         4,
         0,
         2,
         2,
         1,
         0,
         1,
         1,
         0,
         0,
         0,
         1,
         86,
         1,
         171,
         0,
         0,
         6,
         45,
         2,
         0,
         1,
         1,
         36,
         0,
         0,
         0,
         1,
         0,
         null,
         null,
         null,
         null,
         null,
         null,
         null,
         null,
         null,
         null,
         null,
         null,
         null,
         null,
         null,
         null,
         null,
         null,
         null,
         null,
         null,
         null,
         null,
         null,
         null,
         null,
         null,
         null,
         null,
         null,
         null,
         null,
         null,
         null,
         null,
         null,
         null,
         null,
         null,
         null,
         null,
         null,
         null,
         null,
         null,
         null,
         null,
         null,
         null,
         null,
         null,
         null,
         null,
         null,
         null,
         null,
         null,
         null,
         null,
         null,
         null,
         null,
         null,
         null,
         null,
         null,
         null,
         null,
         null,
         null,
         null,
         null,
         null,
         null,
         null,
         null,
         null,
         null,
         null,
         null,
         null,
         null,
         null,
         null,
         null,
         null,
         null,
         null,
         null,
         null,
         null,
         null,
         null,
         null,
         null,
         null,
         null,
         null,
         null,
         null,
         null,
         null,
         null,
         null,
         null,
         null,
         null,
         null,
         null,
         null,
         null,
         3.5815518518518568,
         1.0117119383173134
        ],
        [
         "Other",
         92,
         2,
         198,
         2410,
         135,
         55,
         0,
         7,
         73,
         0,
         1,
         28,
         3,
         34,
         12,
         30,
         12,
         251,
         19,
         2,
         87,
         8,
         4,
         351,
         101,
         303,
         14,
         1,
         225,
         3,
         21,
         1,
         294,
         1,
         1,
         11,
         322,
         2,
         36,
         186,
         187,
         9,
         4,
         1,
         7,
         5,
         2,
         5,
         5,
         624,
         4,
         2,
         12,
         176,
         86,
         2,
         18,
         0,
         24,
         2,
         4,
         0,
         66,
         0,
         3,
         1,
         12,
         12,
         11,
         12,
         124,
         9,
         2,
         3,
         3,
         1,
         11,
         12,
         0,
         6,
         9,
         64,
         1,
         1,
         2,
         23,
         0,
         13,
         1,
         0,
         2,
         142,
         0,
         3,
         59,
         116,
         102,
         1,
         1,
         40,
         8,
         52,
         7,
         166,
         0,
         17,
         1,
         3,
         2,
         0,
         0,
         null,
         null,
         null,
         null,
         null,
         null,
         null,
         null,
         null,
         null,
         null,
         null,
         null,
         null,
         null,
         null,
         null,
         null,
         null,
         null,
         null,
         null,
         null,
         null,
         null,
         null,
         null,
         null,
         null,
         null,
         null,
         null,
         null,
         null,
         null,
         null,
         null,
         null,
         null,
         null,
         null,
         null,
         null,
         null,
         null,
         null,
         null,
         null,
         null,
         null,
         null,
         null,
         null,
         null,
         null,
         null,
         null,
         null,
         null,
         null,
         null,
         null,
         null,
         null,
         null,
         null,
         null,
         null,
         null,
         null,
         null,
         null,
         null,
         null,
         null,
         null,
         null,
         null,
         null,
         null,
         null,
         null,
         null,
         null,
         null,
         null,
         null,
         null,
         null,
         null,
         null,
         null,
         null,
         null,
         null,
         null,
         null,
         null,
         null,
         null,
         null,
         null,
         null,
         null,
         null,
         null,
         null,
         null,
         null,
         null,
         null,
         3.8019243119266006,
         1.0596622953836996
        ]
       ],
       "datasetInfos": [],
       "dbfsResultPath": null,
       "isJsonSchema": true,
       "metadata": {},
       "overflow": false,
       "plotOptions": {
        "customPlotOptions": {},
        "displayType": "table",
        "pivotAggregation": null,
        "pivotColumns": null,
        "xColumns": null,
        "yColumns": null
       },
       "removedWidgets": [],
       "schema": [
        {
         "metadata": "{}",
         "name": "Habitat",
         "type": "\"string\""
        },
        {
         "metadata": "{}",
         "name": "ac",
         "type": "\"long\""
        },
        {
         "metadata": "{}",
         "name": "ae",
         "type": "\"long\""
        },
        {
         "metadata": "{}",
         "name": "an",
         "type": "\"long\""
        },
        {
         "metadata": "{}",
         "name": "ap",
         "type": "\"long\""
        },
        {
         "metadata": "{}",
         "name": "as",
         "type": "\"long\""
        },
        {
         "metadata": "{}",
         "name": "ba",
         "type": "\"long\""
        },
        {
         "metadata": "{}",
         "name": "bas",
         "type": "\"long\""
        },
        {
         "metadata": "{}",
         "name": "bc",
         "type": "\"long\""
        },
        {
         "metadata": "{}",
         "name": "bgo",
         "type": "\"long\""
        },
        {
         "metadata": "{}",
         "name": "bgu",
         "type": "\"long\""
        },
        {
         "metadata": "{}",
         "name": "bi",
         "type": "\"long\""
        },
        {
         "metadata": "{}",
         "name": "bo",
         "type": "\"long\""
        },
        {
         "metadata": "{}",
         "name": "br",
         "type": "\"long\""
        },
        {
         "metadata": "{}",
         "name": "bs",
         "type": "\"long\""
        },
        {
         "metadata": "{}",
         "name": "ca",
         "type": "\"long\""
        },
        {
         "metadata": "{}",
         "name": "cc",
         "type": "\"long\""
        },
        {
         "metadata": "{}",
         "name": "cd",
         "type": "\"long\""
        },
        {
         "metadata": "{}",
         "name": "cg",
         "type": "\"long\""
        },
        {
         "metadata": "{}",
         "name": "ch",
         "type": "\"long\""
        },
        {
         "metadata": "{}",
         "name": "com",
         "type": "\"long\""
        },
        {
         "metadata": "{}",
         "name": "cp",
         "type": "\"long\""
        },
        {
         "metadata": "{}",
         "name": "cr",
         "type": "\"long\""
        },
        {
         "metadata": "{}",
         "name": "cs",
         "type": "\"long\""
        },
        {
         "metadata": "{}",
         "name": "cu",
         "type": "\"long\""
        },
        {
         "metadata": "{}",
         "name": "de",
         "type": "\"long\""
        },
        {
         "metadata": "{}",
         "name": "dp",
         "type": "\"long\""
        },
        {
         "metadata": "{}",
         "name": "eo",
         "type": "\"long\""
        },
        {
         "metadata": "{}",
         "name": "ep",
         "type": "\"long\""
        },
        {
         "metadata": "{}",
         "name": "eu",
         "type": "\"long\""
        },
        {
         "metadata": "{}",
         "name": "fej",
         "type": "\"long\""
        },
        {
         "metadata": "{}",
         "name": "fl",
         "type": "\"long\""
        },
        {
         "metadata": "{}",
         "name": "fo",
         "type": "\"long\""
        },
        {
         "metadata": "{}",
         "name": "fr",
         "type": "\"long\""
        },
        {
         "metadata": "{}",
         "name": "go",
         "type": "\"long\""
        },
        {
         "metadata": "{}",
         "name": "ha",
         "type": "\"long\""
        },
        {
         "metadata": "{}",
         "name": "hal",
         "type": "\"long\""
        },
        {
         "metadata": "{}",
         "name": "hb",
         "type": "\"long\""
        },
        {
         "metadata": "{}",
         "name": "hl",
         "type": "\"long\""
        },
        {
         "metadata": "{}",
         "name": "ii",
         "type": "\"long\""
        },
        {
         "metadata": "{}",
         "name": "io",
         "type": "\"long\""
        },
        {
         "metadata": "{}",
         "name": "ir",
         "type": "\"long\""
        },
        {
         "metadata": "{}",
         "name": "jde",
         "type": "\"long\""
        },
        {
         "metadata": "{}",
         "name": "jm",
         "type": "\"long\""
        },
        {
         "metadata": "{}",
         "name": "kb",
         "type": "\"long\""
        },
        {
         "metadata": "{}",
         "name": "kw",
         "type": "\"double\""
        },
        {
         "metadata": "{}",
         "name": "lc",
         "type": "\"long\""
        },
        {
         "metadata": "{}",
         "name": "lcom",
         "type": "\"long\""
        },
        {
         "metadata": "{}",
         "name": "li",
         "type": "\"long\""
        },
        {
         "metadata": "{}",
         "name": "ln",
         "type": "\"long\""
        },
        {
         "metadata": "{}",
         "name": "lo",
         "type": "\"long\""
        },
        {
         "metadata": "{}",
         "name": "ls",
         "type": "\"long\""
        },
        {
         "metadata": "{}",
         "name": "lss",
         "type": "\"long\""
        },
        {
         "metadata": "{}",
         "name": "lu",
         "type": "\"long\""
        },
        {
         "metadata": "{}",
         "name": "ly",
         "type": "\"long\""
        },
        {
         "metadata": "{}",
         "name": "lz",
         "type": "\"long\""
        },
        {
         "metadata": "{}",
         "name": "mc",
         "type": "\"long\""
        },
        {
         "metadata": "{}",
         "name": "mr",
         "type": "\"double\""
        },
        {
         "metadata": "{}",
         "name": "ms",
         "type": "\"long\""
        },
        {
         "metadata": "{}",
         "name": "mse",
         "type": "\"long\""
        },
        {
         "metadata": "{}",
         "name": "ol",
         "type": "\"long\""
        },
        {
         "metadata": "{}",
         "name": "ow",
         "type": "\"long\""
        },
        {
         "metadata": "{}",
         "name": "pa",
         "type": "\"long\""
        },
        {
         "metadata": "{}",
         "name": "pc",
         "type": "\"long\""
        },
        {
         "metadata": "{}",
         "name": "pem",
         "type": "\"long\""
        },
        {
         "metadata": "{}",
         "name": "pg",
         "type": "\"long\""
        },
        {
         "metadata": "{}",
         "name": "ph",
         "type": "\"long\""
        },
        {
         "metadata": "{}",
         "name": "pi",
         "type": "\"long\""
        },
        {
         "metadata": "{}",
         "name": "pl",
         "type": "\"long\""
        },
        {
         "metadata": "{}",
         "name": "po",
         "type": "\"long\""
        },
        {
         "metadata": "{}",
         "name": "pp",
         "type": "\"long\""
        },
        {
         "metadata": "{}",
         "name": "ppl",
         "type": "\"long\""
        },
        {
         "metadata": "{}",
         "name": "ps",
         "type": "\"long\""
        },
        {
         "metadata": "{}",
         "name": "pt",
         "type": "\"long\""
        },
        {
         "metadata": "{}",
         "name": "pyr",
         "type": "\"long\""
        },
        {
         "metadata": "{}",
         "name": "ra",
         "type": "\"long\""
        },
        {
         "metadata": "{}",
         "name": "rb",
         "type": "\"long\""
        },
        {
         "metadata": "{}",
         "name": "rh",
         "type": "\"long\""
        },
        {
         "metadata": "{}",
         "name": "ro",
         "type": "\"long\""
        },
        {
         "metadata": "{}",
         "name": "ru",
         "type": "\"long\""
        },
        {
         "metadata": "{}",
         "name": "rw",
         "type": "\"long\""
        },
        {
         "metadata": "{}",
         "name": "sa",
         "type": "\"long\""
        },
        {
         "metadata": "{}",
         "name": "sb",
         "type": "\"long\""
        },
        {
         "metadata": "{}",
         "name": "sc",
         "type": "\"long\""
        },
        {
         "metadata": "{}",
         "name": "scom",
         "type": "\"long\""
        },
        {
         "metadata": "{}",
         "name": "sd",
         "type": "\"long\""
        },
        {
         "metadata": "{}",
         "name": "se",
         "type": "\"long\""
        },
        {
         "metadata": "{}",
         "name": "sec",
         "type": "\"long\""
        },
        {
         "metadata": "{}",
         "name": "sh",
         "type": "\"long\""
        },
        {
         "metadata": "{}",
         "name": "shc",
         "type": "\"long\""
        },
        {
         "metadata": "{}",
         "name": "sl",
         "type": "\"long\""
        },
        {
         "metadata": "{}",
         "name": "sm",
         "type": "\"long\""
        },
        {
         "metadata": "{}",
         "name": "spo",
         "type": "\"long\""
        },
        {
         "metadata": "{}",
         "name": "sq",
         "type": "\"long\""
        },
        {
         "metadata": "{}",
         "name": "ss",
         "type": "\"long\""
        },
        {
         "metadata": "{}",
         "name": "st",
         "type": "\"long\""
        },
        {
         "metadata": "{}",
         "name": "te",
         "type": "\"long\""
        },
        {
         "metadata": "{}",
         "name": "th",
         "type": "\"long\""
        },
        {
         "metadata": "{}",
         "name": "ti",
         "type": "\"long\""
        },
        {
         "metadata": "{}",
         "name": "tr",
         "type": "\"long\""
        },
        {
         "metadata": "{}",
         "name": "unkss",
         "type": "\"long\""
        },
        {
         "metadata": "{}",
         "name": "vm",
         "type": "\"long\""
        },
        {
         "metadata": "{}",
         "name": "vr",
         "type": "\"long\""
        },
        {
         "metadata": "{}",
         "name": "vs",
         "type": "\"long\""
        },
        {
         "metadata": "{}",
         "name": "wfs",
         "type": "\"long\""
        },
        {
         "metadata": "{}",
         "name": "xl",
         "type": "\"long\""
        },
        {
         "metadata": "{}",
         "name": "ye",
         "type": "\"long\""
        },
        {
         "metadata": "{}",
         "name": "za",
         "type": "\"long\""
        },
        {
         "metadata": "{}",
         "name": "bl",
         "type": "\"long\""
        },
        {
         "metadata": "{}",
         "name": "hc",
         "type": "\"long\""
        },
        {
         "metadata": "{}",
         "name": "pe",
         "type": "\"long\""
        },
        {
         "metadata": "{}",
         "name": "py",
         "type": "\"long\""
        },
        {
         "metadata": "{}",
         "name": "ac_mobility",
         "type": "\"double\""
        },
        {
         "metadata": "{}",
         "name": "ae_mobility",
         "type": "\"double\""
        },
        {
         "metadata": "{}",
         "name": "an_mobility",
         "type": "\"double\""
        },
        {
         "metadata": "{}",
         "name": "ap_mobility",
         "type": "\"double\""
        },
        {
         "metadata": "{}",
         "name": "as_mobility",
         "type": "\"double\""
        },
        {
         "metadata": "{}",
         "name": "ba_mobility",
         "type": "\"double\""
        },
        {
         "metadata": "{}",
         "name": "bas_mobility",
         "type": "\"double\""
        },
        {
         "metadata": "{}",
         "name": "bc_mobility",
         "type": "\"double\""
        },
        {
         "metadata": "{}",
         "name": "bgo_mobility",
         "type": "\"double\""
        },
        {
         "metadata": "{}",
         "name": "bgu_mobility",
         "type": "\"double\""
        },
        {
         "metadata": "{}",
         "name": "bi_mobility",
         "type": "\"double\""
        },
        {
         "metadata": "{}",
         "name": "bl_mobility",
         "type": "\"double\""
        },
        {
         "metadata": "{}",
         "name": "bo_mobility",
         "type": "\"double\""
        },
        {
         "metadata": "{}",
         "name": "br_mobility",
         "type": "\"double\""
        },
        {
         "metadata": "{}",
         "name": "bs_mobility",
         "type": "\"double\""
        },
        {
         "metadata": "{}",
         "name": "ca_mobility",
         "type": "\"double\""
        },
        {
         "metadata": "{}",
         "name": "cc_mobility",
         "type": "\"double\""
        },
        {
         "metadata": "{}",
         "name": "cd_mobility",
         "type": "\"double\""
        },
        {
         "metadata": "{}",
         "name": "cg_mobility",
         "type": "\"double\""
        },
        {
         "metadata": "{}",
         "name": "ch_mobility",
         "type": "\"double\""
        },
        {
         "metadata": "{}",
         "name": "com_mobility",
         "type": "\"double\""
        },
        {
         "metadata": "{}",
         "name": "cp_mobility",
         "type": "\"double\""
        },
        {
         "metadata": "{}",
         "name": "cr_mobility",
         "type": "\"double\""
        },
        {
         "metadata": "{}",
         "name": "cs_mobility",
         "type": "\"double\""
        },
        {
         "metadata": "{}",
         "name": "cu_mobility",
         "type": "\"double\""
        },
        {
         "metadata": "{}",
         "name": "de_mobility",
         "type": "\"double\""
        },
        {
         "metadata": "{}",
         "name": "dp_mobility",
         "type": "\"double\""
        },
        {
         "metadata": "{}",
         "name": "eo_mobility",
         "type": "\"double\""
        },
        {
         "metadata": "{}",
         "name": "ep_mobility",
         "type": "\"double\""
        },
        {
         "metadata": "{}",
         "name": "eu_mobility",
         "type": "\"double\""
        },
        {
         "metadata": "{}",
         "name": "fej_mobility",
         "type": "\"double\""
        },
        {
         "metadata": "{}",
         "name": "fl_mobility",
         "type": "\"double\""
        },
        {
         "metadata": "{}",
         "name": "fo_mobility",
         "type": "\"double\""
        },
        {
         "metadata": "{}",
         "name": "fr_mobility",
         "type": "\"double\""
        },
        {
         "metadata": "{}",
         "name": "go_mobility",
         "type": "\"double\""
        },
        {
         "metadata": "{}",
         "name": "ha_mobility",
         "type": "\"double\""
        },
        {
         "metadata": "{}",
         "name": "hal_mobility",
         "type": "\"double\""
        },
        {
         "metadata": "{}",
         "name": "hb_mobility",
         "type": "\"double\""
        },
        {
         "metadata": "{}",
         "name": "hc_mobility",
         "type": "\"double\""
        },
        {
         "metadata": "{}",
         "name": "hl_mobility",
         "type": "\"double\""
        },
        {
         "metadata": "{}",
         "name": "ii_mobility",
         "type": "\"double\""
        },
        {
         "metadata": "{}",
         "name": "io_mobility",
         "type": "\"double\""
        },
        {
         "metadata": "{}",
         "name": "ir_mobility",
         "type": "\"double\""
        },
        {
         "metadata": "{}",
         "name": "jde_mobility",
         "type": "\"double\""
        },
        {
         "metadata": "{}",
         "name": "jm_mobility",
         "type": "\"double\""
        },
        {
         "metadata": "{}",
         "name": "kb_mobility",
         "type": "\"double\""
        },
        {
         "metadata": "{}",
         "name": "kw_mobility",
         "type": "\"double\""
        },
        {
         "metadata": "{}",
         "name": "lc_mobility",
         "type": "\"double\""
        },
        {
         "metadata": "{}",
         "name": "lcom_mobility",
         "type": "\"double\""
        },
        {
         "metadata": "{}",
         "name": "li_mobility",
         "type": "\"double\""
        },
        {
         "metadata": "{}",
         "name": "ln_mobility",
         "type": "\"double\""
        },
        {
         "metadata": "{}",
         "name": "lo_mobility",
         "type": "\"double\""
        },
        {
         "metadata": "{}",
         "name": "ls_mobility",
         "type": "\"double\""
        },
        {
         "metadata": "{}",
         "name": "lss_mobility",
         "type": "\"double\""
        },
        {
         "metadata": "{}",
         "name": "lu_mobility",
         "type": "\"double\""
        },
        {
         "metadata": "{}",
         "name": "ly_mobility",
         "type": "\"double\""
        },
        {
         "metadata": "{}",
         "name": "lz_mobility",
         "type": "\"double\""
        },
        {
         "metadata": "{}",
         "name": "mc_mobility",
         "type": "\"double\""
        },
        {
         "metadata": "{}",
         "name": "mr_mobility",
         "type": "\"double\""
        },
        {
         "metadata": "{}",
         "name": "ms_mobility",
         "type": "\"double\""
        },
        {
         "metadata": "{}",
         "name": "mse_mobility",
         "type": "\"double\""
        },
        {
         "metadata": "{}",
         "name": "ol_mobility",
         "type": "\"double\""
        },
        {
         "metadata": "{}",
         "name": "ow_mobility",
         "type": "\"double\""
        },
        {
         "metadata": "{}",
         "name": "pa_mobility",
         "type": "\"double\""
        },
        {
         "metadata": "{}",
         "name": "pc_mobility",
         "type": "\"double\""
        },
        {
         "metadata": "{}",
         "name": "pe_mobility",
         "type": "\"double\""
        },
        {
         "metadata": "{}",
         "name": "pem_mobility",
         "type": "\"double\""
        },
        {
         "metadata": "{}",
         "name": "pg_mobility",
         "type": "\"double\""
        },
        {
         "metadata": "{}",
         "name": "ph_mobility",
         "type": "\"double\""
        },
        {
         "metadata": "{}",
         "name": "pi_mobility",
         "type": "\"double\""
        },
        {
         "metadata": "{}",
         "name": "pl_mobility",
         "type": "\"double\""
        },
        {
         "metadata": "{}",
         "name": "po_mobility",
         "type": "\"double\""
        },
        {
         "metadata": "{}",
         "name": "pp_mobility",
         "type": "\"double\""
        },
        {
         "metadata": "{}",
         "name": "ppl_mobility",
         "type": "\"double\""
        },
        {
         "metadata": "{}",
         "name": "ps_mobility",
         "type": "\"double\""
        },
        {
         "metadata": "{}",
         "name": "pt_mobility",
         "type": "\"double\""
        },
        {
         "metadata": "{}",
         "name": "py_mobility",
         "type": "\"double\""
        },
        {
         "metadata": "{}",
         "name": "pyr_mobility",
         "type": "\"double\""
        },
        {
         "metadata": "{}",
         "name": "ra_mobility",
         "type": "\"double\""
        },
        {
         "metadata": "{}",
         "name": "rb_mobility",
         "type": "\"double\""
        },
        {
         "metadata": "{}",
         "name": "rh_mobility",
         "type": "\"double\""
        },
        {
         "metadata": "{}",
         "name": "ro_mobility",
         "type": "\"double\""
        },
        {
         "metadata": "{}",
         "name": "ru_mobility",
         "type": "\"double\""
        },
        {
         "metadata": "{}",
         "name": "rw_mobility",
         "type": "\"double\""
        },
        {
         "metadata": "{}",
         "name": "sa_mobility",
         "type": "\"double\""
        },
        {
         "metadata": "{}",
         "name": "sb_mobility",
         "type": "\"double\""
        },
        {
         "metadata": "{}",
         "name": "sc_mobility",
         "type": "\"double\""
        },
        {
         "metadata": "{}",
         "name": "scom_mobility",
         "type": "\"double\""
        },
        {
         "metadata": "{}",
         "name": "sd_mobility",
         "type": "\"double\""
        },
        {
         "metadata": "{}",
         "name": "se_mobility",
         "type": "\"double\""
        },
        {
         "metadata": "{}",
         "name": "sec_mobility",
         "type": "\"double\""
        },
        {
         "metadata": "{}",
         "name": "sh_mobility",
         "type": "\"double\""
        },
        {
         "metadata": "{}",
         "name": "shc_mobility",
         "type": "\"double\""
        },
        {
         "metadata": "{}",
         "name": "sl_mobility",
         "type": "\"double\""
        },
        {
         "metadata": "{}",
         "name": "sm_mobility",
         "type": "\"double\""
        },
        {
         "metadata": "{}",
         "name": "spo_mobility",
         "type": "\"double\""
        },
        {
         "metadata": "{}",
         "name": "sq_mobility",
         "type": "\"double\""
        },
        {
         "metadata": "{}",
         "name": "ss_mobility",
         "type": "\"double\""
        },
        {
         "metadata": "{}",
         "name": "st_mobility",
         "type": "\"double\""
        },
        {
         "metadata": "{}",
         "name": "te_mobility",
         "type": "\"double\""
        },
        {
         "metadata": "{}",
         "name": "th_mobility",
         "type": "\"double\""
        },
        {
         "metadata": "{}",
         "name": "ti_mobility",
         "type": "\"double\""
        },
        {
         "metadata": "{}",
         "name": "tr_mobility",
         "type": "\"double\""
        },
        {
         "metadata": "{}",
         "name": "unkss_mobility",
         "type": "\"double\""
        },
        {
         "metadata": "{}",
         "name": "vm_mobility",
         "type": "\"double\""
        },
        {
         "metadata": "{}",
         "name": "vr_mobility",
         "type": "\"double\""
        },
        {
         "metadata": "{}",
         "name": "vs_mobility",
         "type": "\"double\""
        },
        {
         "metadata": "{}",
         "name": "wfs_mobility",
         "type": "\"double\""
        },
        {
         "metadata": "{}",
         "name": "xl_mobility",
         "type": "\"double\""
        },
        {
         "metadata": "{}",
         "name": "ye_mobility",
         "type": "\"double\""
        },
        {
         "metadata": "{}",
         "name": "za_mobility",
         "type": "\"double\""
        },
        {
         "metadata": "{}",
         "name": "mean_oxygen",
         "type": "\"double\""
        },
        {
         "metadata": "{}",
         "name": "stddev_oxygen",
         "type": "\"double\""
        }
       ],
       "type": "table"
      }
     },
     "output_type": "display_data"
    }
   ],
   "source": [
    "# List of non-species columns\n",
    "non_species_columns = ['DateTime', 'Easting', 'Northing', 'Depth', 'Temp', 'Sal', 'Oxy', 'Grain', 'Bedform', 'Habitat']\n",
    "\n",
    "# Identify species columns in rov_df\n",
    "species_columns = [col for col in rov_df.columns if col not in non_species_columns]\n",
    "\n",
    "# Build the aggregation expressions for species abundance\n",
    "agg_exprs = [_sum(col(species)).alias(species) for species in species_columns]\n",
    "\n",
    "# Aggregate species counts by habitat\n",
    "species_abundance_by_habitat = rov_df.groupBy(\"Habitat\").agg(*agg_exprs)\n",
    "\n",
    "# Calculate mean and standard deviation of oxygen levels by habitat\n",
    "oxygen_stats_by_habitat = rov_df.groupBy(\"Habitat\").agg(\n",
    "    mean(\"Oxy\").alias(\"mean_oxygen\"),\n",
    "    stddev(\"Oxy\").alias(\"stddev_oxygen\")\n",
    ")\n",
    "\n",
    "# Join species abundance with oxygen stats\n",
    "abundance_oxygen_stats = species_abundance_by_habitat.join(oxygen_stats_by_habitat, \"Habitat\")\n",
    "\n",
    "# Show the combined stats\n",
    "abundance_oxygen_stats.display()"
   ]
  },
  {
   "cell_type": "code",
   "execution_count": null,
   "metadata": {
    "application/vnd.databricks.v1+cell": {
     "cellMetadata": {
      "byteLimit": 2048000,
      "rowLimit": 10000
     },
     "inputWidgets": {},
     "nuid": "1ba7585b-e4ec-4ad4-9e01-d27c302a7feb",
     "showTitle": false,
     "title": ""
    }
   },
   "outputs": [
    {
     "data": {
      "image/png": "[encoded data removed]"
     },
     "metadata": {
      "application/vnd.databricks.v1+output": {
       "addedWidgets": {},
       "arguments": {},
       "data": "data:image/png;base64,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\n",
       "datasetInfos": [],
       "metadata": {},
       "removedWidgets": [],
       "type": "image"
      }
     },
     "output_type": "display_data"
    }
   ],
   "source": [
    "# List of non-species columns\n",
    "non_species_columns = ['DateTime', 'Easting', 'Northing', 'Depth', 'Temp', 'Sal', 'Oxy', 'Grain', 'Bedform', 'Habitat']\n",
    "\n",
    "# Identify species columns in rov_df\n",
    "species_columns = [col for col in rov_df.columns if col not in non_species_columns]\n",
    "\n",
    "# Build the aggregation expressions for species abundance\n",
    "agg_exprs = [_sum(col(species)).alias(species) for species in species_columns]\n",
    "\n",
    "# Aggregate species counts by habitat\n",
    "species_abundance_by_habitat = rov_df.groupBy(\"Habitat\").agg(*agg_exprs)\n",
    "\n",
    "# Calculate mean and standard deviation of oxygen levels by habitat\n",
    "oxygen_stats_by_habitat = rov_df.groupBy(\"Habitat\").agg(\n",
    "    mean(\"Oxy\").alias(\"mean_oxygen\"),\n",
    "    stddev(\"Oxy\").alias(\"stddev_oxygen\")\n",
    ")\n",
    "\n",
    "# Join species abundance with oxygen stats\n",
    "abundance_oxygen_stats = species_abundance_by_habitat.join(oxygen_stats_by_habitat, \"Habitat\")\n",
    "\n",
    "# Convert to Pandas DataFrame for plotting\n",
    "abundance_oxygen_stats_pandas = abundance_oxygen_stats.toPandas()\n",
    "\n",
    "# Filter out the \"other\" habitat, assuming \"Other\" is the label\n",
    "abundance_oxygen_stats_pandas = abundance_oxygen_stats_pandas[abundance_oxygen_stats_pandas['Habitat'] != 'Other']\n",
    "\n",
    "# Select a subset of species columns for better clarity\n",
    "subset_species_columns = species_columns[:5]  # Adjust the number as needed\n",
    "\n",
    "# Plotting species abundance and oxygen statistics for the subset\n",
    "fig, ax1 = plt.subplots(figsize=(14, 8))\n",
    "\n",
    "# Bar plot for species abundance by habitat\n",
    "abundance_oxygen_stats_pandas.set_index('Habitat')[subset_species_columns].plot(kind='bar', stacked=True, ax=ax1, colormap='viridis')\n",
    "\n",
    "ax1.set_ylabel('Species Abundance')\n",
    "ax1.set_xlabel('Habitat')\n",
    "ax1.set_title('Species Abundance by Habitat and Oxygen Levels')\n",
    "\n",
    "# Line plot for mean oxygen levels by habitat\n",
    "ax2 = ax1.twinx()\n",
    "abundance_oxygen_stats_pandas.set_index('Habitat')['mean_oxygen'].plot(kind='line', color='red', marker='o', ax=ax2, linewidth=2)\n",
    "\n",
    "ax2.set_ylabel('Mean Oxygen Level')\n",
    "ax2.set_ylim(0, abundance_oxygen_stats_pandas['mean_oxygen'].max() * 1.2)\n",
    "\n",
    "plt.show()"
   ]
  },
  {
   "cell_type": "markdown",
   "metadata": {
    "application/vnd.databricks.v1+cell": {
     "cellMetadata": {},
     "inputWidgets": {},
     "nuid": "423cf4cc-243d-4747-bd30-c408fea5150c",
     "showTitle": false,
     "title": ""
    }
   },
   "source": [
    "There is no clear direct correlation between species abundance and mean oxygen levels based on this chart alone. The habitat with the highest species abundance does not have the highest mean oxygen level, suggesting other factors might influence species distribution and abundance."
   ]
  }
 ],
 "metadata": {
  "application/vnd.databricks.v1+notebook": {
   "dashboards": [],
   "environmentMetadata": null,
   "language": "python",
   "notebookMetadata": {
    "mostRecentlyExecutedCommandWithImplicitDF": {
     "commandId": 3527630710218995,
     "dataframes": [
      "_sqldf"
     ]
    },
    "pythonIndentUnit": 4
   },
   "notebookName": "megafauna-transformation",
   "widgets": {}
  },
  "kernelspec": {
   "display_name": "Python 3 (ipykernel)",
   "language": "python",
   "name": "python3"
  },
  "language_info": {
   "codemirror_mode": {
    "name": "ipython",
    "version": 3
   },
   "file_extension": ".py",
   "mimetype": "text/x-python",
   "name": "python",
   "nbconvert_exporter": "python",
   "pygments_lexer": "ipython3",
   "version": "3.11.7"
  }
 },
 "nbformat": 4,
 "nbformat_minor": 4
}
